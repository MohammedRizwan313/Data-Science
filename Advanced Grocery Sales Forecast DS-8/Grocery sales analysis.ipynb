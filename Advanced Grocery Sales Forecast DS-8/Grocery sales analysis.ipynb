{
 "cells": [
  {
   "attachments": {},
   "cell_type": "markdown",
   "metadata": {},
   "source": [
    "#### Machine Hack - Sales Forcasting"
   ]
  },
  {
   "attachments": {},
   "cell_type": "markdown",
   "metadata": {},
   "source": [
    "###### About Data \n",
    "\n",
    "Sales forecasting has always been one of the most predominant applications of machine learning. Big companies like Walmart have been employing this technique to achieve steady and enormous growth over decades now. In this challenge, you as a data scientist must use machine learning to help a small grocery store in predicting its future sales and making better business decisions.\n",
    "\n",
    "Given the daily sales of a grocery shop recorded over a period of almost 2 years, your objective as a data scientist is to build a machine learning model that can forecast the sales for the upcoming 3 months."
   ]
  },
  {
   "cell_type": "code",
   "execution_count": 1,
   "metadata": {},
   "outputs": [
    {
     "name": "stderr",
     "output_type": "stream",
     "text": [
      "<frozen importlib._bootstrap>:228: RuntimeWarning: scipy._lib.messagestream.MessageStream size changed, may indicate binary incompatibility. Expected 56 from C header, got 64 from PyObject\n"
     ]
    }
   ],
   "source": [
    "#importing libraries\n",
    "import pandas as pd\n",
    "import numpy as np\n",
    "from scipy import stats\n",
    "from scipy.stats import kurtosistest\n",
    "\n",
    "import plotly.express as px\n",
    "import matplotlib.pyplot as plt\n",
    "import seaborn as sns\n",
    "from pandas.plotting import scatter_matrix\n",
    "import warnings\n",
    "\n",
    "%matplotlib inline\n",
    "warnings.simplefilter(\"ignore\")"
   ]
  },
  {
   "cell_type": "code",
   "execution_count": 3,
   "metadata": {},
   "outputs": [],
   "source": [
    "#reading the data\n",
    "train = pd.read_csv(\"Train.csv\")\n",
    "test = pd.read_csv(\"Test.csv\")"
   ]
  },
  {
   "cell_type": "code",
   "execution_count": 4,
   "metadata": {},
   "outputs": [
    {
     "name": "stdout",
     "output_type": "stream",
     "text": [
      "   Day  GrocerySales\n",
      "0    1       8418.59\n",
      "1    2       8447.47\n",
      "**************************************************\n",
      "Day             0\n",
      "GrocerySales    0\n",
      "dtype: int64\n",
      "**************************************************\n",
      "The shape of Train Dataset is: (692, 2)\n"
     ]
    }
   ],
   "source": [
    "#checking on the basic\n",
    "print(train.head(2))\n",
    "print(\"*\"*50)\n",
    "print(train.isnull().sum())\n",
    "print(\"*\"*50)\n",
    "print(\"The shape of Train Dataset is:\",train.shape)"
   ]
  },
  {
   "cell_type": "code",
   "execution_count": 5,
   "metadata": {},
   "outputs": [
    {
     "data": {
      "text/html": [
       "<div>\n",
       "<style scoped>\n",
       "    .dataframe tbody tr th:only-of-type {\n",
       "        vertical-align: middle;\n",
       "    }\n",
       "\n",
       "    .dataframe tbody tr th {\n",
       "        vertical-align: top;\n",
       "    }\n",
       "\n",
       "    .dataframe thead th {\n",
       "        text-align: right;\n",
       "    }\n",
       "</style>\n",
       "<table border=\"1\" class=\"dataframe\">\n",
       "  <thead>\n",
       "    <tr style=\"text-align: right;\">\n",
       "      <th></th>\n",
       "      <th>Day</th>\n",
       "      <th>GrocerySales</th>\n",
       "    </tr>\n",
       "  </thead>\n",
       "  <tbody>\n",
       "    <tr>\n",
       "      <th>count</th>\n",
       "      <td>692.000000</td>\n",
       "      <td>692.000000</td>\n",
       "    </tr>\n",
       "    <tr>\n",
       "      <th>mean</th>\n",
       "      <td>346.500000</td>\n",
       "      <td>8564.733471</td>\n",
       "    </tr>\n",
       "    <tr>\n",
       "      <th>std</th>\n",
       "      <td>199.907479</td>\n",
       "      <td>428.815668</td>\n",
       "    </tr>\n",
       "    <tr>\n",
       "      <th>min</th>\n",
       "      <td>1.000000</td>\n",
       "      <td>6766.370000</td>\n",
       "    </tr>\n",
       "    <tr>\n",
       "      <th>25%</th>\n",
       "      <td>173.750000</td>\n",
       "      <td>8411.536858</td>\n",
       "    </tr>\n",
       "    <tr>\n",
       "      <th>50%</th>\n",
       "      <td>346.500000</td>\n",
       "      <td>8677.770000</td>\n",
       "    </tr>\n",
       "    <tr>\n",
       "      <th>75%</th>\n",
       "      <td>519.250000</td>\n",
       "      <td>8852.387500</td>\n",
       "    </tr>\n",
       "    <tr>\n",
       "      <th>max</th>\n",
       "      <td>692.000000</td>\n",
       "      <td>9290.020000</td>\n",
       "    </tr>\n",
       "  </tbody>\n",
       "</table>\n",
       "</div>"
      ],
      "text/plain": [
       "              Day  GrocerySales\n",
       "count  692.000000    692.000000\n",
       "mean   346.500000   8564.733471\n",
       "std    199.907479    428.815668\n",
       "min      1.000000   6766.370000\n",
       "25%    173.750000   8411.536858\n",
       "50%    346.500000   8677.770000\n",
       "75%    519.250000   8852.387500\n",
       "max    692.000000   9290.020000"
      ]
     },
     "execution_count": 5,
     "metadata": {},
     "output_type": "execute_result"
    }
   ],
   "source": [
    "train.describe()"
   ]
  },
  {
   "attachments": {},
   "cell_type": "markdown",
   "metadata": {},
   "source": [
    "### Pre-processing and Cleansing the Data"
   ]
  },
  {
   "cell_type": "code",
   "execution_count": 6,
   "metadata": {},
   "outputs": [
    {
     "name": "stdout",
     "output_type": "stream",
     "text": [
      "p = 3.705e-33\n",
      "Data Not Normalize\n"
     ]
    }
   ],
   "source": [
    "#checking normality of data\n",
    "k2, p = stats.normaltest(train['GrocerySales'])\n",
    "alpha = 1e-3\n",
    "print(\"p = {:g}\".format(p))\n",
    "p = 3.27207e-11\n",
    "if p < alpha:  # null hypothesis: x comes from a normal distribution\n",
    "    print(\"Data Not Normalize\")\n",
    "else:\n",
    "    print(\"Data Noramlize\")"
   ]
  },
  {
   "cell_type": "code",
   "execution_count": 7,
   "metadata": {},
   "outputs": [
    {
     "data": {
      "text/html": [
       "<style type=\"text/css\">\n",
       "#T_b7e71_row0_col0, #T_b7e71_row1_col1 {\n",
       "  background-color: #b40426;\n",
       "  color: #f1f1f1;\n",
       "}\n",
       "#T_b7e71_row0_col1, #T_b7e71_row1_col0 {\n",
       "  background-color: #3b4cc0;\n",
       "  color: #f1f1f1;\n",
       "}\n",
       "</style>\n",
       "<table id=\"T_b7e71\">\n",
       "  <thead>\n",
       "    <tr>\n",
       "      <th class=\"blank level0\" >&nbsp;</th>\n",
       "      <th id=\"T_b7e71_level0_col0\" class=\"col_heading level0 col0\" >Day</th>\n",
       "      <th id=\"T_b7e71_level0_col1\" class=\"col_heading level0 col1\" >GrocerySales</th>\n",
       "    </tr>\n",
       "  </thead>\n",
       "  <tbody>\n",
       "    <tr>\n",
       "      <th id=\"T_b7e71_level0_row0\" class=\"row_heading level0 row0\" >Day</th>\n",
       "      <td id=\"T_b7e71_row0_col0\" class=\"data row0 col0\" >1.000000</td>\n",
       "      <td id=\"T_b7e71_row0_col1\" class=\"data row0 col1\" >0.499172</td>\n",
       "    </tr>\n",
       "    <tr>\n",
       "      <th id=\"T_b7e71_level0_row1\" class=\"row_heading level0 row1\" >GrocerySales</th>\n",
       "      <td id=\"T_b7e71_row1_col0\" class=\"data row1 col0\" >0.499172</td>\n",
       "      <td id=\"T_b7e71_row1_col1\" class=\"data row1 col1\" >1.000000</td>\n",
       "    </tr>\n",
       "  </tbody>\n",
       "</table>\n"
      ],
      "text/plain": [
       "<pandas.io.formats.style.Styler at 0x22d5bb3d070>"
      ]
     },
     "execution_count": 7,
     "metadata": {},
     "output_type": "execute_result"
    }
   ],
   "source": [
    "#correlation comparison \n",
    "corr = train.corr()\n",
    "corr.style.background_gradient(cmap='coolwarm')"
   ]
  },
  {
   "cell_type": "code",
   "execution_count": 8,
   "metadata": {},
   "outputs": [
    {
     "data": {
      "image/png": "[encoded data removed]",
      "text/plain": [
       "<Figure size 640x480 with 4 Axes>"
      ]
     },
     "metadata": {},
     "output_type": "display_data"
    }
   ],
   "source": [
    "#scatter matrix\n",
    "scatter_matrix(train)\n",
    "plt.show()"
   ]
  },
  {
   "cell_type": "code",
   "execution_count": 9,
   "metadata": {},
   "outputs": [
    {
     "data": {
      "text/plain": [
       "<Axes: xlabel='variable', ylabel='value'>"
      ]
     },
     "execution_count": 9,
     "metadata": {},
     "output_type": "execute_result"
    },
    {
     "data": {
      "image/png": "[encoded data removed]",
      "text/plain": [
       "<Figure size 500x500 with 1 Axes>"
      ]
     },
     "metadata": {},
     "output_type": "display_data"
    }
   ],
   "source": [
    "#checking on outliers\n",
    "plt.figure(figsize=(5,5))\n",
    "sns.boxplot(x= 'variable', y = 'value', data = pd.melt(train[['GrocerySales']]))"
   ]
  },
  {
   "cell_type": "code",
   "execution_count": 10,
   "metadata": {},
   "outputs": [
    {
     "data": {
      "application/vnd.plotly.v1+json": {
       "config": {
        "plotlyServerURL": "https://plot.ly"
       },
       "data": [
        {
         "branchvalues": "total",
         "customdata": [
          [
           119,
           6766.37,
           6766.37
          ],
          [
           120,
           6777.93,
           6777.93
          ],
          [
           117,
           6895.51,
           6895.51
          ],
          [
           118,
           7028.23,
           7028.23
          ],
          [
           114,
           7042.67,
           7042.67
          ],
          [
           115,
           7186.41,
           7186.41
          ],
          [
           289,
           7271.8,
           7271.8
          ],
          [
           108,
           7286.52,
           7286.52
          ],
          [
           116,
           7333.94,
           7333.94
          ],
          [
           50,
           7365.83,
           7365.83
          ],
          [
           53,
           7386.67,
           7386.67
          ],
          [
           51,
           7396.36,
           7396.36
          ],
          [
           201,
           7401.9,
           7401.9
          ],
          [
           198,
           7408.77,
           7408.77
          ],
          [
           113,
           7426.04,
           7426.04
          ],
          [
           299,
           7475.93,
           7475.93
          ],
          [
           49,
           7498.810000000001,
           7498.810000000001
          ],
          [
           209,
           7503.090000000001,
           7503.090000000001
          ],
          [
           52,
           7507.75,
           7507.75
          ],
          [
           111,
           7509.97,
           7509.97
          ],
          [
           208,
           7511.839999999999,
           7511.839999999999
          ],
          [
           104,
           7543.56,
           7543.56
          ],
          [
           202,
           7549.030000000001,
           7549.030000000001
          ],
          [
           296,
           7584.6,
           7584.6
          ],
          [
           298,
           7590.11,
           7590.11
          ],
          [
           203,
           7597.330000000001,
           7597.330000000001
          ],
          [
           103,
           7608.99,
           7608.99
          ],
          [
           288,
           7611.92,
           7611.92
          ],
          [
           286,
           7614.19,
           7614.19
          ],
          [
           101,
           7627.04,
           7627.04
          ],
          [
           297,
           7629.119999999999,
           7629.119999999999
          ],
          [
           210,
           7637.55,
           7637.55
          ],
          [
           302,
           7638.23,
           7638.23
          ],
          [
           205,
           7640.1,
           7640.1
          ],
          [
           107,
           7645.900000000001,
           7645.900000000001
          ],
          [
           132,
           7652.93,
           7652.93
          ],
          [
           206,
           7662.78,
           7662.78
          ],
          [
           48,
           7668.63,
           7668.63
          ],
          [
           102,
           7671,
           7671
          ],
          [
           292,
           7674.61,
           7674.61
          ],
          [
           112,
           7677.09,
           7677.09
          ],
          [
           197,
           7679.54,
           7679.54
          ],
          [
           199,
           7680.49,
           7680.49
          ],
          [
           110,
           7690.65,
           7690.65
          ],
          [
           106,
           7690.740000000001,
           7690.740000000001
          ],
          [
           301,
           7691.300000000001,
           7691.300000000001
          ],
          [
           109,
           7726.48,
           7726.48
          ],
          [
           293,
           7732.23,
           7732.23
          ],
          [
           192,
           7742.26,
           7742.26
          ],
          [
           105,
           7742.56,
           7742.56
          ],
          [
           100,
           7773.4,
           7773.4
          ],
          [
           290,
           7776.22,
           7776.22
          ],
          [
           131,
           7777.79,
           7777.79
          ],
          [
           193,
           7787.02,
           7787.02
          ],
          [
           47,
           7789.31,
           7789.31
          ],
          [
           46,
           7789.55,
           7789.55
          ],
          [
           44,
           7791.16,
           7791.16
          ],
          [
           287,
           7802.72,
           7802.72
          ],
          [
           300,
           7810.370000000001,
           7810.370000000001
          ],
          [
           98,
           7818.88,
           7818.88
          ],
          [
           133,
           7819.490000000001,
           7819.490000000001
          ],
          [
           200,
           7822.24,
           7822.24
          ],
          [
           188,
           7826.22,
           7826.22
          ],
          [
           129,
           7827.990000000001,
           7827.990000000001
          ],
          [
           294,
           7857.43,
           7857.43
          ],
          [
           42,
           7857.489999999999,
           7857.489999999999
          ],
          [
           41,
           7861.130000000001,
           7861.130000000001
          ],
          [
           43,
           7861.880000000001,
           7861.880000000001
          ],
          [
           190,
           7863.659999999999,
           7863.659999999999
          ],
          [
           45,
           7870.36,
           7870.36
          ],
          [
           204,
           7876.87,
           7876.87
          ],
          [
           207,
           7880.89,
           7880.89
          ],
          [
           222,
           7895.52,
           7895.52
          ],
          [
           291,
           7899.29,
           7899.29
          ],
          [
           99,
           7901.22,
           7901.22
          ],
          [
           279,
           7906.48,
           7906.48
          ],
          [
           189,
           7931.52,
           7931.52
          ],
          [
           195,
           7956.01,
           7956.01
          ],
          [
           40,
           7967.5,
           7967.5
          ],
          [
           128,
           7984.16,
           7984.16
          ],
          [
           280,
           7991.06,
           7991.06
          ],
          [
           130,
           7998.88,
           7998.88
          ],
          [
           191,
           8000.13,
           8000.13
          ],
          [
           281,
           8005.05,
           8005.05
          ],
          [
           35,
           8005.84,
           8005.84
          ],
          [
           66,
           8033.41,
           8033.41
          ],
          [
           219,
           8038.669999999999,
           8038.669999999999
          ],
          [
           550,
           8041.109999999999,
           8041.109999999999
          ],
          [
           549,
           8043.32,
           8043.32
          ],
          [
           224,
           8049.87,
           8049.87
          ],
          [
           63,
           8060.37,
           8060.37
          ],
          [
           122,
           8067.01,
           8067.01
          ],
          [
           223,
           8071.06,
           8071.06
          ],
          [
           65,
           8073.39,
           8073.39
          ],
          [
           126,
           8097.23,
           8097.23
          ],
          [
           283,
           8099.220000000001,
           8099.220000000001
          ],
          [
           307,
           8103.98,
           8103.98
          ],
          [
           186,
           8113.34,
           8113.34
          ],
          [
           127,
           8113.46,
           8113.46
          ],
          [
           196,
           8117.72,
           8117.72
          ],
          [
           194,
           8123.329999999999,
           8123.329999999999
          ],
          [
           67,
           8130.92,
           8130.92
          ],
          [
           121,
           8140.23,
           8140.23
          ],
          [
           215,
           8156.05,
           8156.05
          ],
          [
           124,
           8160.22,
           8160.22
          ],
          [
           220,
           8161.51,
           8161.51
          ],
          [
           213,
           8162.21,
           8162.21
          ],
          [
           282,
           8163.58,
           8163.58
          ],
          [
           221,
           8168.700000000001,
           8168.700000000001
          ],
          [
           187,
           8172.61,
           8172.61
          ],
          [
           278,
           8177.73,
           8177.73
          ],
          [
           217,
           8180.43,
           8180.43
          ],
          [
           303,
           8195.05,
           8195.05
          ],
          [
           316,
           8203.63,
           8203.63
          ],
          [
           319,
           8204.11,
           8204.11
          ],
          [
           214,
           8206.11,
           8206.11
          ],
          [
           305,
           8210.79,
           8210.79
          ],
          [
           62,
           8220.62,
           8220.62
          ],
          [
           537,
           8220.67,
           8220.67
          ],
          [
           97,
           8225.72,
           8225.72
          ],
          [
           125,
           8234.93,
           8234.93
          ],
          [
           185,
           8242.29,
           8242.29
          ],
          [
           315,
           8251.72,
           8251.72
          ],
          [
           38,
           8259.88,
           8259.88
          ],
          [
           64,
           8264.02,
           8264.02
          ],
          [
           36,
           8269.73,
           8269.73
          ],
          [
           306,
           8270.18,
           8270.18
          ],
          [
           323,
           8275.93,
           8275.93
          ],
          [
           542,
           8277.67,
           8277.67
          ],
          [
           499,
           8279.12,
           8279.12
          ],
          [
           309,
           8290.61,
           8290.61
          ],
          [
           123,
           8290.87,
           8290.87
          ],
          [
           548,
           8295.04,
           8295.04
          ],
          [
           96,
           8298.53,
           8298.53
          ],
          [
           495,
           8305.02,
           8305.02
          ],
          [
           95,
           8305.75,
           8305.75
          ],
          [
           440,
           8308.05,
           8308.05
          ],
          [
           539,
           8312.23,
           8312.23
          ],
          [
           8,
           8313.53,
           8313.53
          ],
          [
           216,
           8315.46,
           8315.46
          ],
          [
           535,
           8317.56,
           8317.56
          ],
          [
           7,
           8320.11,
           8320.11
          ],
          [
           284,
           8326.14,
           8326.14
          ],
          [
           31,
           8326.74,
           8326.74
          ],
          [
           34,
           8330,
           8330
          ],
          [
           29,
           8333.17,
           8333.17
          ],
          [
           310,
           8335.76,
           8335.76
          ],
          [
           3,
           8336.49,
           8336.49
          ],
          [
           226,
           8342.68,
           8342.68
          ],
          [
           28,
           8343.63,
           8343.63
          ],
          [
           228,
           8345.97,
           8345.97
          ],
          [
           12,
           8354.63,
           8354.63
          ],
          [
           143,
           8357.45,
           8357.45
          ],
          [
           134,
           8357.5,
           8357.5
          ],
          [
           218,
           8358.79,
           8358.79
          ],
          [
           317,
           8363.47,
           8363.47
          ],
          [
           322,
           8372.3,
           8372.3
          ],
          [
           441,
           8381.28,
           8381.28
          ],
          [
           27,
           8383.21,
           8383.21
          ],
          [
           237,
           8383.98,
           8383.98
          ],
          [
           235,
           8384.01,
           8384.01
          ],
          [
           183,
           8384.2,
           8384.2
          ],
          [
           37,
           8385.14,
           8385.14
          ],
          [
           399,
           8386.07,
           8386.07
          ],
          [
           505,
           8393.07,
           8393.07
          ],
          [
           246,
           8395.267433004232,
           8395.267433004232
          ],
          [
           227,
           8395.88,
           8395.88
          ],
          [
           181,
           8396.13,
           8396.13
          ],
          [
           157,
           8398.60743300423,
           8398.60743300423
          ],
          [
           273,
           8403.79743300423,
           8403.79743300423
          ],
          [
           241,
           8404.017433004232,
           8404.017433004232
          ],
          [
           486,
           8407.807433004231,
           8407.807433004231
          ],
          [
           150,
           8410.477433004231,
           8410.477433004231
          ],
          [
           39,
           8411.89,
           8411.89
          ],
          [
           538,
           8412.62,
           8412.62
          ],
          [
           541,
           8415.2,
           8415.2
          ],
          [
           533,
           8417.71,
           8417.71
          ],
          [
           250,
           8418.227433004231,
           8418.227433004231
          ],
          [
           1,
           8418.59,
           8418.59
          ],
          [
           488,
           8422.68743300423,
           8422.68743300423
          ],
          [
           231,
           8425.69,
           8425.69
          ],
          [
           255,
           8425.87743300423,
           8425.87743300423
          ],
          [
           242,
           8426.927433004232,
           8426.927433004232
          ],
          [
           304,
           8429.84,
           8429.84
          ],
          [
           308,
           8429.96,
           8429.96
          ],
          [
           233,
           8433.31,
           8433.31
          ],
          [
           432,
           8436.27,
           8436.27
          ],
          [
           158,
           8438.427433004232,
           8438.427433004232
          ],
          [
           534,
           8438.75,
           8438.75
          ],
          [
           184,
           8442.21,
           8442.21
          ],
          [
           528,
           8442.83,
           8442.83
          ],
          [
           339,
           8444.97,
           8444.97
          ],
          [
           234,
           8447.27,
           8447.27
          ],
          [
           2,
           8447.47,
           8447.47
          ],
          [
           147,
           8447.78743300423,
           8447.78743300423
          ],
          [
           245,
           8448.927433004232,
           8448.927433004232
          ],
          [
           515,
           8450.04,
           8450.04
          ],
          [
           18,
           8450.51,
           8450.51
          ],
          [
           526,
           8452.32,
           8452.32
          ],
          [
           408,
           8453.35,
           8453.35
          ],
          [
           407,
           8453.69,
           8453.69
          ],
          [
           240,
           8455.85743300423,
           8455.85743300423
          ],
          [
           225,
           8456.51,
           8456.51
          ],
          [
           506,
           8458.74,
           8458.74
          ],
          [
           332,
           8460.05,
           8460.05
          ],
          [
           9,
           8461.34,
           8461.34
          ],
          [
           546,
           8462.77,
           8462.77
          ],
          [
           144,
           8463.36,
           8463.36
          ],
          [
           135,
           8466.65,
           8466.65
          ],
          [
           431,
           8468.16,
           8468.16
          ],
          [
           252,
           8469.737433004231,
           8469.737433004231
          ],
          [
           212,
           8471.18,
           8471.18
          ],
          [
           509,
           8472.15,
           8472.15
          ],
          [
           311,
           8473.26,
           8473.26
          ],
          [
           547,
           8473.36,
           8473.36
          ],
          [
           230,
           8476.75,
           8476.75
          ],
          [
           496,
           8477.84,
           8477.84
          ],
          [
           490,
           8480.60743300423,
           8480.60743300423
          ],
          [
           149,
           8481.087433004232,
           8481.087433004232
          ],
          [
           444,
           8481.31,
           8481.31
          ],
          [
           26,
           8481.94,
           8481.94
          ],
          [
           257,
           8482.597433004232,
           8482.597433004232
          ],
          [
           318,
           8483.69,
           8483.69
          ],
          [
           497,
           8491.48,
           8491.48
          ],
          [
           262,
           8492.817433004231,
           8492.817433004231
          ],
          [
           540,
           8492.92,
           8492.92
          ],
          [
           492,
           8493.347433004232,
           8493.347433004232
          ],
          [
           138,
           8495.31,
           8495.31
          ],
          [
           10,
           8497.24,
           8497.24
          ],
          [
           30,
           8497.34,
           8497.34
          ],
          [
           493,
           8500.27743300423,
           8500.27743300423
          ],
          [
           312,
           8506.01,
           8506.01
          ],
          [
           433,
           8508.47,
           8508.47
          ],
          [
           525,
           8509.16,
           8509.16
          ],
          [
           536,
           8510.06,
           8510.06
          ],
          [
           182,
           8510.4,
           8510.4
          ],
          [
           136,
           8512.16,
           8512.16
          ],
          [
           415,
           8512.47,
           8512.47
          ],
          [
           344,
           8512.72,
           8512.72
          ],
          [
           313,
           8514.72,
           8514.72
          ],
          [
           261,
           8514.87743300423,
           8514.87743300423
          ],
          [
           56,
           8514.96,
           8514.96
          ],
          [
           274,
           8517.75,
           8517.75
          ],
          [
           320,
           8518.07,
           8518.07
          ],
          [
           238,
           8522.497433004231,
           8522.497433004231
          ],
          [
           277,
           8524.02,
           8524.02
          ],
          [
           5,
           8524.31,
           8524.31
          ],
          [
           86,
           8525.75,
           8525.75
          ],
          [
           13,
           8526.67,
           8526.67
          ],
          [
           450,
           8526.83,
           8526.83
          ],
          [
           154,
           8527.35743300423,
           8527.35743300423
          ],
          [
           276,
           8527.76,
           8527.76
          ],
          [
           17,
           8527.89,
           8527.89
          ],
          [
           159,
           8530.52743300423,
           8530.52743300423
          ],
          [
           59,
           8531.38,
           8531.38
          ],
          [
           338,
           8532.88,
           8532.88
          ],
          [
           256,
           8533.667433004231,
           8533.667433004231
          ],
          [
           442,
           8539.77,
           8539.77
          ],
          [
           32,
           8542.81,
           8542.81
          ],
          [
           33,
           8544.43,
           8544.43
          ],
          [
           249,
           8544.63743300423,
           8544.63743300423
          ],
          [
           243,
           8546.267433004232,
           8546.267433004232
          ],
          [
           400,
           8548.12,
           8548.12
          ],
          [
           314,
           8548.35,
           8548.35
          ],
          [
           524,
           8550.19,
           8550.19
          ],
          [
           180,
           8550.54,
           8550.54
          ],
          [
           60,
           8555.73,
           8555.73
          ],
          [
           443,
           8556.58,
           8556.58
          ],
          [
           429,
           8559.23,
           8559.23
          ],
          [
           321,
           8559.73,
           8559.73
          ],
          [
           327,
           8560.08,
           8560.08
          ],
          [
           511,
           8561.73,
           8561.73
          ],
          [
           151,
           8564.69743300423,
           8564.69743300423
          ],
          [
           330,
           8565.23,
           8565.23
          ],
          [
           88,
           8566.34,
           8566.34
          ],
          [
           87,
           8566.44,
           8566.44
          ],
          [
           414,
           8566.71,
           8566.71
          ],
          [
           439,
           8570.86,
           8570.86
          ],
          [
           146,
           8574.33,
           8574.33
          ],
          [
           413,
           8575.49,
           8575.49
          ],
          [
           420,
           8575.98,
           8575.98
          ],
          [
           504,
           8576.82,
           8576.82
          ],
          [
           4,
           8579.17,
           8579.17
          ],
          [
           61,
           8582.61,
           8582.61
          ],
          [
           325,
           8586.45,
           8586.45
          ],
          [
           507,
           8588.06,
           8588.06
          ],
          [
           502,
           8588.43,
           8588.43
          ],
          [
           522,
           8589.18,
           8589.18
          ],
          [
           529,
           8591.97,
           8591.97
          ],
          [
           503,
           8592.25,
           8592.25
          ],
          [
           295,
           8593.347433004232,
           8593.347433004232
          ],
          [
           500,
           8593.54,
           8593.54
          ],
          [
           446,
           8601.02,
           8601.02
          ],
          [
           423,
           8604.36,
           8604.36
          ],
          [
           498,
           8604.79,
           8604.79
          ],
          [
           412,
           8604.88,
           8604.88
          ],
          [
           603,
           8606.18743300423,
           8606.18743300423
          ],
          [
           155,
           8607.237433004231,
           8607.237433004231
          ],
          [
           436,
           8611.56,
           8611.56
          ],
          [
           329,
           8614.9,
           8614.9
          ],
          [
           417,
           8618.88,
           8618.88
          ],
          [
           6,
           8623.5,
           8623.5
          ],
          [
           16,
           8623.62,
           8623.62
          ],
          [
           229,
           8625.02,
           8625.02
          ],
          [
           247,
           8627.36743300423,
           8627.36743300423
          ],
          [
           328,
           8628.18,
           8628.18
          ],
          [
           428,
           8628.97,
           8628.97
          ],
          [
           19,
           8629.84,
           8629.84
          ],
          [
           523,
           8629.85,
           8629.85
          ],
          [
           664,
           8629.93,
           8629.93
          ],
          [
           244,
           8631.347433004232,
           8631.347433004232
          ],
          [
           71,
           8631.88,
           8631.88
          ],
          [
           416,
           8635.24,
           8635.24
          ],
          [
           453,
           8638.21,
           8638.21
          ],
          [
           239,
           8643.667433004231,
           8643.667433004231
          ],
          [
           406,
           8644.05,
           8644.05
          ],
          [
           521,
           8644.95,
           8644.95
          ],
          [
           501,
           8646.73,
           8646.73
          ],
          [
           331,
           8648.48,
           8648.48
          ],
          [
           649,
           8648.71,
           8648.71
          ],
          [
           661,
           8650.53,
           8650.53
          ],
          [
           644,
           8651.68,
           8651.68
          ],
          [
           508,
           8652.2,
           8652.2
          ],
          [
           145,
           8652.51,
           8652.51
          ],
          [
           641,
           8653.05,
           8653.05
          ],
          [
           148,
           8654.317433004231,
           8654.317433004231
          ],
          [
           410,
           8658.27,
           8658.27
          ],
          [
           268,
           8658.68,
           8658.68
          ],
          [
           178,
           8660.67,
           8660.67
          ],
          [
           527,
           8661.93,
           8661.93
          ],
          [
           544,
           8662.52,
           8662.52
          ],
          [
           422,
           8663.16,
           8663.16
          ],
          [
           655,
           8663.19,
           8663.19
          ],
          [
           92,
           8663.83,
           8663.83
          ],
          [
           401,
           8664.38,
           8664.38
          ],
          [
           70,
           8668.14,
           8668.14
          ],
          [
           345,
           8668.46,
           8668.46
          ],
          [
           667,
           8668.82,
           8668.82
          ],
          [
           634,
           8673.06,
           8673.06
          ],
          [
           153,
           8673.44743300423,
           8673.44743300423
          ],
          [
           232,
           8673.53,
           8673.53
          ],
          [
           676,
           8674.47,
           8674.47
          ],
          [
           11,
           8674.65,
           8674.65
          ],
          [
           404,
           8676.78,
           8676.78
          ],
          [
           348,
           8677.24,
           8677.24
          ],
          [
           553,
           8677.56,
           8677.56
          ],
          [
           353,
           8677.98,
           8677.98
          ],
          [
           402,
           8678.02,
           8678.02
          ],
          [
           405,
           8678.88,
           8678.88
          ],
          [
           672,
           8679.34,
           8679.34
          ],
          [
           77,
           8679.44,
           8679.44
          ],
          [
           236,
           8682.86,
           8682.86
          ],
          [
           275,
           8687.37,
           8687.37
          ],
          [
           142,
           8687.74,
           8687.74
          ],
          [
           398,
           8689.46,
           8689.46
          ],
          [
           15,
           8689.53,
           8689.53
          ],
          [
           545,
           8689.63,
           8689.63
          ],
          [
           449,
           8689.85,
           8689.85
          ],
          [
           510,
           8691.6,
           8691.6
          ],
          [
           85,
           8694.32,
           8694.32
          ],
          [
           512,
           8694.41,
           8694.41
          ],
          [
           514,
           8695.26,
           8695.26
          ],
          [
           430,
           8696.14,
           8696.14
          ],
          [
           435,
           8697.09,
           8697.09
          ],
          [
           609,
           8697.11,
           8697.11
          ],
          [
           532,
           8697.7,
           8697.7
          ],
          [
           396,
           8699.24,
           8699.24
          ],
          [
           564,
           8702.28,
           8702.28
          ],
          [
           403,
           8702.41,
           8702.41
          ],
          [
           411,
           8703.43,
           8703.43
          ],
          [
           637,
           8703.57,
           8703.57
          ],
          [
           140,
           8704.04,
           8704.04
          ],
          [
           397,
           8704.927433004232,
           8704.927433004232
          ],
          [
           355,
           8705.17,
           8705.17
          ],
          [
           326,
           8705.95,
           8705.95
          ],
          [
           211,
           8706.007433004232,
           8706.007433004232
          ],
          [
           139,
           8706.42,
           8706.42
          ],
          [
           354,
           8707.12,
           8707.12
          ],
          [
           425,
           8707.58,
           8707.58
          ],
          [
           352,
           8710.77,
           8710.77
          ],
          [
           516,
           8711.17,
           8711.17
          ],
          [
           251,
           8711.497433004231,
           8711.497433004231
          ],
          [
           543,
           8712.49,
           8712.49
          ],
          [
           265,
           8712.88,
           8712.88
          ],
          [
           58,
           8716.09,
           8716.09
          ],
          [
           530,
           8717.38,
           8717.38
          ],
          [
           173,
           8717.92,
           8717.92
          ],
          [
           378,
           8718.88,
           8718.88
          ],
          [
           25,
           8719.43,
           8719.43
          ],
          [
           335,
           8720.62,
           8720.62
          ],
          [
           663,
           8720.86,
           8720.86
          ],
          [
           336,
           8723.6,
           8723.6
          ],
          [
           427,
           8723.72,
           8723.72
          ],
          [
           259,
           8724.10743300423,
           8724.10743300423
          ],
          [
           342,
           8724.74,
           8724.74
          ],
          [
           642,
           8725.97,
           8725.97
          ],
          [
           254,
           8726.54743300423,
           8726.54743300423
          ],
          [
           156,
           8727.27743300423,
           8727.27743300423
          ],
          [
           341,
           8729.64,
           8729.64
          ],
          [
           452,
           8729.95,
           8729.95
          ],
          [
           639,
           8733.52,
           8733.52
          ],
          [
           24,
           8734.27,
           8734.27
          ],
          [
           640,
           8735.1,
           8735.1
          ],
          [
           579,
           8738.22,
           8738.22
          ],
          [
           665,
           8739.22,
           8739.22
          ],
          [
           513,
           8741.2,
           8741.2
          ],
          [
           141,
           8741.24,
           8741.24
          ],
          [
           263,
           8741.497433004231,
           8741.497433004231
          ],
          [
           253,
           8741.71743300423,
           8741.71743300423
          ],
          [
           81,
           8742.61,
           8742.61
          ],
          [
           349,
           8742.85,
           8742.85
          ],
          [
           260,
           8742.927433004232,
           8742.927433004232
          ],
          [
           248,
           8744.12743300423,
           8744.12743300423
          ],
          [
           376,
           8745.35,
           8745.35
          ],
          [
           390,
           8746.88,
           8746.88
          ],
          [
           554,
           8748.51,
           8748.51
          ],
          [
           137,
           8748.9,
           8748.9
          ],
          [
           419,
           8748.91,
           8748.91
          ],
          [
           426,
           8749.14,
           8749.14
          ],
          [
           395,
           8749.64,
           8749.64
          ],
          [
           590,
           8752.27,
           8752.27
          ],
          [
           333,
           8753.76,
           8753.76
          ],
          [
           531,
           8755.06,
           8755.06
          ],
          [
           656,
           8756.53,
           8756.53
          ],
          [
           175,
           8758.95,
           8758.95
          ],
          [
           57,
           8759.27,
           8759.27
          ],
          [
           84,
           8760.83,
           8760.83
          ],
          [
           152,
           8761.53743300423,
           8761.53743300423
          ],
          [
           334,
           8761.76,
           8761.76
          ],
          [
           517,
           8761.81,
           8761.81
          ],
          [
           466,
           8762.39,
           8762.39
          ],
          [
           258,
           8763.897433004231,
           8763.897433004231
          ],
          [
           421,
           8765.68,
           8765.68
          ],
          [
           587,
           8765.83,
           8765.83
          ],
          [
           668,
           8766,
           8766
          ],
          [
           519,
           8766.72,
           8766.72
          ],
          [
           651,
           8766.79,
           8766.79
          ],
          [
           388,
           8766.99,
           8766.99
          ],
          [
           14,
           8767.31,
           8767.31
          ],
          [
           351,
           8767.52,
           8767.52
          ],
          [
           21,
           8768.17,
           8768.17
          ],
          [
           340,
           8768.41,
           8768.41
          ],
          [
           343,
           8768.45,
           8768.45
          ],
          [
           570,
           8770.59,
           8770.59
          ],
          [
           285,
           8770.94743300423,
           8770.94743300423
          ],
          [
           437,
           8771.77,
           8771.77
          ],
          [
           358,
           8776.3,
           8776.3
          ],
          [
           337,
           8777.46,
           8777.46
          ],
          [
           556,
           8780.52,
           8780.52
          ],
          [
           418,
           8780.75,
           8780.75
          ],
          [
           392,
           8782.22,
           8782.22
          ],
          [
           434,
           8783.46,
           8783.46
          ],
          [
           622,
           8788.59,
           8788.59
          ],
          [
           324,
           8789.05,
           8789.05
          ],
          [
           372,
           8791.08,
           8791.08
          ],
          [
           368,
           8793.61,
           8793.61
          ],
          [
           648,
           8795.41,
           8795.41
          ],
          [
           460,
           8796.69,
           8796.69
          ],
          [
           83,
           8797.31,
           8797.31
          ],
          [
           487,
           8798.49,
           8798.49
          ],
          [
           616,
           8798.81,
           8798.81
          ],
          [
           424,
           8800.05,
           8800.05
          ],
          [
           608,
           8800.41,
           8800.41
          ],
          [
           689,
           8800.45,
           8800.45
          ],
          [
           684,
           8800.98,
           8800.98
          ],
          [
           682,
           8801.88,
           8801.88
          ],
          [
           438,
           8801.96,
           8801.96
          ],
          [
           473,
           8802.49,
           8802.49
          ],
          [
           596,
           8802.92,
           8802.92
          ],
          [
           177,
           8804.02,
           8804.02
          ],
          [
           375,
           8804.38,
           8804.38
          ],
          [
           475,
           8804.78,
           8804.78
          ],
          [
           482,
           8806.51,
           8806.51
          ],
          [
           465,
           8808.61,
           8808.61
          ],
          [
           386,
           8808.94,
           8808.94
          ],
          [
           409,
           8810.68,
           8810.68
          ],
          [
           163,
           8810.94,
           8810.94
          ],
          [
           652,
           8813.44,
           8813.44
          ],
          [
           369,
           8813.77,
           8813.77
          ],
          [
           472,
           8814.07,
           8814.07
          ],
          [
           653,
           8814.25,
           8814.25
          ],
          [
           82,
           8814.77,
           8814.77
          ],
          [
           458,
           8815.85,
           8815.85
          ],
          [
           89,
           8816.94,
           8816.94
          ],
          [
           362,
           8817.57,
           8817.57
          ],
          [
           55,
           8818.8,
           8818.8
          ],
          [
           350,
           8820.26,
           8820.26
          ],
          [
           638,
           8821.19,
           8821.19
          ],
          [
           585,
           8824.37,
           8824.37
          ],
          [
           618,
           8824.76,
           8824.76
          ],
          [
           687,
           8829.95,
           8829.95
          ],
          [
           623,
           8830.99,
           8830.99
          ],
          [
           670,
           8831.17,
           8831.17
          ],
          [
           393,
           8831.8,
           8831.8
          ],
          [
           457,
           8831.82,
           8831.82
          ],
          [
           451,
           8833.18,
           8833.18
          ],
          [
           445,
           8833.87,
           8833.87
          ],
          [
           161,
           8834.53,
           8834.53
          ],
          [
           595,
           8836.85,
           8836.85
          ],
          [
           356,
           8836.93,
           8836.93
          ],
          [
           360,
           8837.38,
           8837.38
          ],
          [
           20,
           8840.12,
           8840.12
          ],
          [
           94,
           8840.29,
           8840.29
          ],
          [
           91,
           8842.24,
           8842.24
          ],
          [
           520,
           8844.29,
           8844.29
          ],
          [
           494,
           8844.54,
           8844.54
          ],
          [
           359,
           8845.21,
           8845.21
          ],
          [
           264,
           8846.74,
           8846.74
          ],
          [
           79,
           8847.79,
           8847.79
          ],
          [
           675,
           8848.05,
           8848.05
          ],
          [
           483,
           8848.71,
           8848.71
          ],
          [
           389,
           8848.9,
           8848.9
          ],
          [
           647,
           8848.91,
           8848.91
          ],
          [
           688,
           8848.98,
           8848.98
          ],
          [
           346,
           8849.96,
           8849.96
          ],
          [
           54,
           8850.22,
           8850.22
          ],
          [
           551,
           8850.96,
           8850.96
          ],
          [
           23,
           8851.8,
           8851.8
          ],
          [
           669,
           8852.32,
           8852.32
          ],
          [
           272,
           8852.59,
           8852.59
          ],
          [
           270,
           8854.34,
           8854.34
          ],
          [
           174,
           8854.64,
           8854.64
          ],
          [
           552,
           8855.48,
           8855.48
          ],
          [
           565,
           8857.12,
           8857.12
          ],
          [
           578,
           8859.3,
           8859.3
          ],
          [
           568,
           8859.49,
           8859.49
          ],
          [
           569,
           8860.07,
           8860.07
          ],
          [
           80,
           8860.96,
           8860.96
          ],
          [
           469,
           8860.99,
           8860.99
          ],
          [
           654,
           8862.09,
           8862.09
          ],
          [
           "(?)",
           8862.45,
           8862.45
          ],
          [
           176,
           8864.43,
           8864.43
          ],
          [
           673,
           8865.31,
           8865.31
          ],
          [
           586,
           8867.27,
           8867.27
          ],
          [
           636,
           8870.54,
           8870.54
          ],
          [
           646,
           8870.74,
           8870.74
          ],
          [
           394,
           8871.2,
           8871.2
          ],
          [
           69,
           8873.18,
           8873.18
          ],
          [
           269,
           8874.38,
           8874.38
          ],
          [
           686,
           8878.27,
           8878.27
          ],
          [
           631,
           8878.94,
           8878.94
          ],
          [
           614,
           8879.25,
           8879.25
          ],
          [
           379,
           8880.5,
           8880.5
          ],
          [
           93,
           8881.29,
           8881.29
          ],
          [
           620,
           8885.79,
           8885.79
          ],
          [
           468,
           8886.24,
           8886.24
          ],
          [
           447,
           8886.49,
           8886.49
          ],
          [
           76,
           8887.34,
           8887.34
          ],
          [
           461,
           8889.98,
           8889.98
          ],
          [
           22,
           8891.15,
           8891.15
          ],
          [
           632,
           8891.28,
           8891.28
          ],
          [
           563,
           8893.06,
           8893.06
          ],
          [
           357,
           8895.35,
           8895.35
          ],
          [
           90,
           8895.78,
           8895.78
          ],
          [
           561,
           8896.07,
           8896.07
          ],
          [
           562,
           8897.89,
           8897.89
          ],
          [
           621,
           8898.75,
           8898.75
          ],
          [
           366,
           8898.79,
           8898.79
          ],
          [
           78,
           8902.09,
           8902.09
          ],
          [
           373,
           8906.89,
           8906.89
          ],
          [
           593,
           8907.64,
           8907.64
          ],
          [
           617,
           8907.75,
           8907.75
          ],
          [
           624,
           8911.24,
           8911.24
          ],
          [
           559,
           8911.94,
           8911.94
          ],
          [
           271,
           8912.62,
           8912.62
          ],
          [
           484,
           8917.63,
           8917.63
          ],
          [
           74,
           8920.54,
           8920.54
          ],
          [
           72,
           8921.67,
           8921.67
          ],
          [
           164,
           8921.68,
           8921.68
          ],
          [
           583,
           8922.16,
           8922.16
          ],
          [
           571,
           8925.03,
           8925.03
          ],
          [
           557,
           8927.32,
           8927.32
          ],
          [
           75,
           8933.95,
           8933.95
          ],
          [
           671,
           8934.2,
           8934.2
          ],
          [
           645,
           8935.09,
           8935.09
          ],
          [
           660,
           8935.37,
           8935.37
          ],
          [
           464,
           8935.57,
           8935.57
          ],
          [
           666,
           8936.77,
           8936.77
          ],
          [
           643,
           8939.37,
           8939.37
          ],
          [
           267,
           8943.54,
           8943.54
          ],
          [
           467,
           8945.61,
           8945.61
          ],
          [
           605,
           8946.17,
           8946.17
          ],
          [
           580,
           8946.88,
           8946.88
          ],
          [
           681,
           8946.92,
           8946.92
          ],
          [
           650,
           8948.38,
           8948.38
          ],
          [
           677,
           8950.12,
           8950.12
          ],
          [
           167,
           8951.99,
           8951.99
          ],
          [
           683,
           8953.92,
           8953.92
          ],
          [
           573,
           8954.16,
           8954.16
          ],
          [
           577,
           8954.66,
           8954.66
          ],
          [
           680,
           8955.81,
           8955.81
          ],
          [
           347,
           8956.74,
           8956.74
          ],
          [
           567,
           8960.53,
           8960.53
          ],
          [
           572,
           8961.06,
           8961.06
          ],
          [
           635,
           8962.49,
           8962.49
          ],
          [
           692,
           8963.12,
           8963.12
          ],
          [
           382,
           8963.57,
           8963.57
          ],
          [
           363,
           8965.68,
           8965.68
          ],
          [
           266,
           8966.02,
           8966.02
          ],
          [
           589,
           8968.91,
           8968.91
          ],
          [
           471,
           8970.38,
           8970.38
          ],
          [
           518,
           8970.92,
           8970.92
          ],
          [
           374,
           8971.28,
           8971.28
          ],
          [
           626,
           8973.45,
           8973.45
          ],
          [
           448,
           8973.66,
           8973.66
          ],
          [
           604,
           8973.76,
           8973.76
          ],
          [
           "(?)",
           8975.52,
           8975.52
          ],
          [
           68,
           8977.75,
           8977.75
          ],
          [
           659,
           8982.75,
           8982.75
          ],
          [
           581,
           8984.3,
           8984.3
          ],
          [
           384,
           8986.55,
           8986.55
          ],
          [
           361,
           8987.64,
           8987.64
          ],
          [
           602,
           8988.03,
           8988.03
          ],
          [
           574,
           8994.06,
           8994.06
          ],
          [
           584,
           8994.28,
           8994.28
          ],
          [
           485,
           8997.28,
           8997.28
          ],
          [
           619,
           8997.66,
           8997.66
          ],
          [
           592,
           8998,
           8998
          ],
          [
           591,
           8998.44,
           8998.44
          ],
          [
           662,
           8999.19,
           8999.19
          ],
          [
           657,
           9000.43,
           9000.43
          ],
          [
           480,
           9005.41,
           9005.41
          ],
          [
           370,
           9008.8,
           9008.8
          ],
          [
           599,
           9012.07,
           9012.07
          ],
          [
           607,
           9012.11,
           9012.11
          ],
          [
           597,
           9012.25,
           9012.25
          ],
          [
           566,
           9012.68,
           9012.68
          ],
          [
           627,
           9014.11,
           9014.11
          ],
          [
           169,
           9015.32,
           9015.32
          ],
          [
           365,
           9016.66,
           9016.66
          ],
          [
           364,
           9019.19,
           9019.19
          ],
          [
           658,
           9019.22,
           9019.22
          ],
          [
           612,
           9021.53,
           9021.53
          ],
          [
           462,
           9023.04,
           9023.04
          ],
          [
           598,
           9026.09,
           9026.09
          ],
          [
           385,
           9032.47,
           9032.47
          ],
          [
           160,
           9033.28,
           9033.28
          ],
          [
           625,
           9034.61,
           9034.61
          ],
          [
           377,
           9035.14,
           9035.14
          ],
          [
           371,
           9037.4,
           9037.4
          ],
          [
           380,
           9039.68,
           9039.68
          ],
          [
           383,
           9039.73,
           9039.73
          ],
          [
           600,
           9040.92,
           9040.92
          ],
          [
           615,
           9041.34,
           9041.34
          ],
          [
           479,
           9043.52,
           9043.52
          ],
          [
           601,
           9051.3,
           9051.3
          ],
          [
           611,
           9053.09,
           9053.09
          ],
          [
           387,
           9053.27,
           9053.27
          ],
          [
           459,
           9053.61,
           9053.61
          ],
          [
           168,
           9054,
           9054
          ],
          [
           474,
           9054.36,
           9054.36
          ],
          [
           575,
           9055.34,
           9055.34
          ],
          [
           678,
           9055.75,
           9055.75
          ],
          [
           477,
           9056.33,
           9056.33
          ],
          [
           691,
           9062.44,
           9062.44
          ],
          [
           588,
           9065.68,
           9065.68
          ],
          [
           560,
           9070.2,
           9070.2
          ],
          [
           391,
           9070.48,
           9070.48
          ],
          [
           489,
           9076.51,
           9076.51
          ],
          [
           679,
           9078.06,
           9078.06
          ],
          [
           610,
           9080.03,
           9080.03
          ],
          [
           491,
           9081.48,
           9081.48
          ],
          [
           582,
           9083.42,
           9083.42
          ],
          [
           613,
           9083.78,
           9083.78
          ],
          [
           630,
           9084.91,
           9084.91
          ],
          [
           481,
           9087.66,
           9087.66
          ],
          [
           555,
           9089.47,
           9089.47
          ],
          [
           476,
           9092.92,
           9092.92
          ],
          [
           685,
           9096.06,
           9096.06
          ],
          [
           170,
           9099.88,
           9099.88
          ],
          [
           165,
           9110.39,
           9110.39
          ],
          [
           470,
           9117.61,
           9117.61
          ],
          [
           456,
           9118.83,
           9118.83
          ],
          [
           455,
           9122.25,
           9122.25
          ],
          [
           558,
           9127.92,
           9127.92
          ],
          [
           171,
           9136.03,
           9136.03
          ],
          [
           162,
           9137.76,
           9137.76
          ],
          [
           633,
           9138.69,
           9138.69
          ],
          [
           606,
           9138.9,
           9138.9
          ],
          [
           172,
           9140.61,
           9140.61
          ],
          [
           454,
           9143.65,
           9143.65
          ],
          [
           594,
           9143.67,
           9143.67
          ],
          [
           367,
           9144.25,
           9144.25
          ],
          [
           463,
           9145.24,
           9145.24
          ],
          [
           381,
           9156.73,
           9156.73
          ],
          [
           478,
           9166.56,
           9166.56
          ],
          [
           690,
           9197.99,
           9197.99
          ],
          [
           166,
           9198.97,
           9198.97
          ],
          [
           628,
           9253,
           9253
          ],
          [
           629,
           9290.02,
           9290.02
          ]
         ],
         "domain": {
          "x": [
           0,
           1
          ],
          "y": [
           0,
           1
          ]
         },
         "hovertemplate": "labels=%{label}<br>count=%{value}<br>parent=%{parent}<br>id=%{id}<br>Day=%{customdata[0]}<br>GrocerySales=%{color}<extra></extra>",
         "ids": [
          "6766.37",
          "6777.93",
          "6895.51",
          "7028.23",
          "7042.67",
          "7186.41",
          "7271.8",
          "7286.52",
          "7333.94",
          "7365.83",
          "7386.67",
          "7396.36",
          "7401.9",
          "7408.77",
          "7426.04",
          "7475.93",
          "7498.810000000001",
          "7503.090000000001",
          "7507.75",
          "7509.97",
          "7511.839999999999",
          "7543.56",
          "7549.030000000001",
          "7584.6",
          "7590.11",
          "7597.330000000001",
          "7608.99",
          "7611.92",
          "7614.19",
          "7627.04",
          "7629.119999999999",
          "7637.55",
          "7638.23",
          "7640.1",
          "7645.900000000001",
          "7652.93",
          "7662.78",
          "7668.63",
          "7671.0",
          "7674.61",
          "7677.09",
          "7679.54",
          "7680.49",
          "7690.65",
          "7690.740000000001",
          "7691.300000000001",
          "7726.48",
          "7732.23",
          "7742.26",
          "7742.56",
          "7773.4",
          "7776.22",
          "7777.79",
          "7787.02",
          "7789.31",
          "7789.55",
          "7791.16",
          "7802.72",
          "7810.370000000001",
          "7818.88",
          "7819.490000000001",
          "7822.24",
          "7826.22",
          "7827.990000000001",
          "7857.43",
          "7857.489999999999",
          "7861.130000000001",
          "7861.880000000001",
          "7863.659999999999",
          "7870.36",
          "7876.87",
          "7880.89",
          "7895.52",
          "7899.29",
          "7901.22",
          "7906.48",
          "7931.52",
          "7956.01",
          "7967.5",
          "7984.16",
          "7991.06",
          "7998.88",
          "8000.13",
          "8005.05",
          "8005.84",
          "8033.41",
          "8038.669999999999",
          "8041.109999999999",
          "8043.32",
          "8049.87",
          "8060.37",
          "8067.01",
          "8071.06",
          "8073.39",
          "8097.23",
          "8099.220000000001",
          "8103.98",
          "8113.34",
          "8113.46",
          "8117.72",
          "8123.329999999999",
          "8130.92",
          "8140.23",
          "8156.05",
          "8160.22",
          "8161.51",
          "8162.21",
          "8163.58",
          "8168.700000000001",
          "8172.61",
          "8177.73",
          "8180.43",
          "8195.05",
          "8203.63",
          "8204.11",
          "8206.11",
          "8210.79",
          "8220.62",
          "8220.67",
          "8225.72",
          "8234.93",
          "8242.29",
          "8251.72",
          "8259.88",
          "8264.02",
          "8269.73",
          "8270.18",
          "8275.93",
          "8277.67",
          "8279.12",
          "8290.61",
          "8290.87",
          "8295.04",
          "8298.53",
          "8305.02",
          "8305.75",
          "8308.05",
          "8312.23",
          "8313.53",
          "8315.46",
          "8317.56",
          "8320.11",
          "8326.14",
          "8326.74",
          "8330.0",
          "8333.17",
          "8335.76",
          "8336.49",
          "8342.68",
          "8343.63",
          "8345.97",
          "8354.63",
          "8357.45",
          "8357.5",
          "8358.79",
          "8363.47",
          "8372.3",
          "8381.28",
          "8383.21",
          "8383.98",
          "8384.01",
          "8384.2",
          "8385.14",
          "8386.07",
          "8393.07",
          "8395.267433004232",
          "8395.88",
          "8396.13",
          "8398.60743300423",
          "8403.79743300423",
          "8404.017433004232",
          "8407.807433004231",
          "8410.477433004231",
          "8411.89",
          "8412.62",
          "8415.2",
          "8417.71",
          "8418.227433004231",
          "8418.59",
          "8422.68743300423",
          "8425.69",
          "8425.87743300423",
          "8426.927433004232",
          "8429.84",
          "8429.96",
          "8433.31",
          "8436.27",
          "8438.427433004232",
          "8438.75",
          "8442.21",
          "8442.83",
          "8444.97",
          "8447.27",
          "8447.47",
          "8447.78743300423",
          "8448.927433004232",
          "8450.04",
          "8450.51",
          "8452.32",
          "8453.35",
          "8453.69",
          "8455.85743300423",
          "8456.51",
          "8458.74",
          "8460.05",
          "8461.34",
          "8462.77",
          "8463.36",
          "8466.65",
          "8468.16",
          "8469.737433004231",
          "8471.18",
          "8472.15",
          "8473.26",
          "8473.36",
          "8476.75",
          "8477.84",
          "8480.60743300423",
          "8481.087433004232",
          "8481.31",
          "8481.94",
          "8482.597433004232",
          "8483.69",
          "8491.48",
          "8492.817433004231",
          "8492.92",
          "8493.347433004232",
          "8495.31",
          "8497.24",
          "8497.34",
          "8500.27743300423",
          "8506.01",
          "8508.47",
          "8509.16",
          "8510.06",
          "8510.4",
          "8512.16",
          "8512.47",
          "8512.72",
          "8514.72",
          "8514.87743300423",
          "8514.96",
          "8517.75",
          "8518.07",
          "8522.497433004231",
          "8524.02",
          "8524.31",
          "8525.75",
          "8526.67",
          "8526.83",
          "8527.35743300423",
          "8527.76",
          "8527.89",
          "8530.52743300423",
          "8531.38",
          "8532.88",
          "8533.667433004231",
          "8539.77",
          "8542.81",
          "8544.43",
          "8544.63743300423",
          "8546.267433004232",
          "8548.12",
          "8548.35",
          "8550.19",
          "8550.54",
          "8555.73",
          "8556.58",
          "8559.23",
          "8559.73",
          "8560.08",
          "8561.73",
          "8564.69743300423",
          "8565.23",
          "8566.34",
          "8566.44",
          "8566.71",
          "8570.86",
          "8574.33",
          "8575.49",
          "8575.98",
          "8576.82",
          "8579.17",
          "8582.61",
          "8586.45",
          "8588.06",
          "8588.43",
          "8589.18",
          "8591.97",
          "8592.25",
          "8593.347433004232",
          "8593.54",
          "8601.02",
          "8604.36",
          "8604.79",
          "8604.88",
          "8606.18743300423",
          "8607.237433004231",
          "8611.56",
          "8614.9",
          "8618.88",
          "8623.5",
          "8623.62",
          "8625.02",
          "8627.36743300423",
          "8628.18",
          "8628.97",
          "8629.84",
          "8629.85",
          "8629.93",
          "8631.347433004232",
          "8631.88",
          "8635.24",
          "8638.21",
          "8643.667433004231",
          "8644.05",
          "8644.95",
          "8646.73",
          "8648.48",
          "8648.71",
          "8650.53",
          "8651.68",
          "8652.2",
          "8652.51",
          "8653.05",
          "8654.317433004231",
          "8658.27",
          "8658.68",
          "8660.67",
          "8661.93",
          "8662.52",
          "8663.16",
          "8663.19",
          "8663.83",
          "8664.38",
          "8668.14",
          "8668.46",
          "8668.82",
          "8673.06",
          "8673.44743300423",
          "8673.53",
          "8674.47",
          "8674.65",
          "8676.78",
          "8677.24",
          "8677.56",
          "8677.98",
          "8678.02",
          "8678.88",
          "8679.34",
          "8679.44",
          "8682.86",
          "8687.37",
          "8687.74",
          "8689.46",
          "8689.53",
          "8689.63",
          "8689.85",
          "8691.6",
          "8694.32",
          "8694.41",
          "8695.26",
          "8696.14",
          "8697.09",
          "8697.11",
          "8697.7",
          "8699.24",
          "8702.28",
          "8702.41",
          "8703.43",
          "8703.57",
          "8704.04",
          "8704.927433004232",
          "8705.17",
          "8705.95",
          "8706.007433004232",
          "8706.42",
          "8707.12",
          "8707.58",
          "8710.77",
          "8711.17",
          "8711.497433004231",
          "8712.49",
          "8712.88",
          "8716.09",
          "8717.38",
          "8717.92",
          "8718.88",
          "8719.43",
          "8720.62",
          "8720.86",
          "8723.6",
          "8723.72",
          "8724.10743300423",
          "8724.74",
          "8725.97",
          "8726.54743300423",
          "8727.27743300423",
          "8729.64",
          "8729.95",
          "8733.52",
          "8734.27",
          "8735.1",
          "8738.22",
          "8739.22",
          "8741.2",
          "8741.24",
          "8741.497433004231",
          "8741.71743300423",
          "8742.61",
          "8742.85",
          "8742.927433004232",
          "8744.12743300423",
          "8745.35",
          "8746.88",
          "8748.51",
          "8748.9",
          "8748.91",
          "8749.14",
          "8749.64",
          "8752.27",
          "8753.76",
          "8755.06",
          "8756.53",
          "8758.95",
          "8759.27",
          "8760.83",
          "8761.53743300423",
          "8761.76",
          "8761.81",
          "8762.39",
          "8763.897433004231",
          "8765.68",
          "8765.83",
          "8766.0",
          "8766.72",
          "8766.79",
          "8766.99",
          "8767.31",
          "8767.52",
          "8768.17",
          "8768.41",
          "8768.45",
          "8770.59",
          "8770.94743300423",
          "8771.77",
          "8776.3",
          "8777.46",
          "8780.52",
          "8780.75",
          "8782.22",
          "8783.46",
          "8788.59",
          "8789.05",
          "8791.08",
          "8793.61",
          "8795.41",
          "8796.69",
          "8797.31",
          "8798.49",
          "8798.81",
          "8800.05",
          "8800.41",
          "8800.45",
          "8800.98",
          "8801.88",
          "8801.96",
          "8802.49",
          "8802.92",
          "8804.02",
          "8804.38",
          "8804.78",
          "8806.51",
          "8808.61",
          "8808.94",
          "8810.68",
          "8810.94",
          "8813.44",
          "8813.77",
          "8814.07",
          "8814.25",
          "8814.77",
          "8815.85",
          "8816.94",
          "8817.57",
          "8818.8",
          "8820.26",
          "8821.19",
          "8824.37",
          "8824.76",
          "8829.95",
          "8830.99",
          "8831.17",
          "8831.8",
          "8831.82",
          "8833.18",
          "8833.87",
          "8834.53",
          "8836.85",
          "8836.93",
          "8837.38",
          "8840.12",
          "8840.29",
          "8842.24",
          "8844.29",
          "8844.54",
          "8845.21",
          "8846.74",
          "8847.79",
          "8848.05",
          "8848.71",
          "8848.9",
          "8848.91",
          "8848.98",
          "8849.96",
          "8850.22",
          "8850.96",
          "8851.8",
          "8852.32",
          "8852.59",
          "8854.34",
          "8854.64",
          "8855.48",
          "8857.12",
          "8859.3",
          "8859.49",
          "8860.07",
          "8860.96",
          "8860.99",
          "8862.09",
          "8862.45",
          "8864.43",
          "8865.31",
          "8867.27",
          "8870.54",
          "8870.74",
          "8871.2",
          "8873.18",
          "8874.38",
          "8878.27",
          "8878.94",
          "8879.25",
          "8880.5",
          "8881.29",
          "8885.79",
          "8886.24",
          "8886.49",
          "8887.34",
          "8889.98",
          "8891.15",
          "8891.28",
          "8893.06",
          "8895.35",
          "8895.78",
          "8896.07",
          "8897.89",
          "8898.75",
          "8898.79",
          "8902.09",
          "8906.89",
          "8907.64",
          "8907.75",
          "8911.24",
          "8911.94",
          "8912.62",
          "8917.63",
          "8920.54",
          "8921.67",
          "8921.68",
          "8922.16",
          "8925.03",
          "8927.32",
          "8933.95",
          "8934.2",
          "8935.09",
          "8935.37",
          "8935.57",
          "8936.77",
          "8939.37",
          "8943.54",
          "8945.61",
          "8946.17",
          "8946.88",
          "8946.92",
          "8948.38",
          "8950.12",
          "8951.99",
          "8953.92",
          "8954.16",
          "8954.66",
          "8955.81",
          "8956.74",
          "8960.53",
          "8961.06",
          "8962.49",
          "8963.12",
          "8963.57",
          "8965.68",
          "8966.02",
          "8968.91",
          "8970.38",
          "8970.92",
          "8971.28",
          "8973.45",
          "8973.66",
          "8973.76",
          "8975.52",
          "8977.75",
          "8982.75",
          "8984.3",
          "8986.55",
          "8987.64",
          "8988.03",
          "8994.06",
          "8994.28",
          "8997.28",
          "8997.66",
          "8998.0",
          "8998.44",
          "8999.19",
          "9000.43",
          "9005.41",
          "9008.8",
          "9012.07",
          "9012.11",
          "9012.25",
          "9012.68",
          "9014.11",
          "9015.32",
          "9016.66",
          "9019.19",
          "9019.22",
          "9021.53",
          "9023.04",
          "9026.09",
          "9032.47",
          "9033.28",
          "9034.61",
          "9035.14",
          "9037.4",
          "9039.68",
          "9039.73",
          "9040.92",
          "9041.34",
          "9043.52",
          "9051.3",
          "9053.09",
          "9053.27",
          "9053.61",
          "9054.0",
          "9054.36",
          "9055.34",
          "9055.75",
          "9056.33",
          "9062.44",
          "9065.68",
          "9070.2",
          "9070.48",
          "9076.51",
          "9078.06",
          "9080.03",
          "9081.48",
          "9083.42",
          "9083.78",
          "9084.91",
          "9087.66",
          "9089.47",
          "9092.92",
          "9096.06",
          "9099.88",
          "9110.39",
          "9117.61",
          "9118.83",
          "9122.25",
          "9127.92",
          "9136.03",
          "9137.76",
          "9138.69",
          "9138.9",
          "9140.61",
          "9143.65",
          "9143.67",
          "9144.25",
          "9145.24",
          "9156.73",
          "9166.56",
          "9197.99",
          "9198.97",
          "9253.0",
          "9290.02"
         ],
         "labels": [
          "6766.37",
          "6777.93",
          "6895.51",
          "7028.23",
          "7042.67",
          "7186.41",
          "7271.8",
          "7286.52",
          "7333.94",
          "7365.83",
          "7386.67",
          "7396.36",
          "7401.9",
          "7408.77",
          "7426.04",
          "7475.93",
          "7498.810000000001",
          "7503.090000000001",
          "7507.75",
          "7509.97",
          "7511.839999999999",
          "7543.56",
          "7549.030000000001",
          "7584.6",
          "7590.11",
          "7597.330000000001",
          "7608.99",
          "7611.92",
          "7614.19",
          "7627.04",
          "7629.119999999999",
          "7637.55",
          "7638.23",
          "7640.1",
          "7645.900000000001",
          "7652.93",
          "7662.78",
          "7668.63",
          "7671.0",
          "7674.61",
          "7677.09",
          "7679.54",
          "7680.49",
          "7690.65",
          "7690.740000000001",
          "7691.300000000001",
          "7726.48",
          "7732.23",
          "7742.26",
          "7742.56",
          "7773.4",
          "7776.22",
          "7777.79",
          "7787.02",
          "7789.31",
          "7789.55",
          "7791.16",
          "7802.72",
          "7810.370000000001",
          "7818.88",
          "7819.490000000001",
          "7822.24",
          "7826.22",
          "7827.990000000001",
          "7857.43",
          "7857.489999999999",
          "7861.130000000001",
          "7861.880000000001",
          "7863.659999999999",
          "7870.36",
          "7876.87",
          "7880.89",
          "7895.52",
          "7899.29",
          "7901.22",
          "7906.48",
          "7931.52",
          "7956.01",
          "7967.5",
          "7984.16",
          "7991.06",
          "7998.88",
          "8000.13",
          "8005.05",
          "8005.84",
          "8033.41",
          "8038.669999999999",
          "8041.109999999999",
          "8043.32",
          "8049.87",
          "8060.37",
          "8067.01",
          "8071.06",
          "8073.39",
          "8097.23",
          "8099.220000000001",
          "8103.98",
          "8113.34",
          "8113.46",
          "8117.72",
          "8123.329999999999",
          "8130.92",
          "8140.23",
          "8156.05",
          "8160.22",
          "8161.51",
          "8162.21",
          "8163.58",
          "8168.700000000001",
          "8172.61",
          "8177.73",
          "8180.43",
          "8195.05",
          "8203.63",
          "8204.11",
          "8206.11",
          "8210.79",
          "8220.62",
          "8220.67",
          "8225.72",
          "8234.93",
          "8242.29",
          "8251.72",
          "8259.88",
          "8264.02",
          "8269.73",
          "8270.18",
          "8275.93",
          "8277.67",
          "8279.12",
          "8290.61",
          "8290.87",
          "8295.04",
          "8298.53",
          "8305.02",
          "8305.75",
          "8308.05",
          "8312.23",
          "8313.53",
          "8315.46",
          "8317.56",
          "8320.11",
          "8326.14",
          "8326.74",
          "8330.0",
          "8333.17",
          "8335.76",
          "8336.49",
          "8342.68",
          "8343.63",
          "8345.97",
          "8354.63",
          "8357.45",
          "8357.5",
          "8358.79",
          "8363.47",
          "8372.3",
          "8381.28",
          "8383.21",
          "8383.98",
          "8384.01",
          "8384.2",
          "8385.14",
          "8386.07",
          "8393.07",
          "8395.267433004232",
          "8395.88",
          "8396.13",
          "8398.60743300423",
          "8403.79743300423",
          "8404.017433004232",
          "8407.807433004231",
          "8410.477433004231",
          "8411.89",
          "8412.62",
          "8415.2",
          "8417.71",
          "8418.227433004231",
          "8418.59",
          "8422.68743300423",
          "8425.69",
          "8425.87743300423",
          "8426.927433004232",
          "8429.84",
          "8429.96",
          "8433.31",
          "8436.27",
          "8438.427433004232",
          "8438.75",
          "8442.21",
          "8442.83",
          "8444.97",
          "8447.27",
          "8447.47",
          "8447.78743300423",
          "8448.927433004232",
          "8450.04",
          "8450.51",
          "8452.32",
          "8453.35",
          "8453.69",
          "8455.85743300423",
          "8456.51",
          "8458.74",
          "8460.05",
          "8461.34",
          "8462.77",
          "8463.36",
          "8466.65",
          "8468.16",
          "8469.737433004231",
          "8471.18",
          "8472.15",
          "8473.26",
          "8473.36",
          "8476.75",
          "8477.84",
          "8480.60743300423",
          "8481.087433004232",
          "8481.31",
          "8481.94",
          "8482.597433004232",
          "8483.69",
          "8491.48",
          "8492.817433004231",
          "8492.92",
          "8493.347433004232",
          "8495.31",
          "8497.24",
          "8497.34",
          "8500.27743300423",
          "8506.01",
          "8508.47",
          "8509.16",
          "8510.06",
          "8510.4",
          "8512.16",
          "8512.47",
          "8512.72",
          "8514.72",
          "8514.87743300423",
          "8514.96",
          "8517.75",
          "8518.07",
          "8522.497433004231",
          "8524.02",
          "8524.31",
          "8525.75",
          "8526.67",
          "8526.83",
          "8527.35743300423",
          "8527.76",
          "8527.89",
          "8530.52743300423",
          "8531.38",
          "8532.88",
          "8533.667433004231",
          "8539.77",
          "8542.81",
          "8544.43",
          "8544.63743300423",
          "8546.267433004232",
          "8548.12",
          "8548.35",
          "8550.19",
          "8550.54",
          "8555.73",
          "8556.58",
          "8559.23",
          "8559.73",
          "8560.08",
          "8561.73",
          "8564.69743300423",
          "8565.23",
          "8566.34",
          "8566.44",
          "8566.71",
          "8570.86",
          "8574.33",
          "8575.49",
          "8575.98",
          "8576.82",
          "8579.17",
          "8582.61",
          "8586.45",
          "8588.06",
          "8588.43",
          "8589.18",
          "8591.97",
          "8592.25",
          "8593.347433004232",
          "8593.54",
          "8601.02",
          "8604.36",
          "8604.79",
          "8604.88",
          "8606.18743300423",
          "8607.237433004231",
          "8611.56",
          "8614.9",
          "8618.88",
          "8623.5",
          "8623.62",
          "8625.02",
          "8627.36743300423",
          "8628.18",
          "8628.97",
          "8629.84",
          "8629.85",
          "8629.93",
          "8631.347433004232",
          "8631.88",
          "8635.24",
          "8638.21",
          "8643.667433004231",
          "8644.05",
          "8644.95",
          "8646.73",
          "8648.48",
          "8648.71",
          "8650.53",
          "8651.68",
          "8652.2",
          "8652.51",
          "8653.05",
          "8654.317433004231",
          "8658.27",
          "8658.68",
          "8660.67",
          "8661.93",
          "8662.52",
          "8663.16",
          "8663.19",
          "8663.83",
          "8664.38",
          "8668.14",
          "8668.46",
          "8668.82",
          "8673.06",
          "8673.44743300423",
          "8673.53",
          "8674.47",
          "8674.65",
          "8676.78",
          "8677.24",
          "8677.56",
          "8677.98",
          "8678.02",
          "8678.88",
          "8679.34",
          "8679.44",
          "8682.86",
          "8687.37",
          "8687.74",
          "8689.46",
          "8689.53",
          "8689.63",
          "8689.85",
          "8691.6",
          "8694.32",
          "8694.41",
          "8695.26",
          "8696.14",
          "8697.09",
          "8697.11",
          "8697.7",
          "8699.24",
          "8702.28",
          "8702.41",
          "8703.43",
          "8703.57",
          "8704.04",
          "8704.927433004232",
          "8705.17",
          "8705.95",
          "8706.007433004232",
          "8706.42",
          "8707.12",
          "8707.58",
          "8710.77",
          "8711.17",
          "8711.497433004231",
          "8712.49",
          "8712.88",
          "8716.09",
          "8717.38",
          "8717.92",
          "8718.88",
          "8719.43",
          "8720.62",
          "8720.86",
          "8723.6",
          "8723.72",
          "8724.10743300423",
          "8724.74",
          "8725.97",
          "8726.54743300423",
          "8727.27743300423",
          "8729.64",
          "8729.95",
          "8733.52",
          "8734.27",
          "8735.1",
          "8738.22",
          "8739.22",
          "8741.2",
          "8741.24",
          "8741.497433004231",
          "8741.71743300423",
          "8742.61",
          "8742.85",
          "8742.927433004232",
          "8744.12743300423",
          "8745.35",
          "8746.88",
          "8748.51",
          "8748.9",
          "8748.91",
          "8749.14",
          "8749.64",
          "8752.27",
          "8753.76",
          "8755.06",
          "8756.53",
          "8758.95",
          "8759.27",
          "8760.83",
          "8761.53743300423",
          "8761.76",
          "8761.81",
          "8762.39",
          "8763.897433004231",
          "8765.68",
          "8765.83",
          "8766.0",
          "8766.72",
          "8766.79",
          "8766.99",
          "8767.31",
          "8767.52",
          "8768.17",
          "8768.41",
          "8768.45",
          "8770.59",
          "8770.94743300423",
          "8771.77",
          "8776.3",
          "8777.46",
          "8780.52",
          "8780.75",
          "8782.22",
          "8783.46",
          "8788.59",
          "8789.05",
          "8791.08",
          "8793.61",
          "8795.41",
          "8796.69",
          "8797.31",
          "8798.49",
          "8798.81",
          "8800.05",
          "8800.41",
          "8800.45",
          "8800.98",
          "8801.88",
          "8801.96",
          "8802.49",
          "8802.92",
          "8804.02",
          "8804.38",
          "8804.78",
          "8806.51",
          "8808.61",
          "8808.94",
          "8810.68",
          "8810.94",
          "8813.44",
          "8813.77",
          "8814.07",
          "8814.25",
          "8814.77",
          "8815.85",
          "8816.94",
          "8817.57",
          "8818.8",
          "8820.26",
          "8821.19",
          "8824.37",
          "8824.76",
          "8829.95",
          "8830.99",
          "8831.17",
          "8831.8",
          "8831.82",
          "8833.18",
          "8833.87",
          "8834.53",
          "8836.85",
          "8836.93",
          "8837.38",
          "8840.12",
          "8840.29",
          "8842.24",
          "8844.29",
          "8844.54",
          "8845.21",
          "8846.74",
          "8847.79",
          "8848.05",
          "8848.71",
          "8848.9",
          "8848.91",
          "8848.98",
          "8849.96",
          "8850.22",
          "8850.96",
          "8851.8",
          "8852.32",
          "8852.59",
          "8854.34",
          "8854.64",
          "8855.48",
          "8857.12",
          "8859.3",
          "8859.49",
          "8860.07",
          "8860.96",
          "8860.99",
          "8862.09",
          "8862.45",
          "8864.43",
          "8865.31",
          "8867.27",
          "8870.54",
          "8870.74",
          "8871.2",
          "8873.18",
          "8874.38",
          "8878.27",
          "8878.94",
          "8879.25",
          "8880.5",
          "8881.29",
          "8885.79",
          "8886.24",
          "8886.49",
          "8887.34",
          "8889.98",
          "8891.15",
          "8891.28",
          "8893.06",
          "8895.35",
          "8895.78",
          "8896.07",
          "8897.89",
          "8898.75",
          "8898.79",
          "8902.09",
          "8906.89",
          "8907.64",
          "8907.75",
          "8911.24",
          "8911.94",
          "8912.62",
          "8917.63",
          "8920.54",
          "8921.67",
          "8921.68",
          "8922.16",
          "8925.03",
          "8927.32",
          "8933.95",
          "8934.2",
          "8935.09",
          "8935.37",
          "8935.57",
          "8936.77",
          "8939.37",
          "8943.54",
          "8945.61",
          "8946.17",
          "8946.88",
          "8946.92",
          "8948.38",
          "8950.12",
          "8951.99",
          "8953.92",
          "8954.16",
          "8954.66",
          "8955.81",
          "8956.74",
          "8960.53",
          "8961.06",
          "8962.49",
          "8963.12",
          "8963.57",
          "8965.68",
          "8966.02",
          "8968.91",
          "8970.38",
          "8970.92",
          "8971.28",
          "8973.45",
          "8973.66",
          "8973.76",
          "8975.52",
          "8977.75",
          "8982.75",
          "8984.3",
          "8986.55",
          "8987.64",
          "8988.03",
          "8994.06",
          "8994.28",
          "8997.28",
          "8997.66",
          "8998.0",
          "8998.44",
          "8999.19",
          "9000.43",
          "9005.41",
          "9008.8",
          "9012.07",
          "9012.11",
          "9012.25",
          "9012.68",
          "9014.11",
          "9015.32",
          "9016.66",
          "9019.19",
          "9019.22",
          "9021.53",
          "9023.04",
          "9026.09",
          "9032.47",
          "9033.28",
          "9034.61",
          "9035.14",
          "9037.4",
          "9039.68",
          "9039.73",
          "9040.92",
          "9041.34",
          "9043.52",
          "9051.3",
          "9053.09",
          "9053.27",
          "9053.61",
          "9054.0",
          "9054.36",
          "9055.34",
          "9055.75",
          "9056.33",
          "9062.44",
          "9065.68",
          "9070.2",
          "9070.48",
          "9076.51",
          "9078.06",
          "9080.03",
          "9081.48",
          "9083.42",
          "9083.78",
          "9084.91",
          "9087.66",
          "9089.47",
          "9092.92",
          "9096.06",
          "9099.88",
          "9110.39",
          "9117.61",
          "9118.83",
          "9122.25",
          "9127.92",
          "9136.03",
          "9137.76",
          "9138.69",
          "9138.9",
          "9140.61",
          "9143.65",
          "9143.67",
          "9144.25",
          "9145.24",
          "9156.73",
          "9166.56",
          "9197.99",
          "9198.97",
          "9253.0",
          "9290.02"
         ],
         "marker": {
          "coloraxis": "coloraxis",
          "colors": [
           6766.37,
           6777.93,
           6895.51,
           7028.23,
           7042.67,
           7186.41,
           7271.8,
           7286.52,
           7333.94,
           7365.83,
           7386.67,
           7396.36,
           7401.9,
           7408.77,
           7426.04,
           7475.93,
           7498.810000000001,
           7503.090000000001,
           7507.75,
           7509.97,
           7511.839999999999,
           7543.56,
           7549.030000000001,
           7584.6,
           7590.11,
           7597.330000000001,
           7608.99,
           7611.92,
           7614.19,
           7627.04,
           7629.119999999999,
           7637.55,
           7638.23,
           7640.1,
           7645.900000000001,
           7652.93,
           7662.78,
           7668.63,
           7671,
           7674.61,
           7677.09,
           7679.54,
           7680.49,
           7690.65,
           7690.740000000001,
           7691.300000000001,
           7726.48,
           7732.23,
           7742.26,
           7742.56,
           7773.4,
           7776.22,
           7777.79,
           7787.02,
           7789.31,
           7789.55,
           7791.16,
           7802.72,
           7810.370000000001,
           7818.88,
           7819.490000000001,
           7822.24,
           7826.22,
           7827.990000000001,
           7857.43,
           7857.489999999999,
           7861.130000000001,
           7861.880000000001,
           7863.659999999999,
           7870.36,
           7876.87,
           7880.89,
           7895.52,
           7899.29,
           7901.22,
           7906.48,
           7931.52,
           7956.01,
           7967.5,
           7984.16,
           7991.06,
           7998.88,
           8000.13,
           8005.05,
           8005.84,
           8033.41,
           8038.669999999999,
           8041.109999999999,
           8043.32,
           8049.87,
           8060.37,
           8067.01,
           8071.06,
           8073.39,
           8097.23,
           8099.220000000001,
           8103.98,
           8113.34,
           8113.46,
           8117.72,
           8123.329999999999,
           8130.92,
           8140.23,
           8156.05,
           8160.22,
           8161.51,
           8162.21,
           8163.58,
           8168.700000000001,
           8172.61,
           8177.73,
           8180.43,
           8195.05,
           8203.63,
           8204.11,
           8206.11,
           8210.79,
           8220.62,
           8220.67,
           8225.72,
           8234.93,
           8242.29,
           8251.72,
           8259.88,
           8264.02,
           8269.73,
           8270.18,
           8275.93,
           8277.67,
           8279.12,
           8290.61,
           8290.87,
           8295.04,
           8298.53,
           8305.02,
           8305.75,
           8308.05,
           8312.23,
           8313.53,
           8315.46,
           8317.56,
           8320.11,
           8326.14,
           8326.74,
           8330,
           8333.17,
           8335.76,
           8336.49,
           8342.68,
           8343.63,
           8345.97,
           8354.63,
           8357.45,
           8357.5,
           8358.79,
           8363.47,
           8372.3,
           8381.28,
           8383.21,
           8383.98,
           8384.01,
           8384.2,
           8385.14,
           8386.07,
           8393.07,
           8395.267433004232,
           8395.88,
           8396.13,
           8398.60743300423,
           8403.79743300423,
           8404.017433004232,
           8407.807433004231,
           8410.477433004231,
           8411.89,
           8412.62,
           8415.2,
           8417.71,
           8418.227433004231,
           8418.59,
           8422.68743300423,
           8425.69,
           8425.87743300423,
           8426.927433004232,
           8429.84,
           8429.96,
           8433.31,
           8436.27,
           8438.427433004232,
           8438.75,
           8442.21,
           8442.83,
           8444.97,
           8447.27,
           8447.47,
           8447.78743300423,
           8448.927433004232,
           8450.04,
           8450.51,
           8452.32,
           8453.35,
           8453.69,
           8455.85743300423,
           8456.51,
           8458.74,
           8460.05,
           8461.34,
           8462.77,
           8463.36,
           8466.65,
           8468.16,
           8469.737433004231,
           8471.18,
           8472.15,
           8473.26,
           8473.36,
           8476.75,
           8477.84,
           8480.60743300423,
           8481.087433004232,
           8481.31,
           8481.94,
           8482.597433004232,
           8483.69,
           8491.48,
           8492.817433004231,
           8492.92,
           8493.347433004232,
           8495.31,
           8497.24,
           8497.34,
           8500.27743300423,
           8506.01,
           8508.47,
           8509.16,
           8510.06,
           8510.4,
           8512.16,
           8512.47,
           8512.72,
           8514.72,
           8514.87743300423,
           8514.96,
           8517.75,
           8518.07,
           8522.497433004231,
           8524.02,
           8524.31,
           8525.75,
           8526.67,
           8526.83,
           8527.35743300423,
           8527.76,
           8527.89,
           8530.52743300423,
           8531.38,
           8532.88,
           8533.667433004231,
           8539.77,
           8542.81,
           8544.43,
           8544.63743300423,
           8546.267433004232,
           8548.12,
           8548.35,
           8550.19,
           8550.54,
           8555.73,
           8556.58,
           8559.23,
           8559.73,
           8560.08,
           8561.73,
           8564.69743300423,
           8565.23,
           8566.34,
           8566.44,
           8566.71,
           8570.86,
           8574.33,
           8575.49,
           8575.98,
           8576.82,
           8579.17,
           8582.61,
           8586.45,
           8588.06,
           8588.43,
           8589.18,
           8591.97,
           8592.25,
           8593.347433004232,
           8593.54,
           8601.02,
           8604.36,
           8604.79,
           8604.88,
           8606.18743300423,
           8607.237433004231,
           8611.56,
           8614.9,
           8618.88,
           8623.5,
           8623.62,
           8625.02,
           8627.36743300423,
           8628.18,
           8628.97,
           8629.84,
           8629.85,
           8629.93,
           8631.347433004232,
           8631.88,
           8635.24,
           8638.21,
           8643.667433004231,
           8644.05,
           8644.95,
           8646.73,
           8648.48,
           8648.71,
           8650.53,
           8651.68,
           8652.2,
           8652.51,
           8653.05,
           8654.317433004231,
           8658.27,
           8658.68,
           8660.67,
           8661.93,
           8662.52,
           8663.16,
           8663.19,
           8663.83,
           8664.38,
           8668.14,
           8668.46,
           8668.82,
           8673.06,
           8673.44743300423,
           8673.53,
           8674.47,
           8674.65,
           8676.78,
           8677.24,
           8677.56,
           8677.98,
           8678.02,
           8678.88,
           8679.34,
           8679.44,
           8682.86,
           8687.37,
           8687.74,
           8689.46,
           8689.53,
           8689.63,
           8689.85,
           8691.6,
           8694.32,
           8694.41,
           8695.26,
           8696.14,
           8697.09,
           8697.11,
           8697.7,
           8699.24,
           8702.28,
           8702.41,
           8703.43,
           8703.57,
           8704.04,
           8704.927433004232,
           8705.17,
           8705.95,
           8706.007433004232,
           8706.42,
           8707.12,
           8707.58,
           8710.77,
           8711.17,
           8711.497433004231,
           8712.49,
           8712.88,
           8716.09,
           8717.38,
           8717.92,
           8718.88,
           8719.43,
           8720.62,
           8720.86,
           8723.6,
           8723.72,
           8724.10743300423,
           8724.74,
           8725.97,
           8726.54743300423,
           8727.27743300423,
           8729.64,
           8729.95,
           8733.52,
           8734.27,
           8735.1,
           8738.22,
           8739.22,
           8741.2,
           8741.24,
           8741.497433004231,
           8741.71743300423,
           8742.61,
           8742.85,
           8742.927433004232,
           8744.12743300423,
           8745.35,
           8746.88,
           8748.51,
           8748.9,
           8748.91,
           8749.14,
           8749.64,
           8752.27,
           8753.76,
           8755.06,
           8756.53,
           8758.95,
           8759.27,
           8760.83,
           8761.53743300423,
           8761.76,
           8761.81,
           8762.39,
           8763.897433004231,
           8765.68,
           8765.83,
           8766,
           8766.72,
           8766.79,
           8766.99,
           8767.31,
           8767.52,
           8768.17,
           8768.41,
           8768.45,
           8770.59,
           8770.94743300423,
           8771.77,
           8776.3,
           8777.46,
           8780.52,
           8780.75,
           8782.22,
           8783.46,
           8788.59,
           8789.05,
           8791.08,
           8793.61,
           8795.41,
           8796.69,
           8797.31,
           8798.49,
           8798.81,
           8800.05,
           8800.41,
           8800.45,
           8800.98,
           8801.88,
           8801.96,
           8802.49,
           8802.92,
           8804.02,
           8804.38,
           8804.78,
           8806.51,
           8808.61,
           8808.94,
           8810.68,
           8810.94,
           8813.44,
           8813.77,
           8814.07,
           8814.25,
           8814.77,
           8815.85,
           8816.94,
           8817.57,
           8818.8,
           8820.26,
           8821.19,
           8824.37,
           8824.76,
           8829.95,
           8830.99,
           8831.17,
           8831.8,
           8831.82,
           8833.18,
           8833.87,
           8834.53,
           8836.85,
           8836.93,
           8837.38,
           8840.12,
           8840.29,
           8842.24,
           8844.29,
           8844.54,
           8845.21,
           8846.74,
           8847.79,
           8848.05,
           8848.71,
           8848.9,
           8848.91,
           8848.98,
           8849.96,
           8850.22,
           8850.96,
           8851.8,
           8852.32,
           8852.59,
           8854.34,
           8854.64,
           8855.48,
           8857.12,
           8859.3,
           8859.49,
           8860.07,
           8860.96,
           8860.99,
           8862.09,
           8862.45,
           8864.43,
           8865.31,
           8867.27,
           8870.54,
           8870.74,
           8871.2,
           8873.18,
           8874.38,
           8878.27,
           8878.94,
           8879.25,
           8880.5,
           8881.29,
           8885.79,
           8886.24,
           8886.49,
           8887.34,
           8889.98,
           8891.15,
           8891.28,
           8893.06,
           8895.35,
           8895.78,
           8896.07,
           8897.89,
           8898.75,
           8898.79,
           8902.09,
           8906.89,
           8907.64,
           8907.75,
           8911.24,
           8911.94,
           8912.62,
           8917.63,
           8920.54,
           8921.67,
           8921.68,
           8922.16,
           8925.03,
           8927.32,
           8933.95,
           8934.2,
           8935.09,
           8935.37,
           8935.57,
           8936.77,
           8939.37,
           8943.54,
           8945.61,
           8946.17,
           8946.88,
           8946.92,
           8948.38,
           8950.12,
           8951.99,
           8953.92,
           8954.16,
           8954.66,
           8955.81,
           8956.74,
           8960.53,
           8961.06,
           8962.49,
           8963.12,
           8963.57,
           8965.68,
           8966.02,
           8968.91,
           8970.38,
           8970.92,
           8971.28,
           8973.45,
           8973.66,
           8973.76,
           8975.52,
           8977.75,
           8982.75,
           8984.3,
           8986.55,
           8987.64,
           8988.03,
           8994.06,
           8994.28,
           8997.28,
           8997.66,
           8998,
           8998.44,
           8999.19,
           9000.43,
           9005.41,
           9008.8,
           9012.07,
           9012.11,
           9012.25,
           9012.68,
           9014.11,
           9015.32,
           9016.66,
           9019.19,
           9019.22,
           9021.53,
           9023.04,
           9026.09,
           9032.47,
           9033.28,
           9034.61,
           9035.14,
           9037.4,
           9039.68,
           9039.73,
           9040.92,
           9041.34,
           9043.52,
           9051.3,
           9053.09,
           9053.27,
           9053.61,
           9054,
           9054.36,
           9055.34,
           9055.75,
           9056.33,
           9062.44,
           9065.68,
           9070.2,
           9070.48,
           9076.51,
           9078.06,
           9080.03,
           9081.48,
           9083.42,
           9083.78,
           9084.91,
           9087.66,
           9089.47,
           9092.92,
           9096.06,
           9099.88,
           9110.39,
           9117.61,
           9118.83,
           9122.25,
           9127.92,
           9136.03,
           9137.76,
           9138.69,
           9138.9,
           9140.61,
           9143.65,
           9143.67,
           9144.25,
           9145.24,
           9156.73,
           9166.56,
           9197.99,
           9198.97,
           9253,
           9290.02
          ]
         },
         "name": "",
         "parents": [
          "",
          "",
          "",
          "",
          "",
          "",
          "",
          "",
          "",
          "",
          "",
          "",
          "",
          "",
          "",
          "",
          "",
          "",
          "",
          "",
          "",
          "",
          "",
          "",
          "",
          "",
          "",
          "",
          "",
          "",
          "",
          "",
          "",
          "",
          "",
          "",
          "",
          "",
          "",
          "",
          "",
          "",
          "",
          "",
          "",
          "",
          "",
          "",
          "",
          "",
          "",
          "",
          "",
          "",
          "",
          "",
          "",
          "",
          "",
          "",
          "",
          "",
          "",
          "",
          "",
          "",
          "",
          "",
          "",
          "",
          "",
          "",
          "",
          "",
          "",
          "",
          "",
          "",
          "",
          "",
          "",
          "",
          "",
          "",
          "",
          "",
          "",
          "",
          "",
          "",
          "",
          "",
          "",
          "",
          "",
          "",
          "",
          "",
          "",
          "",
          "",
          "",
          "",
          "",
          "",
          "",
          "",
          "",
          "",
          "",
          "",
          "",
          "",
          "",
          "",
          "",
          "",
          "",
          "",
          "",
          "",
          "",
          "",
          "",
          "",
          "",
          "",
          "",
          "",
          "",
          "",
          "",
          "",
          "",
          "",
          "",
          "",
          "",
          "",
          "",
          "",
          "",
          "",
          "",
          "",
          "",
          "",
          "",
          "",
          "",
          "",
          "",
          "",
          "",
          "",
          "",
          "",
          "",
          "",
          "",
          "",
          "",
          "",
          "",
          "",
          "",
          "",
          "",
          "",
          "",
          "",
          "",
          "",
          "",
          "",
          "",
          "",
          "",
          "",
          "",
          "",
          "",
          "",
          "",
          "",
          "",
          "",
          "",
          "",
          "",
          "",
          "",
          "",
          "",
          "",
          "",
          "",
          "",
          "",
          "",
          "",
          "",
          "",
          "",
          "",
          "",
          "",
          "",
          "",
          "",
          "",
          "",
          "",
          "",
          "",
          "",
          "",
          "",
          "",
          "",
          "",
          "",
          "",
          "",
          "",
          "",
          "",
          "",
          "",
          "",
          "",
          "",
          "",
          "",
          "",
          "",
          "",
          "",
          "",
          "",
          "",
          "",
          "",
          "",
          "",
          "",
          "",
          "",
          "",
          "",
          "",
          "",
          "",
          "",
          "",
          "",
          "",
          "",
          "",
          "",
          "",
          "",
          "",
          "",
          "",
          "",
          "",
          "",
          "",
          "",
          "",
          "",
          "",
          "",
          "",
          "",
          "",
          "",
          "",
          "",
          "",
          "",
          "",
          "",
          "",
          "",
          "",
          "",
          "",
          "",
          "",
          "",
          "",
          "",
          "",
          "",
          "",
          "",
          "",
          "",
          "",
          "",
          "",
          "",
          "",
          "",
          "",
          "",
          "",
          "",
          "",
          "",
          "",
          "",
          "",
          "",
          "",
          "",
          "",
          "",
          "",
          "",
          "",
          "",
          "",
          "",
          "",
          "",
          "",
          "",
          "",
          "",
          "",
          "",
          "",
          "",
          "",
          "",
          "",
          "",
          "",
          "",
          "",
          "",
          "",
          "",
          "",
          "",
          "",
          "",
          "",
          "",
          "",
          "",
          "",
          "",
          "",
          "",
          "",
          "",
          "",
          "",
          "",
          "",
          "",
          "",
          "",
          "",
          "",
          "",
          "",
          "",
          "",
          "",
          "",
          "",
          "",
          "",
          "",
          "",
          "",
          "",
          "",
          "",
          "",
          "",
          "",
          "",
          "",
          "",
          "",
          "",
          "",
          "",
          "",
          "",
          "",
          "",
          "",
          "",
          "",
          "",
          "",
          "",
          "",
          "",
          "",
          "",
          "",
          "",
          "",
          "",
          "",
          "",
          "",
          "",
          "",
          "",
          "",
          "",
          "",
          "",
          "",
          "",
          "",
          "",
          "",
          "",
          "",
          "",
          "",
          "",
          "",
          "",
          "",
          "",
          "",
          "",
          "",
          "",
          "",
          "",
          "",
          "",
          "",
          "",
          "",
          "",
          "",
          "",
          "",
          "",
          "",
          "",
          "",
          "",
          "",
          "",
          "",
          "",
          "",
          "",
          "",
          "",
          "",
          "",
          "",
          "",
          "",
          "",
          "",
          "",
          "",
          "",
          "",
          "",
          "",
          "",
          "",
          "",
          "",
          "",
          "",
          "",
          "",
          "",
          "",
          "",
          "",
          "",
          "",
          "",
          "",
          "",
          "",
          "",
          "",
          "",
          "",
          "",
          "",
          "",
          "",
          "",
          "",
          "",
          "",
          "",
          "",
          "",
          "",
          "",
          "",
          "",
          "",
          "",
          "",
          "",
          "",
          "",
          "",
          "",
          "",
          "",
          "",
          "",
          "",
          "",
          "",
          "",
          "",
          "",
          "",
          "",
          "",
          "",
          "",
          "",
          "",
          "",
          "",
          "",
          "",
          "",
          "",
          "",
          "",
          "",
          "",
          "",
          "",
          "",
          "",
          "",
          "",
          "",
          "",
          "",
          "",
          "",
          "",
          "",
          "",
          "",
          "",
          "",
          "",
          "",
          "",
          "",
          "",
          "",
          "",
          "",
          "",
          "",
          "",
          "",
          "",
          "",
          "",
          "",
          "",
          "",
          "",
          "",
          "",
          "",
          "",
          "",
          "",
          "",
          "",
          "",
          "",
          "",
          "",
          "",
          "",
          "",
          "",
          "",
          "",
          "",
          "",
          "",
          "",
          "",
          "",
          "",
          "",
          "",
          "",
          "",
          "",
          "",
          "",
          "",
          "",
          "",
          "",
          "",
          "",
          "",
          "",
          "",
          "",
          "",
          "",
          "",
          "",
          "",
          "",
          "",
          "",
          "",
          "",
          "",
          "",
          "",
          "",
          "",
          "",
          "",
          "",
          "",
          "",
          "",
          "",
          "",
          "",
          "",
          "",
          "",
          "",
          "",
          "",
          "",
          "",
          "",
          "",
          "",
          "",
          "",
          "",
          "",
          "",
          "",
          "",
          "",
          "",
          "",
          "",
          "",
          "",
          "",
          "",
          "",
          "",
          "",
          "",
          "",
          "",
          "",
          "",
          "",
          "",
          "",
          "",
          ""
         ],
         "type": "treemap",
         "values": [
          1,
          1,
          1,
          1,
          1,
          1,
          1,
          1,
          1,
          1,
          1,
          1,
          1,
          1,
          1,
          1,
          1,
          1,
          1,
          1,
          1,
          1,
          1,
          1,
          1,
          1,
          1,
          1,
          1,
          1,
          1,
          1,
          1,
          1,
          1,
          1,
          1,
          1,
          1,
          1,
          1,
          1,
          1,
          1,
          1,
          1,
          1,
          1,
          1,
          1,
          1,
          1,
          1,
          1,
          1,
          1,
          1,
          1,
          1,
          1,
          1,
          1,
          1,
          1,
          1,
          1,
          1,
          1,
          1,
          1,
          1,
          1,
          1,
          1,
          1,
          1,
          1,
          1,
          1,
          1,
          1,
          1,
          1,
          1,
          1,
          1,
          1,
          1,
          1,
          1,
          1,
          1,
          1,
          1,
          1,
          1,
          1,
          1,
          1,
          1,
          1,
          1,
          1,
          1,
          1,
          1,
          1,
          1,
          1,
          1,
          1,
          1,
          1,
          1,
          1,
          1,
          1,
          1,
          1,
          1,
          1,
          1,
          1,
          1,
          1,
          1,
          1,
          1,
          1,
          1,
          1,
          1,
          1,
          1,
          1,
          1,
          1,
          1,
          1,
          1,
          1,
          1,
          1,
          1,
          1,
          1,
          1,
          1,
          1,
          1,
          1,
          1,
          1,
          1,
          1,
          1,
          1,
          1,
          1,
          1,
          1,
          1,
          1,
          1,
          1,
          1,
          1,
          1,
          1,
          1,
          1,
          1,
          1,
          1,
          1,
          1,
          1,
          1,
          1,
          1,
          1,
          1,
          1,
          1,
          1,
          1,
          1,
          1,
          1,
          1,
          1,
          1,
          1,
          1,
          1,
          1,
          1,
          1,
          1,
          1,
          1,
          1,
          1,
          1,
          1,
          1,
          1,
          1,
          1,
          1,
          1,
          1,
          1,
          1,
          1,
          1,
          1,
          1,
          1,
          1,
          1,
          1,
          1,
          1,
          1,
          1,
          1,
          1,
          1,
          1,
          1,
          1,
          1,
          1,
          1,
          1,
          1,
          1,
          1,
          1,
          1,
          1,
          1,
          1,
          1,
          1,
          1,
          1,
          1,
          1,
          1,
          1,
          1,
          1,
          1,
          1,
          1,
          1,
          1,
          1,
          1,
          1,
          1,
          1,
          1,
          1,
          1,
          1,
          1,
          1,
          1,
          1,
          1,
          1,
          1,
          1,
          1,
          1,
          1,
          1,
          1,
          1,
          1,
          1,
          1,
          1,
          1,
          1,
          1,
          1,
          1,
          1,
          1,
          1,
          1,
          1,
          1,
          1,
          1,
          1,
          1,
          1,
          1,
          1,
          1,
          1,
          1,
          1,
          1,
          1,
          1,
          1,
          1,
          1,
          1,
          1,
          1,
          1,
          1,
          1,
          1,
          1,
          1,
          1,
          1,
          1,
          1,
          1,
          1,
          1,
          1,
          1,
          1,
          1,
          1,
          1,
          1,
          1,
          1,
          1,
          1,
          1,
          1,
          1,
          1,
          1,
          1,
          1,
          1,
          1,
          1,
          1,
          1,
          1,
          1,
          1,
          1,
          1,
          1,
          1,
          1,
          1,
          1,
          1,
          1,
          1,
          1,
          1,
          1,
          1,
          1,
          1,
          1,
          1,
          1,
          1,
          1,
          1,
          1,
          1,
          1,
          1,
          1,
          1,
          1,
          1,
          1,
          1,
          1,
          1,
          1,
          1,
          1,
          1,
          1,
          1,
          1,
          1,
          1,
          1,
          1,
          1,
          1,
          1,
          1,
          1,
          1,
          1,
          1,
          1,
          1,
          1,
          1,
          1,
          1,
          1,
          1,
          1,
          1,
          1,
          1,
          1,
          1,
          1,
          1,
          1,
          1,
          1,
          1,
          1,
          1,
          1,
          1,
          1,
          1,
          1,
          1,
          1,
          1,
          1,
          1,
          1,
          1,
          1,
          1,
          1,
          1,
          1,
          1,
          1,
          1,
          1,
          1,
          1,
          1,
          1,
          1,
          1,
          1,
          1,
          1,
          1,
          1,
          1,
          1,
          1,
          1,
          1,
          1,
          1,
          1,
          1,
          1,
          1,
          1,
          1,
          1,
          1,
          1,
          1,
          1,
          1,
          1,
          1,
          1,
          1,
          1,
          1,
          1,
          1,
          1,
          1,
          1,
          1,
          1,
          1,
          1,
          1,
          1,
          1,
          1,
          1,
          1,
          1,
          1,
          1,
          1,
          1,
          1,
          1,
          1,
          1,
          1,
          1,
          1,
          1,
          1,
          1,
          1,
          1,
          1,
          1,
          1,
          1,
          1,
          1,
          1,
          1,
          1,
          1,
          2,
          1,
          1,
          1,
          1,
          1,
          1,
          1,
          1,
          1,
          1,
          1,
          1,
          1,
          1,
          1,
          1,
          1,
          1,
          1,
          1,
          1,
          1,
          1,
          1,
          1,
          1,
          1,
          1,
          1,
          1,
          1,
          1,
          1,
          1,
          1,
          1,
          1,
          1,
          1,
          1,
          1,
          1,
          1,
          1,
          1,
          1,
          1,
          1,
          1,
          1,
          1,
          1,
          1,
          1,
          1,
          1,
          1,
          1,
          1,
          1,
          1,
          1,
          1,
          1,
          1,
          1,
          1,
          1,
          1,
          1,
          1,
          1,
          1,
          1,
          1,
          2,
          1,
          1,
          1,
          1,
          1,
          1,
          1,
          1,
          1,
          1,
          1,
          1,
          1,
          1,
          1,
          1,
          1,
          1,
          1,
          1,
          1,
          1,
          1,
          1,
          1,
          1,
          1,
          1,
          1,
          1,
          1,
          1,
          1,
          1,
          1,
          1,
          1,
          1,
          1,
          1,
          1,
          1,
          1,
          1,
          1,
          1,
          1,
          1,
          1,
          1,
          1,
          1,
          1,
          1,
          1,
          1,
          1,
          1,
          1,
          1,
          1,
          1,
          1,
          1,
          1,
          1,
          1,
          1,
          1,
          1,
          1,
          1,
          1,
          1,
          1,
          1,
          1,
          1,
          1,
          1,
          1,
          1,
          1
         ]
        }
       ],
       "layout": {
        "coloraxis": {
         "colorbar": {
          "title": {
           "text": "GrocerySales"
          }
         },
         "colorscale": [
          [
           0,
           "#0d0887"
          ],
          [
           0.1111111111111111,
           "#46039f"
          ],
          [
           0.2222222222222222,
           "#7201a8"
          ],
          [
           0.3333333333333333,
           "#9c179e"
          ],
          [
           0.4444444444444444,
           "#bd3786"
          ],
          [
           0.5555555555555556,
           "#d8576b"
          ],
          [
           0.6666666666666666,
           "#ed7953"
          ],
          [
           0.7777777777777778,
           "#fb9f3a"
          ],
          [
           0.8888888888888888,
           "#fdca26"
          ],
          [
           1,
           "#f0f921"
          ]
         ]
        },
        "legend": {
         "tracegroupgap": 0
        },
        "margin": {
         "t": 60
        },
        "template": {
         "data": {
          "bar": [
           {
            "error_x": {
             "color": "#2a3f5f"
            },
            "error_y": {
             "color": "#2a3f5f"
            },
            "marker": {
             "line": {
              "color": "#E5ECF6",
              "width": 0.5
             },
             "pattern": {
              "fillmode": "overlay",
              "size": 10,
              "solidity": 0.2
             }
            },
            "type": "bar"
           }
          ],
          "barpolar": [
           {
            "marker": {
             "line": {
              "color": "#E5ECF6",
              "width": 0.5
             },
             "pattern": {
              "fillmode": "overlay",
              "size": 10,
              "solidity": 0.2
             }
            },
            "type": "barpolar"
           }
          ],
          "carpet": [
           {
            "aaxis": {
             "endlinecolor": "#2a3f5f",
             "gridcolor": "white",
             "linecolor": "white",
             "minorgridcolor": "white",
             "startlinecolor": "#2a3f5f"
            },
            "baxis": {
             "endlinecolor": "#2a3f5f",
             "gridcolor": "white",
             "linecolor": "white",
             "minorgridcolor": "white",
             "startlinecolor": "#2a3f5f"
            },
            "type": "carpet"
           }
          ],
          "choropleth": [
           {
            "colorbar": {
             "outlinewidth": 0,
             "ticks": ""
            },
            "type": "choropleth"
           }
          ],
          "contour": [
           {
            "colorbar": {
             "outlinewidth": 0,
             "ticks": ""
            },
            "colorscale": [
             [
              0,
              "#0d0887"
             ],
             [
              0.1111111111111111,
              "#46039f"
             ],
             [
              0.2222222222222222,
              "#7201a8"
             ],
             [
              0.3333333333333333,
              "#9c179e"
             ],
             [
              0.4444444444444444,
              "#bd3786"
             ],
             [
              0.5555555555555556,
              "#d8576b"
             ],
             [
              0.6666666666666666,
              "#ed7953"
             ],
             [
              0.7777777777777778,
              "#fb9f3a"
             ],
             [
              0.8888888888888888,
              "#fdca26"
             ],
             [
              1,
              "#f0f921"
             ]
            ],
            "type": "contour"
           }
          ],
          "contourcarpet": [
           {
            "colorbar": {
             "outlinewidth": 0,
             "ticks": ""
            },
            "type": "contourcarpet"
           }
          ],
          "heatmap": [
           {
            "colorbar": {
             "outlinewidth": 0,
             "ticks": ""
            },
            "colorscale": [
             [
              0,
              "#0d0887"
             ],
             [
              0.1111111111111111,
              "#46039f"
             ],
             [
              0.2222222222222222,
              "#7201a8"
             ],
             [
              0.3333333333333333,
              "#9c179e"
             ],
             [
              0.4444444444444444,
              "#bd3786"
             ],
             [
              0.5555555555555556,
              "#d8576b"
             ],
             [
              0.6666666666666666,
              "#ed7953"
             ],
             [
              0.7777777777777778,
              "#fb9f3a"
             ],
             [
              0.8888888888888888,
              "#fdca26"
             ],
             [
              1,
              "#f0f921"
             ]
            ],
            "type": "heatmap"
           }
          ],
          "heatmapgl": [
           {
            "colorbar": {
             "outlinewidth": 0,
             "ticks": ""
            },
            "colorscale": [
             [
              0,
              "#0d0887"
             ],
             [
              0.1111111111111111,
              "#46039f"
             ],
             [
              0.2222222222222222,
              "#7201a8"
             ],
             [
              0.3333333333333333,
              "#9c179e"
             ],
             [
              0.4444444444444444,
              "#bd3786"
             ],
             [
              0.5555555555555556,
              "#d8576b"
             ],
             [
              0.6666666666666666,
              "#ed7953"
             ],
             [
              0.7777777777777778,
              "#fb9f3a"
             ],
             [
              0.8888888888888888,
              "#fdca26"
             ],
             [
              1,
              "#f0f921"
             ]
            ],
            "type": "heatmapgl"
           }
          ],
          "histogram": [
           {
            "marker": {
             "pattern": {
              "fillmode": "overlay",
              "size": 10,
              "solidity": 0.2
             }
            },
            "type": "histogram"
           }
          ],
          "histogram2d": [
           {
            "colorbar": {
             "outlinewidth": 0,
             "ticks": ""
            },
            "colorscale": [
             [
              0,
              "#0d0887"
             ],
             [
              0.1111111111111111,
              "#46039f"
             ],
             [
              0.2222222222222222,
              "#7201a8"
             ],
             [
              0.3333333333333333,
              "#9c179e"
             ],
             [
              0.4444444444444444,
              "#bd3786"
             ],
             [
              0.5555555555555556,
              "#d8576b"
             ],
             [
              0.6666666666666666,
              "#ed7953"
             ],
             [
              0.7777777777777778,
              "#fb9f3a"
             ],
             [
              0.8888888888888888,
              "#fdca26"
             ],
             [
              1,
              "#f0f921"
             ]
            ],
            "type": "histogram2d"
           }
          ],
          "histogram2dcontour": [
           {
            "colorbar": {
             "outlinewidth": 0,
             "ticks": ""
            },
            "colorscale": [
             [
              0,
              "#0d0887"
             ],
             [
              0.1111111111111111,
              "#46039f"
             ],
             [
              0.2222222222222222,
              "#7201a8"
             ],
             [
              0.3333333333333333,
              "#9c179e"
             ],
             [
              0.4444444444444444,
              "#bd3786"
             ],
             [
              0.5555555555555556,
              "#d8576b"
             ],
             [
              0.6666666666666666,
              "#ed7953"
             ],
             [
              0.7777777777777778,
              "#fb9f3a"
             ],
             [
              0.8888888888888888,
              "#fdca26"
             ],
             [
              1,
              "#f0f921"
             ]
            ],
            "type": "histogram2dcontour"
           }
          ],
          "mesh3d": [
           {
            "colorbar": {
             "outlinewidth": 0,
             "ticks": ""
            },
            "type": "mesh3d"
           }
          ],
          "parcoords": [
           {
            "line": {
             "colorbar": {
              "outlinewidth": 0,
              "ticks": ""
             }
            },
            "type": "parcoords"
           }
          ],
          "pie": [
           {
            "automargin": true,
            "type": "pie"
           }
          ],
          "scatter": [
           {
            "fillpattern": {
             "fillmode": "overlay",
             "size": 10,
             "solidity": 0.2
            },
            "type": "scatter"
           }
          ],
          "scatter3d": [
           {
            "line": {
             "colorbar": {
              "outlinewidth": 0,
              "ticks": ""
             }
            },
            "marker": {
             "colorbar": {
              "outlinewidth": 0,
              "ticks": ""
             }
            },
            "type": "scatter3d"
           }
          ],
          "scattercarpet": [
           {
            "marker": {
             "colorbar": {
              "outlinewidth": 0,
              "ticks": ""
             }
            },
            "type": "scattercarpet"
           }
          ],
          "scattergeo": [
           {
            "marker": {
             "colorbar": {
              "outlinewidth": 0,
              "ticks": ""
             }
            },
            "type": "scattergeo"
           }
          ],
          "scattergl": [
           {
            "marker": {
             "colorbar": {
              "outlinewidth": 0,
              "ticks": ""
             }
            },
            "type": "scattergl"
           }
          ],
          "scattermapbox": [
           {
            "marker": {
             "colorbar": {
              "outlinewidth": 0,
              "ticks": ""
             }
            },
            "type": "scattermapbox"
           }
          ],
          "scatterpolar": [
           {
            "marker": {
             "colorbar": {
              "outlinewidth": 0,
              "ticks": ""
             }
            },
            "type": "scatterpolar"
           }
          ],
          "scatterpolargl": [
           {
            "marker": {
             "colorbar": {
              "outlinewidth": 0,
              "ticks": ""
             }
            },
            "type": "scatterpolargl"
           }
          ],
          "scatterternary": [
           {
            "marker": {
             "colorbar": {
              "outlinewidth": 0,
              "ticks": ""
             }
            },
            "type": "scatterternary"
           }
          ],
          "surface": [
           {
            "colorbar": {
             "outlinewidth": 0,
             "ticks": ""
            },
            "colorscale": [
             [
              0,
              "#0d0887"
             ],
             [
              0.1111111111111111,
              "#46039f"
             ],
             [
              0.2222222222222222,
              "#7201a8"
             ],
             [
              0.3333333333333333,
              "#9c179e"
             ],
             [
              0.4444444444444444,
              "#bd3786"
             ],
             [
              0.5555555555555556,
              "#d8576b"
             ],
             [
              0.6666666666666666,
              "#ed7953"
             ],
             [
              0.7777777777777778,
              "#fb9f3a"
             ],
             [
              0.8888888888888888,
              "#fdca26"
             ],
             [
              1,
              "#f0f921"
             ]
            ],
            "type": "surface"
           }
          ],
          "table": [
           {
            "cells": {
             "fill": {
              "color": "#EBF0F8"
             },
             "line": {
              "color": "white"
             }
            },
            "header": {
             "fill": {
              "color": "#C8D4E3"
             },
             "line": {
              "color": "white"
             }
            },
            "type": "table"
           }
          ]
         },
         "layout": {
          "annotationdefaults": {
           "arrowcolor": "#2a3f5f",
           "arrowhead": 0,
           "arrowwidth": 1
          },
          "autotypenumbers": "strict",
          "coloraxis": {
           "colorbar": {
            "outlinewidth": 0,
            "ticks": ""
           }
          },
          "colorscale": {
           "diverging": [
            [
             0,
             "#8e0152"
            ],
            [
             0.1,
             "#c51b7d"
            ],
            [
             0.2,
             "#de77ae"
            ],
            [
             0.3,
             "#f1b6da"
            ],
            [
             0.4,
             "#fde0ef"
            ],
            [
             0.5,
             "#f7f7f7"
            ],
            [
             0.6,
             "#e6f5d0"
            ],
            [
             0.7,
             "#b8e186"
            ],
            [
             0.8,
             "#7fbc41"
            ],
            [
             0.9,
             "#4d9221"
            ],
            [
             1,
             "#276419"
            ]
           ],
           "sequential": [
            [
             0,
             "#0d0887"
            ],
            [
             0.1111111111111111,
             "#46039f"
            ],
            [
             0.2222222222222222,
             "#7201a8"
            ],
            [
             0.3333333333333333,
             "#9c179e"
            ],
            [
             0.4444444444444444,
             "#bd3786"
            ],
            [
             0.5555555555555556,
             "#d8576b"
            ],
            [
             0.6666666666666666,
             "#ed7953"
            ],
            [
             0.7777777777777778,
             "#fb9f3a"
            ],
            [
             0.8888888888888888,
             "#fdca26"
            ],
            [
             1,
             "#f0f921"
            ]
           ],
           "sequentialminus": [
            [
             0,
             "#0d0887"
            ],
            [
             0.1111111111111111,
             "#46039f"
            ],
            [
             0.2222222222222222,
             "#7201a8"
            ],
            [
             0.3333333333333333,
             "#9c179e"
            ],
            [
             0.4444444444444444,
             "#bd3786"
            ],
            [
             0.5555555555555556,
             "#d8576b"
            ],
            [
             0.6666666666666666,
             "#ed7953"
            ],
            [
             0.7777777777777778,
             "#fb9f3a"
            ],
            [
             0.8888888888888888,
             "#fdca26"
            ],
            [
             1,
             "#f0f921"
            ]
           ]
          },
          "colorway": [
           "#636efa",
           "#EF553B",
           "#00cc96",
           "#ab63fa",
           "#FFA15A",
           "#19d3f3",
           "#FF6692",
           "#B6E880",
           "#FF97FF",
           "#FECB52"
          ],
          "font": {
           "color": "#2a3f5f"
          },
          "geo": {
           "bgcolor": "white",
           "lakecolor": "white",
           "landcolor": "#E5ECF6",
           "showlakes": true,
           "showland": true,
           "subunitcolor": "white"
          },
          "hoverlabel": {
           "align": "left"
          },
          "hovermode": "closest",
          "mapbox": {
           "style": "light"
          },
          "paper_bgcolor": "white",
          "plot_bgcolor": "#E5ECF6",
          "polar": {
           "angularaxis": {
            "gridcolor": "white",
            "linecolor": "white",
            "ticks": ""
           },
           "bgcolor": "#E5ECF6",
           "radialaxis": {
            "gridcolor": "white",
            "linecolor": "white",
            "ticks": ""
           }
          },
          "scene": {
           "xaxis": {
            "backgroundcolor": "#E5ECF6",
            "gridcolor": "white",
            "gridwidth": 2,
            "linecolor": "white",
            "showbackground": true,
            "ticks": "",
            "zerolinecolor": "white"
           },
           "yaxis": {
            "backgroundcolor": "#E5ECF6",
            "gridcolor": "white",
            "gridwidth": 2,
            "linecolor": "white",
            "showbackground": true,
            "ticks": "",
            "zerolinecolor": "white"
           },
           "zaxis": {
            "backgroundcolor": "#E5ECF6",
            "gridcolor": "white",
            "gridwidth": 2,
            "linecolor": "white",
            "showbackground": true,
            "ticks": "",
            "zerolinecolor": "white"
           }
          },
          "shapedefaults": {
           "line": {
            "color": "#2a3f5f"
           }
          },
          "ternary": {
           "aaxis": {
            "gridcolor": "white",
            "linecolor": "white",
            "ticks": ""
           },
           "baxis": {
            "gridcolor": "white",
            "linecolor": "white",
            "ticks": ""
           },
           "bgcolor": "#E5ECF6",
           "caxis": {
            "gridcolor": "white",
            "linecolor": "white",
            "ticks": ""
           }
          },
          "title": {
           "x": 0.05
          },
          "xaxis": {
           "automargin": true,
           "gridcolor": "white",
           "linecolor": "white",
           "ticks": "",
           "title": {
            "standoff": 15
           },
           "zerolinecolor": "white",
           "zerolinewidth": 2
          },
          "yaxis": {
           "automargin": true,
           "gridcolor": "white",
           "linecolor": "white",
           "ticks": "",
           "title": {
            "standoff": 15
           },
           "zerolinecolor": "white",
           "zerolinewidth": 2
          }
         }
        }
       }
      }
     },
     "metadata": {},
     "output_type": "display_data"
    }
   ],
   "source": [
    "#treemap\n",
    "fig = px.treemap(train, path=['GrocerySales'],color='GrocerySales', hover_data=['Day', 'GrocerySales'])\n",
    "fig.show()"
   ]
  },
  {
   "cell_type": "code",
   "execution_count": 11,
   "metadata": {},
   "outputs": [
    {
     "data": {
      "application/vnd.plotly.v1+json": {
       "config": {
        "plotlyServerURL": "https://plot.ly"
       },
       "data": [
        {
         "hovertemplate": "Day=%{x}<br>GrocerySales=%{y}<extra></extra>",
         "legendgroup": "",
         "marker": {
          "color": "#636efa",
          "symbol": "circle"
         },
         "mode": "markers",
         "name": "",
         "orientation": "v",
         "showlegend": false,
         "type": "scatter",
         "x": [
          1,
          2,
          3,
          4,
          5,
          6,
          7,
          8,
          9,
          10,
          11,
          12,
          13,
          14,
          15,
          16,
          17,
          18,
          19,
          20,
          21,
          22,
          23,
          24,
          25,
          26,
          27,
          28,
          29,
          30,
          31,
          32,
          33,
          34,
          35,
          36,
          37,
          38,
          39,
          40,
          41,
          42,
          43,
          44,
          45,
          46,
          47,
          48,
          49,
          50,
          51,
          52,
          53,
          54,
          55,
          56,
          57,
          58,
          59,
          60,
          61,
          62,
          63,
          64,
          65,
          66,
          67,
          68,
          69,
          70,
          71,
          72,
          73,
          74,
          75,
          76,
          77,
          78,
          79,
          80,
          81,
          82,
          83,
          84,
          85,
          86,
          87,
          88,
          89,
          90,
          91,
          92,
          93,
          94,
          95,
          96,
          97,
          98,
          99,
          100,
          101,
          102,
          103,
          104,
          105,
          106,
          107,
          108,
          109,
          110,
          111,
          112,
          113,
          114,
          115,
          116,
          117,
          118,
          119,
          120,
          121,
          122,
          123,
          124,
          125,
          126,
          127,
          128,
          129,
          130,
          131,
          132,
          133,
          134,
          135,
          136,
          137,
          138,
          139,
          140,
          141,
          142,
          143,
          144,
          145,
          146,
          147,
          148,
          149,
          150,
          151,
          152,
          153,
          154,
          155,
          156,
          157,
          158,
          159,
          160,
          161,
          162,
          163,
          164,
          165,
          166,
          167,
          168,
          169,
          170,
          171,
          172,
          173,
          174,
          175,
          176,
          177,
          178,
          179,
          180,
          181,
          182,
          183,
          184,
          185,
          186,
          187,
          188,
          189,
          190,
          191,
          192,
          193,
          194,
          195,
          196,
          197,
          198,
          199,
          200,
          201,
          202,
          203,
          204,
          205,
          206,
          207,
          208,
          209,
          210,
          211,
          212,
          213,
          214,
          215,
          216,
          217,
          218,
          219,
          220,
          221,
          222,
          223,
          224,
          225,
          226,
          227,
          228,
          229,
          230,
          231,
          232,
          233,
          234,
          235,
          236,
          237,
          238,
          239,
          240,
          241,
          242,
          243,
          244,
          245,
          246,
          247,
          248,
          249,
          250,
          251,
          252,
          253,
          254,
          255,
          256,
          257,
          258,
          259,
          260,
          261,
          262,
          263,
          264,
          265,
          266,
          267,
          268,
          269,
          270,
          271,
          272,
          273,
          274,
          275,
          276,
          277,
          278,
          279,
          280,
          281,
          282,
          283,
          284,
          285,
          286,
          287,
          288,
          289,
          290,
          291,
          292,
          293,
          294,
          295,
          296,
          297,
          298,
          299,
          300,
          301,
          302,
          303,
          304,
          305,
          306,
          307,
          308,
          309,
          310,
          311,
          312,
          313,
          314,
          315,
          316,
          317,
          318,
          319,
          320,
          321,
          322,
          323,
          324,
          325,
          326,
          327,
          328,
          329,
          330,
          331,
          332,
          333,
          334,
          335,
          336,
          337,
          338,
          339,
          340,
          341,
          342,
          343,
          344,
          345,
          346,
          347,
          348,
          349,
          350,
          351,
          352,
          353,
          354,
          355,
          356,
          357,
          358,
          359,
          360,
          361,
          362,
          363,
          364,
          365,
          366,
          367,
          368,
          369,
          370,
          371,
          372,
          373,
          374,
          375,
          376,
          377,
          378,
          379,
          380,
          381,
          382,
          383,
          384,
          385,
          386,
          387,
          388,
          389,
          390,
          391,
          392,
          393,
          394,
          395,
          396,
          397,
          398,
          399,
          400,
          401,
          402,
          403,
          404,
          405,
          406,
          407,
          408,
          409,
          410,
          411,
          412,
          413,
          414,
          415,
          416,
          417,
          418,
          419,
          420,
          421,
          422,
          423,
          424,
          425,
          426,
          427,
          428,
          429,
          430,
          431,
          432,
          433,
          434,
          435,
          436,
          437,
          438,
          439,
          440,
          441,
          442,
          443,
          444,
          445,
          446,
          447,
          448,
          449,
          450,
          451,
          452,
          453,
          454,
          455,
          456,
          457,
          458,
          459,
          460,
          461,
          462,
          463,
          464,
          465,
          466,
          467,
          468,
          469,
          470,
          471,
          472,
          473,
          474,
          475,
          476,
          477,
          478,
          479,
          480,
          481,
          482,
          483,
          484,
          485,
          486,
          487,
          488,
          489,
          490,
          491,
          492,
          493,
          494,
          495,
          496,
          497,
          498,
          499,
          500,
          501,
          502,
          503,
          504,
          505,
          506,
          507,
          508,
          509,
          510,
          511,
          512,
          513,
          514,
          515,
          516,
          517,
          518,
          519,
          520,
          521,
          522,
          523,
          524,
          525,
          526,
          527,
          528,
          529,
          530,
          531,
          532,
          533,
          534,
          535,
          536,
          537,
          538,
          539,
          540,
          541,
          542,
          543,
          544,
          545,
          546,
          547,
          548,
          549,
          550,
          551,
          552,
          553,
          554,
          555,
          556,
          557,
          558,
          559,
          560,
          561,
          562,
          563,
          564,
          565,
          566,
          567,
          568,
          569,
          570,
          571,
          572,
          573,
          574,
          575,
          576,
          577,
          578,
          579,
          580,
          581,
          582,
          583,
          584,
          585,
          586,
          587,
          588,
          589,
          590,
          591,
          592,
          593,
          594,
          595,
          596,
          597,
          598,
          599,
          600,
          601,
          602,
          603,
          604,
          605,
          606,
          607,
          608,
          609,
          610,
          611,
          612,
          613,
          614,
          615,
          616,
          617,
          618,
          619,
          620,
          621,
          622,
          623,
          624,
          625,
          626,
          627,
          628,
          629,
          630,
          631,
          632,
          633,
          634,
          635,
          636,
          637,
          638,
          639,
          640,
          641,
          642,
          643,
          644,
          645,
          646,
          647,
          648,
          649,
          650,
          651,
          652,
          653,
          654,
          655,
          656,
          657,
          658,
          659,
          660,
          661,
          662,
          663,
          664,
          665,
          666,
          667,
          668,
          669,
          670,
          671,
          672,
          673,
          674,
          675,
          676,
          677,
          678,
          679,
          680,
          681,
          682,
          683,
          684,
          685,
          686,
          687,
          688,
          689,
          690,
          691,
          692
         ],
         "xaxis": "x",
         "y": [
          8418.59,
          8447.47,
          8336.49,
          8579.17,
          8524.31,
          8623.5,
          8320.11,
          8313.53,
          8461.34,
          8497.24,
          8674.65,
          8354.63,
          8526.67,
          8767.31,
          8689.53,
          8623.62,
          8527.89,
          8450.51,
          8629.84,
          8840.12,
          8768.17,
          8891.15,
          8851.8,
          8734.27,
          8719.43,
          8481.94,
          8383.21,
          8343.63,
          8333.17,
          8497.34,
          8326.74,
          8542.81,
          8544.43,
          8330,
          8005.84,
          8269.73,
          8385.14,
          8259.88,
          8411.89,
          7967.5,
          7861.130000000001,
          7857.489999999999,
          7861.880000000001,
          7791.16,
          7870.36,
          7789.55,
          7789.31,
          7668.63,
          7498.810000000001,
          7365.83,
          7396.36,
          7507.75,
          7386.67,
          8850.22,
          8818.8,
          8514.96,
          8759.27,
          8716.09,
          8531.38,
          8555.73,
          8582.61,
          8220.62,
          8060.37,
          8264.02,
          8073.39,
          8033.41,
          8130.92,
          8977.75,
          8873.18,
          8668.14,
          8631.88,
          8921.67,
          8975.52,
          8920.54,
          8933.95,
          8887.34,
          8679.44,
          8902.09,
          8847.79,
          8860.96,
          8742.61,
          8814.77,
          8797.31,
          8760.83,
          8694.32,
          8525.75,
          8566.44,
          8566.34,
          8816.94,
          8895.78,
          8842.24,
          8663.83,
          8881.29,
          8840.29,
          8305.75,
          8298.53,
          8225.72,
          7818.88,
          7901.22,
          7773.4,
          7627.04,
          7671,
          7608.99,
          7543.56,
          7742.56,
          7690.740000000001,
          7645.900000000001,
          7286.52,
          7726.48,
          7690.65,
          7509.97,
          7677.09,
          7426.04,
          7042.67,
          7186.41,
          7333.94,
          6895.51,
          7028.23,
          6766.37,
          6777.93,
          8140.23,
          8067.01,
          8290.87,
          8160.22,
          8234.93,
          8097.23,
          8113.46,
          7984.16,
          7827.990000000001,
          7998.88,
          7777.79,
          7652.93,
          7819.490000000001,
          8357.5,
          8466.65,
          8512.16,
          8748.9,
          8495.31,
          8706.42,
          8704.04,
          8741.24,
          8687.74,
          8357.45,
          8463.36,
          8652.51,
          8574.33,
          8447.78743300423,
          8654.317433004231,
          8481.087433004232,
          8410.477433004231,
          8564.69743300423,
          8761.53743300423,
          8673.44743300423,
          8527.35743300423,
          8607.237433004231,
          8727.27743300423,
          8398.60743300423,
          8438.427433004232,
          8530.52743300423,
          9033.28,
          8834.53,
          9137.76,
          8810.94,
          8921.68,
          9110.39,
          9198.97,
          8951.99,
          9054,
          9015.32,
          9099.88,
          9136.03,
          9140.61,
          8717.92,
          8854.64,
          8758.95,
          8864.43,
          8804.02,
          8660.67,
          8862.45,
          8550.54,
          8396.13,
          8510.4,
          8384.2,
          8442.21,
          8242.29,
          8113.34,
          8172.61,
          7826.22,
          7931.52,
          7863.659999999999,
          8000.13,
          7742.26,
          7787.02,
          8123.329999999999,
          7956.01,
          8117.72,
          7679.54,
          7408.77,
          7680.49,
          7822.24,
          7401.9,
          7549.030000000001,
          7597.330000000001,
          7876.87,
          7640.1,
          7662.78,
          7880.89,
          7511.839999999999,
          7503.090000000001,
          7637.55,
          8706.007433004232,
          8471.18,
          8162.21,
          8206.11,
          8156.05,
          8315.46,
          8180.43,
          8358.79,
          8038.669999999999,
          8161.51,
          8168.700000000001,
          7895.52,
          8071.06,
          8049.87,
          8456.51,
          8342.68,
          8395.88,
          8345.97,
          8625.02,
          8476.75,
          8425.69,
          8673.53,
          8433.31,
          8447.27,
          8384.01,
          8682.86,
          8383.98,
          8522.497433004231,
          8643.667433004231,
          8455.85743300423,
          8404.017433004232,
          8426.927433004232,
          8546.267433004232,
          8631.347433004232,
          8448.927433004232,
          8395.267433004232,
          8627.36743300423,
          8744.12743300423,
          8544.63743300423,
          8418.227433004231,
          8711.497433004231,
          8469.737433004231,
          8741.71743300423,
          8726.54743300423,
          8425.87743300423,
          8533.667433004231,
          8482.597433004232,
          8763.897433004231,
          8724.10743300423,
          8742.927433004232,
          8514.87743300423,
          8492.817433004231,
          8741.497433004231,
          8846.74,
          8712.88,
          8966.02,
          8943.54,
          8658.68,
          8874.38,
          8854.34,
          8912.62,
          8852.59,
          8403.79743300423,
          8517.75,
          8687.37,
          8527.76,
          8524.02,
          8177.73,
          7906.48,
          7991.06,
          8005.05,
          8163.58,
          8099.220000000001,
          8326.14,
          8770.94743300423,
          7614.19,
          7802.72,
          7611.92,
          7271.8,
          7776.22,
          7899.29,
          7674.61,
          7732.23,
          7857.43,
          8593.347433004232,
          7584.6,
          7629.119999999999,
          7590.11,
          7475.93,
          7810.370000000001,
          7691.300000000001,
          7638.23,
          8195.05,
          8429.84,
          8210.79,
          8270.18,
          8103.98,
          8429.96,
          8290.61,
          8335.76,
          8473.26,
          8506.01,
          8514.72,
          8548.35,
          8251.72,
          8203.63,
          8363.47,
          8483.69,
          8204.11,
          8518.07,
          8559.73,
          8372.3,
          8275.93,
          8789.05,
          8586.45,
          8705.95,
          8560.08,
          8628.18,
          8614.9,
          8565.23,
          8648.48,
          8460.05,
          8753.76,
          8761.76,
          8720.62,
          8723.6,
          8777.46,
          8532.88,
          8444.97,
          8768.41,
          8729.64,
          8724.74,
          8768.45,
          8512.72,
          8668.46,
          8849.96,
          8956.74,
          8677.24,
          8742.85,
          8820.26,
          8767.52,
          8710.77,
          8677.98,
          8707.12,
          8705.17,
          8836.93,
          8895.35,
          8776.3,
          8845.21,
          8837.38,
          8987.64,
          8817.57,
          8965.68,
          9019.19,
          9016.66,
          8898.79,
          9144.25,
          8793.61,
          8813.77,
          9008.8,
          9037.4,
          8791.08,
          8906.89,
          8971.28,
          8804.38,
          8745.35,
          9035.14,
          8718.88,
          8880.5,
          9039.68,
          9156.73,
          8963.57,
          9039.73,
          8986.55,
          9032.47,
          8808.94,
          9053.27,
          8766.99,
          8848.9,
          8746.88,
          9070.48,
          8782.22,
          8831.8,
          8871.2,
          8749.64,
          8699.24,
          8704.927433004232,
          8689.46,
          8386.07,
          8548.12,
          8664.38,
          8678.02,
          8702.41,
          8676.78,
          8678.88,
          8644.05,
          8453.69,
          8453.35,
          8810.68,
          8658.27,
          8703.43,
          8604.88,
          8575.49,
          8566.71,
          8512.47,
          8635.24,
          8618.88,
          8780.75,
          8748.91,
          8575.98,
          8765.68,
          8663.16,
          8604.36,
          8800.05,
          8707.58,
          8749.14,
          8723.72,
          8628.97,
          8559.23,
          8696.14,
          8468.16,
          8436.27,
          8508.47,
          8783.46,
          8697.09,
          8611.56,
          8771.77,
          8801.96,
          8570.86,
          8308.05,
          8381.28,
          8539.77,
          8556.58,
          8481.31,
          8833.87,
          8601.02,
          8886.49,
          8973.66,
          8689.85,
          8526.83,
          8833.18,
          8729.95,
          8638.21,
          9143.65,
          9122.25,
          9118.83,
          8831.82,
          8815.85,
          9053.61,
          8796.69,
          8889.98,
          9023.04,
          9145.24,
          8935.57,
          8808.61,
          8762.39,
          8945.61,
          8886.24,
          8860.99,
          9117.61,
          8970.38,
          8814.07,
          8802.49,
          9054.36,
          8804.78,
          9092.92,
          9056.33,
          9166.56,
          9043.52,
          9005.41,
          9087.66,
          8806.51,
          8848.71,
          8917.63,
          8997.28,
          8407.807433004231,
          8798.49,
          8422.68743300423,
          9076.51,
          8480.60743300423,
          9081.48,
          8493.347433004232,
          8500.27743300423,
          8844.54,
          8305.02,
          8477.84,
          8491.48,
          8604.79,
          8279.12,
          8593.54,
          8646.73,
          8588.43,
          8592.25,
          8576.82,
          8393.07,
          8458.74,
          8588.06,
          8652.2,
          8472.15,
          8691.6,
          8561.73,
          8694.41,
          8741.2,
          8695.26,
          8450.04,
          8711.17,
          8761.81,
          8970.92,
          8766.72,
          8844.29,
          8644.95,
          8589.18,
          8629.85,
          8550.19,
          8509.16,
          8452.32,
          8661.93,
          8442.83,
          8591.97,
          8717.38,
          8755.06,
          8697.7,
          8417.71,
          8438.75,
          8317.56,
          8510.06,
          8220.67,
          8412.62,
          8312.23,
          8492.92,
          8415.2,
          8277.67,
          8712.49,
          8662.52,
          8689.63,
          8462.77,
          8473.36,
          8295.04,
          8043.32,
          8041.109999999999,
          8850.96,
          8855.48,
          8677.56,
          8748.51,
          9089.47,
          8780.52,
          8927.32,
          9127.92,
          8911.94,
          9070.2,
          8896.07,
          8897.89,
          8893.06,
          8702.28,
          8857.12,
          9012.68,
          8960.53,
          8859.49,
          8860.07,
          8770.59,
          8925.03,
          8961.06,
          8954.16,
          8994.06,
          9055.34,
          8975.52,
          8954.66,
          8859.3,
          8738.22,
          8946.88,
          8984.3,
          9083.42,
          8922.16,
          8994.28,
          8824.37,
          8867.27,
          8765.83,
          9065.68,
          8968.91,
          8752.27,
          8998.44,
          8998,
          8907.64,
          9143.67,
          8836.85,
          8802.92,
          9012.25,
          9026.09,
          9012.07,
          9040.92,
          9051.3,
          8988.03,
          8606.18743300423,
          8973.76,
          8946.17,
          9138.9,
          9012.11,
          8800.41,
          8697.11,
          9080.03,
          9053.09,
          9021.53,
          9083.78,
          8879.25,
          9041.34,
          8798.81,
          8907.75,
          8824.76,
          8997.66,
          8885.79,
          8898.75,
          8788.59,
          8830.99,
          8911.24,
          9034.61,
          8973.45,
          9014.11,
          9253,
          9290.02,
          9084.91,
          8878.94,
          8891.28,
          9138.69,
          8673.06,
          8962.49,
          8870.54,
          8703.57,
          8821.19,
          8733.52,
          8735.1,
          8653.05,
          8725.97,
          8939.37,
          8651.68,
          8935.09,
          8870.74,
          8848.91,
          8795.41,
          8648.71,
          8948.38,
          8766.79,
          8813.44,
          8814.25,
          8862.09,
          8663.19,
          8756.53,
          9000.43,
          9019.22,
          8982.75,
          8935.37,
          8650.53,
          8999.19,
          8720.86,
          8629.93,
          8739.22,
          8936.77,
          8668.82,
          8766,
          8852.32,
          8831.17,
          8934.2,
          8679.34,
          8865.31,
          8862.45,
          8848.05,
          8674.47,
          8950.12,
          9055.75,
          9078.06,
          8955.81,
          8946.92,
          8801.88,
          8953.92,
          8800.98,
          9096.06,
          8878.27,
          8829.95,
          8848.98,
          8800.45,
          9197.99,
          9062.44,
          8963.12
         ],
         "yaxis": "y"
        },
        {
         "hovertemplate": "<b>OLS trendline</b><br>GrocerySales = 1.07076 * Day + 8193.72<br>R<sup>2</sup>=0.249172<br><br>Day=%{x}<br>GrocerySales=%{y} <b>(trend)</b><extra></extra>",
         "legendgroup": "",
         "marker": {
          "color": "#636efa",
          "symbol": "circle"
         },
         "mode": "lines",
         "name": "",
         "showlegend": false,
         "type": "scatter",
         "x": [
          1,
          2,
          3,
          4,
          5,
          6,
          7,
          8,
          9,
          10,
          11,
          12,
          13,
          14,
          15,
          16,
          17,
          18,
          19,
          20,
          21,
          22,
          23,
          24,
          25,
          26,
          27,
          28,
          29,
          30,
          31,
          32,
          33,
          34,
          35,
          36,
          37,
          38,
          39,
          40,
          41,
          42,
          43,
          44,
          45,
          46,
          47,
          48,
          49,
          50,
          51,
          52,
          53,
          54,
          55,
          56,
          57,
          58,
          59,
          60,
          61,
          62,
          63,
          64,
          65,
          66,
          67,
          68,
          69,
          70,
          71,
          72,
          73,
          74,
          75,
          76,
          77,
          78,
          79,
          80,
          81,
          82,
          83,
          84,
          85,
          86,
          87,
          88,
          89,
          90,
          91,
          92,
          93,
          94,
          95,
          96,
          97,
          98,
          99,
          100,
          101,
          102,
          103,
          104,
          105,
          106,
          107,
          108,
          109,
          110,
          111,
          112,
          113,
          114,
          115,
          116,
          117,
          118,
          119,
          120,
          121,
          122,
          123,
          124,
          125,
          126,
          127,
          128,
          129,
          130,
          131,
          132,
          133,
          134,
          135,
          136,
          137,
          138,
          139,
          140,
          141,
          142,
          143,
          144,
          145,
          146,
          147,
          148,
          149,
          150,
          151,
          152,
          153,
          154,
          155,
          156,
          157,
          158,
          159,
          160,
          161,
          162,
          163,
          164,
          165,
          166,
          167,
          168,
          169,
          170,
          171,
          172,
          173,
          174,
          175,
          176,
          177,
          178,
          179,
          180,
          181,
          182,
          183,
          184,
          185,
          186,
          187,
          188,
          189,
          190,
          191,
          192,
          193,
          194,
          195,
          196,
          197,
          198,
          199,
          200,
          201,
          202,
          203,
          204,
          205,
          206,
          207,
          208,
          209,
          210,
          211,
          212,
          213,
          214,
          215,
          216,
          217,
          218,
          219,
          220,
          221,
          222,
          223,
          224,
          225,
          226,
          227,
          228,
          229,
          230,
          231,
          232,
          233,
          234,
          235,
          236,
          237,
          238,
          239,
          240,
          241,
          242,
          243,
          244,
          245,
          246,
          247,
          248,
          249,
          250,
          251,
          252,
          253,
          254,
          255,
          256,
          257,
          258,
          259,
          260,
          261,
          262,
          263,
          264,
          265,
          266,
          267,
          268,
          269,
          270,
          271,
          272,
          273,
          274,
          275,
          276,
          277,
          278,
          279,
          280,
          281,
          282,
          283,
          284,
          285,
          286,
          287,
          288,
          289,
          290,
          291,
          292,
          293,
          294,
          295,
          296,
          297,
          298,
          299,
          300,
          301,
          302,
          303,
          304,
          305,
          306,
          307,
          308,
          309,
          310,
          311,
          312,
          313,
          314,
          315,
          316,
          317,
          318,
          319,
          320,
          321,
          322,
          323,
          324,
          325,
          326,
          327,
          328,
          329,
          330,
          331,
          332,
          333,
          334,
          335,
          336,
          337,
          338,
          339,
          340,
          341,
          342,
          343,
          344,
          345,
          346,
          347,
          348,
          349,
          350,
          351,
          352,
          353,
          354,
          355,
          356,
          357,
          358,
          359,
          360,
          361,
          362,
          363,
          364,
          365,
          366,
          367,
          368,
          369,
          370,
          371,
          372,
          373,
          374,
          375,
          376,
          377,
          378,
          379,
          380,
          381,
          382,
          383,
          384,
          385,
          386,
          387,
          388,
          389,
          390,
          391,
          392,
          393,
          394,
          395,
          396,
          397,
          398,
          399,
          400,
          401,
          402,
          403,
          404,
          405,
          406,
          407,
          408,
          409,
          410,
          411,
          412,
          413,
          414,
          415,
          416,
          417,
          418,
          419,
          420,
          421,
          422,
          423,
          424,
          425,
          426,
          427,
          428,
          429,
          430,
          431,
          432,
          433,
          434,
          435,
          436,
          437,
          438,
          439,
          440,
          441,
          442,
          443,
          444,
          445,
          446,
          447,
          448,
          449,
          450,
          451,
          452,
          453,
          454,
          455,
          456,
          457,
          458,
          459,
          460,
          461,
          462,
          463,
          464,
          465,
          466,
          467,
          468,
          469,
          470,
          471,
          472,
          473,
          474,
          475,
          476,
          477,
          478,
          479,
          480,
          481,
          482,
          483,
          484,
          485,
          486,
          487,
          488,
          489,
          490,
          491,
          492,
          493,
          494,
          495,
          496,
          497,
          498,
          499,
          500,
          501,
          502,
          503,
          504,
          505,
          506,
          507,
          508,
          509,
          510,
          511,
          512,
          513,
          514,
          515,
          516,
          517,
          518,
          519,
          520,
          521,
          522,
          523,
          524,
          525,
          526,
          527,
          528,
          529,
          530,
          531,
          532,
          533,
          534,
          535,
          536,
          537,
          538,
          539,
          540,
          541,
          542,
          543,
          544,
          545,
          546,
          547,
          548,
          549,
          550,
          551,
          552,
          553,
          554,
          555,
          556,
          557,
          558,
          559,
          560,
          561,
          562,
          563,
          564,
          565,
          566,
          567,
          568,
          569,
          570,
          571,
          572,
          573,
          574,
          575,
          576,
          577,
          578,
          579,
          580,
          581,
          582,
          583,
          584,
          585,
          586,
          587,
          588,
          589,
          590,
          591,
          592,
          593,
          594,
          595,
          596,
          597,
          598,
          599,
          600,
          601,
          602,
          603,
          604,
          605,
          606,
          607,
          608,
          609,
          610,
          611,
          612,
          613,
          614,
          615,
          616,
          617,
          618,
          619,
          620,
          621,
          622,
          623,
          624,
          625,
          626,
          627,
          628,
          629,
          630,
          631,
          632,
          633,
          634,
          635,
          636,
          637,
          638,
          639,
          640,
          641,
          642,
          643,
          644,
          645,
          646,
          647,
          648,
          649,
          650,
          651,
          652,
          653,
          654,
          655,
          656,
          657,
          658,
          659,
          660,
          661,
          662,
          663,
          664,
          665,
          666,
          667,
          668,
          669,
          670,
          671,
          672,
          673,
          674,
          675,
          676,
          677,
          678,
          679,
          680,
          681,
          682,
          683,
          684,
          685,
          686,
          687,
          688,
          689,
          690,
          691,
          692
         ],
         "xaxis": "x",
         "y": [
          8194.786393061682,
          8195.857151607357,
          8196.927910153034,
          8197.99866869871,
          8199.069427244387,
          8200.140185790062,
          8201.210944335739,
          8202.281702881415,
          8203.352461427092,
          8204.423219972767,
          8205.493978518443,
          8206.56473706412,
          8207.635495609795,
          8208.706254155471,
          8209.777012701148,
          8210.847771246825,
          8211.9185297925,
          8212.989288338176,
          8214.060046883853,
          8215.13080542953,
          8216.201563975204,
          8217.272322520881,
          8218.343081066558,
          8219.413839612233,
          8220.48459815791,
          8221.555356703586,
          8222.626115249263,
          8223.696873794937,
          8224.767632340614,
          8225.83839088629,
          8226.909149431967,
          8227.979907977642,
          8229.050666523319,
          8230.121425068995,
          8231.19218361467,
          8232.262942160347,
          8233.333700706024,
          8234.4044592517,
          8235.475217797375,
          8236.545976343052,
          8237.616734888728,
          8238.687493434405,
          8239.75825198008,
          8240.829010525757,
          8241.899769071433,
          8242.970527617108,
          8244.041286162785,
          8245.112044708461,
          8246.182803254138,
          8247.253561799813,
          8248.32432034549,
          8249.395078891166,
          8250.465837436843,
          8251.536595982518,
          8252.607354528194,
          8253.678113073871,
          8254.748871619546,
          8255.819630165222,
          8256.890388710899,
          8257.961147256576,
          8259.03190580225,
          8260.102664347927,
          8261.173422893604,
          8262.24418143928,
          8263.314939984955,
          8264.385698530632,
          8265.456457076309,
          8266.527215621983,
          8267.59797416766,
          8268.668732713337,
          8269.739491259013,
          8270.810249804688,
          8271.881008350365,
          8272.951766896042,
          8274.022525441718,
          8275.093283987393,
          8276.16404253307,
          8277.234801078746,
          8278.305559624421,
          8279.376318170098,
          8280.447076715775,
          8281.517835261451,
          8282.588593807126,
          8283.659352352803,
          8284.73011089848,
          8285.800869444156,
          8286.87162798983,
          8287.942386535507,
          8289.013145081184,
          8290.083903626859,
          8291.154662172536,
          8292.225420718212,
          8293.296179263889,
          8294.366937809564,
          8295.43769635524,
          8296.508454900917,
          8297.579213446594,
          8298.649971992269,
          8299.720730537945,
          8300.791489083622,
          8301.862247629299,
          8302.933006174973,
          8304.00376472065,
          8305.074523266327,
          8306.145281812001,
          8307.216040357678,
          8308.286798903355,
          8309.357557449031,
          8310.428315994706,
          8311.499074540383,
          8312.56983308606,
          8313.640591631736,
          8314.711350177411,
          8315.782108723088,
          8316.852867268764,
          8317.92362581444,
          8318.994384360116,
          8320.065142905793,
          8321.13590145147,
          8322.206659997144,
          8323.27741854282,
          8324.348177088497,
          8325.418935634174,
          8326.489694179849,
          8327.560452725525,
          8328.631211271202,
          8329.701969816877,
          8330.772728362554,
          8331.84348690823,
          8332.914245453907,
          8333.985003999582,
          8335.055762545258,
          8336.126521090935,
          8337.197279636612,
          8338.268038182287,
          8339.338796727963,
          8340.40955527364,
          8341.480313819315,
          8342.551072364991,
          8343.621830910668,
          8344.692589456345,
          8345.76334800202,
          8346.834106547696,
          8347.904865093373,
          8348.97562363905,
          8350.046382184724,
          8351.117140730401,
          8352.187899276078,
          8353.258657821752,
          8354.329416367429,
          8355.400174913106,
          8356.470933458782,
          8357.541692004457,
          8358.612450550134,
          8359.68320909581,
          8360.753967641487,
          8361.824726187162,
          8362.895484732839,
          8363.966243278515,
          8365.03700182419,
          8366.107760369867,
          8367.178518915543,
          8368.24927746122,
          8369.320036006895,
          8370.390794552572,
          8371.461553098248,
          8372.532311643925,
          8373.6030701896,
          8374.673828735276,
          8375.744587280953,
          8376.815345826628,
          8377.886104372305,
          8378.956862917981,
          8380.027621463658,
          8381.098380009333,
          8382.16913855501,
          8383.239897100686,
          8384.310655646363,
          8385.381414192037,
          8386.452172737714,
          8387.52293128339,
          8388.593689829066,
          8389.664448374742,
          8390.735206920419,
          8391.805965466096,
          8392.87672401177,
          8393.947482557447,
          8395.018241103124,
          8396.0889996488,
          8397.159758194475,
          8398.230516740152,
          8399.301275285829,
          8400.372033831503,
          8401.44279237718,
          8402.513550922857,
          8403.584309468533,
          8404.655068014208,
          8405.725826559885,
          8406.796585105561,
          8407.867343651238,
          8408.938102196913,
          8410.00886074259,
          8411.079619288266,
          8412.150377833941,
          8413.221136379618,
          8414.291894925294,
          8415.362653470971,
          8416.433412016646,
          8417.504170562323,
          8418.574929108,
          8419.645687653676,
          8420.71644619935,
          8421.787204745027,
          8422.857963290704,
          8423.928721836379,
          8424.999480382055,
          8426.070238927732,
          8427.140997473409,
          8428.211756019084,
          8429.28251456476,
          8430.353273110437,
          8431.424031656114,
          8432.494790201788,
          8433.565548747465,
          8434.636307293142,
          8435.707065838817,
          8436.777824384493,
          8437.84858293017,
          8438.919341475847,
          8439.990100021521,
          8441.060858567198,
          8442.131617112875,
          8443.202375658551,
          8444.273134204226,
          8445.343892749903,
          8446.41465129558,
          8447.485409841254,
          8448.556168386931,
          8449.626926932608,
          8450.697685478284,
          8451.76844402396,
          8452.839202569636,
          8453.909961115312,
          8454.980719660989,
          8456.051478206664,
          8457.12223675234,
          8458.192995298017,
          8459.263753843694,
          8460.334512389369,
          8461.405270935045,
          8462.476029480722,
          8463.546788026397,
          8464.617546572073,
          8465.68830511775,
          8466.759063663427,
          8467.829822209102,
          8468.900580754778,
          8469.971339300455,
          8471.04209784613,
          8472.112856391806,
          8473.183614937483,
          8474.25437348316,
          8475.325132028835,
          8476.395890574511,
          8477.466649120188,
          8478.537407665865,
          8479.60816621154,
          8480.678924757216,
          8481.749683302893,
          8482.82044184857,
          8483.891200394244,
          8484.96195893992,
          8486.032717485597,
          8487.103476031272,
          8488.174234576949,
          8489.244993122626,
          8490.315751668302,
          8491.386510213977,
          8492.457268759654,
          8493.52802730533,
          8494.598785851005,
          8495.669544396682,
          8496.740302942359,
          8497.811061488035,
          8498.88182003371,
          8499.952578579387,
          8501.023337125063,
          8502.09409567074,
          8503.164854216415,
          8504.235612762091,
          8505.306371307768,
          8506.377129853445,
          8507.44788839912,
          8508.518646944796,
          8509.589405490473,
          8510.660164036148,
          8511.730922581824,
          8512.801681127501,
          8513.872439673178,
          8514.943198218853,
          8516.01395676453,
          8517.084715310206,
          8518.155473855883,
          8519.226232401557,
          8520.296990947234,
          8521.36774949291,
          8522.438508038585,
          8523.509266584262,
          8524.580025129939,
          8525.650783675615,
          8526.72154222129,
          8527.792300766967,
          8528.863059312644,
          8529.93381785832,
          8531.004576403995,
          8532.075334949672,
          8533.146093495348,
          8534.216852041023,
          8535.2876105867,
          8536.358369132377,
          8537.429127678053,
          8538.499886223728,
          8539.570644769405,
          8540.641403315081,
          8541.712161860758,
          8542.782920406433,
          8543.85367895211,
          8544.924437497786,
          8545.995196043461,
          8547.065954589138,
          8548.136713134814,
          8549.207471680491,
          8550.278230226166,
          8551.348988771842,
          8552.419747317519,
          8553.490505863196,
          8554.56126440887,
          8555.632022954547,
          8556.702781500224,
          8557.773540045899,
          8558.844298591575,
          8559.915057137252,
          8560.985815682929,
          8562.056574228603,
          8563.12733277428,
          8564.198091319957,
          8565.268849865633,
          8566.339608411308,
          8567.410366956985,
          8568.481125502662,
          8569.551884048336,
          8570.622642594013,
          8571.69340113969,
          8572.764159685366,
          8573.834918231041,
          8574.905676776718,
          8575.976435322395,
          8577.047193868071,
          8578.117952413746,
          8579.188710959423,
          8580.2594695051,
          8581.330228050774,
          8582.40098659645,
          8583.471745142127,
          8584.542503687804,
          8585.613262233479,
          8586.684020779156,
          8587.754779324832,
          8588.825537870509,
          8589.896296416184,
          8590.96705496186,
          8592.037813507537,
          8593.108572053212,
          8594.179330598889,
          8595.250089144565,
          8596.320847690242,
          8597.391606235917,
          8598.462364781593,
          8599.53312332727,
          8600.603881872947,
          8601.674640418621,
          8602.745398964298,
          8603.816157509975,
          8604.88691605565,
          8605.957674601326,
          8607.028433147003,
          8608.09919169268,
          8609.169950238354,
          8610.240708784031,
          8611.311467329708,
          8612.382225875384,
          8613.45298442106,
          8614.523742966736,
          8615.594501512413,
          8616.665260058087,
          8617.736018603764,
          8618.80677714944,
          8619.877535695117,
          8620.948294240792,
          8622.019052786469,
          8623.089811332145,
          8624.160569877822,
          8625.231328423497,
          8626.302086969174,
          8627.37284551485,
          8628.443604060525,
          8629.514362606202,
          8630.585121151878,
          8631.655879697555,
          8632.72663824323,
          8633.797396788907,
          8634.868155334583,
          8635.93891388026,
          8637.009672425935,
          8638.080430971611,
          8639.151189517288,
          8640.221948062965,
          8641.29270660864,
          8642.363465154316,
          8643.434223699993,
          8644.504982245668,
          8645.575740791344,
          8646.646499337021,
          8647.717257882698,
          8648.788016428372,
          8649.858774974049,
          8650.929533519726,
          8652.0002920654,
          8653.071050611077,
          8654.141809156754,
          8655.21256770243,
          8656.283326248105,
          8657.354084793782,
          8658.424843339459,
          8659.495601885135,
          8660.56636043081,
          8661.637118976487,
          8662.707877522163,
          8663.77863606784,
          8664.849394613515,
          8665.920153159192,
          8666.990911704868,
          8668.061670250543,
          8669.13242879622,
          8670.203187341896,
          8671.273945887573,
          8672.344704433248,
          8673.415462978925,
          8674.486221524601,
          8675.556980070276,
          8676.627738615953,
          8677.69849716163,
          8678.769255707306,
          8679.84001425298,
          8680.910772798657,
          8681.981531344334,
          8683.05228989001,
          8684.123048435686,
          8685.193806981362,
          8686.264565527039,
          8687.335324072716,
          8688.40608261839,
          8689.476841164067,
          8690.547599709744,
          8691.618358255419,
          8692.689116801095,
          8693.759875346772,
          8694.830633892449,
          8695.901392438123,
          8696.9721509838,
          8698.042909529477,
          8699.113668075152,
          8700.184426620828,
          8701.255185166505,
          8702.325943712181,
          8703.396702257856,
          8704.467460803533,
          8705.53821934921,
          8706.608977894886,
          8707.679736440561,
          8708.750494986238,
          8709.821253531914,
          8710.892012077591,
          8711.962770623266,
          8713.033529168943,
          8714.10428771462,
          8715.175046260294,
          8716.24580480597,
          8717.316563351647,
          8718.387321897324,
          8719.458080442999,
          8720.528838988675,
          8721.599597534352,
          8722.670356080027,
          8723.741114625704,
          8724.81187317138,
          8725.882631717057,
          8726.953390262732,
          8728.024148808408,
          8729.094907354085,
          8730.165665899762,
          8731.236424445437,
          8732.307182991113,
          8733.37794153679,
          8734.448700082467,
          8735.519458628141,
          8736.590217173818,
          8737.660975719495,
          8738.73173426517,
          8739.802492810846,
          8740.873251356523,
          8741.9440099022,
          8743.014768447874,
          8744.085526993551,
          8745.156285539228,
          8746.227044084904,
          8747.29780263058,
          8748.368561176256,
          8749.439319721932,
          8750.510078267607,
          8751.580836813284,
          8752.65159535896,
          8753.722353904637,
          8754.793112450312,
          8755.863870995989,
          8756.934629541665,
          8758.005388087342,
          8759.076146633017,
          8760.146905178693,
          8761.21766372437,
          8762.288422270045,
          8763.359180815722,
          8764.429939361398,
          8765.500697907075,
          8766.57145645275,
          8767.642214998426,
          8768.712973544103,
          8769.78373208978,
          8770.854490635455,
          8771.925249181131,
          8772.996007726808,
          8774.066766272483,
          8775.13752481816,
          8776.208283363836,
          8777.279041909513,
          8778.349800455188,
          8779.420559000864,
          8780.49131754654,
          8781.562076092217,
          8782.632834637892,
          8783.703593183569,
          8784.774351729246,
          8785.84511027492,
          8786.915868820597,
          8787.986627366274,
          8789.05738591195,
          8790.128144457625,
          8791.198903003302,
          8792.269661548979,
          8793.340420094655,
          8794.41117864033,
          8795.481937186007,
          8796.552695731683,
          8797.62345427736,
          8798.694212823035,
          8799.764971368711,
          8800.835729914388,
          8801.906488460063,
          8802.97724700574,
          8804.048005551416,
          8805.118764097093,
          8806.189522642768,
          8807.260281188444,
          8808.331039734121,
          8809.401798279796,
          8810.472556825473,
          8811.54331537115,
          8812.614073916826,
          8813.6848324625,
          8814.755591008177,
          8815.826349553854,
          8816.89710809953,
          8817.967866645206,
          8819.038625190882,
          8820.109383736559,
          8821.180142282235,
          8822.25090082791,
          8823.321659373587,
          8824.392417919264,
          8825.463176464938,
          8826.533935010615,
          8827.604693556292,
          8828.675452101968,
          8829.746210647643,
          8830.81696919332,
          8831.887727738997,
          8832.958486284671,
          8834.029244830348,
          8835.100003376025,
          8836.170761921701,
          8837.241520467376,
          8838.312279013053,
          8839.38303755873,
          8840.453796104406,
          8841.524554650081,
          8842.595313195758,
          8843.666071741434,
          8844.736830287111,
          8845.807588832786,
          8846.878347378462,
          8847.949105924139,
          8849.019864469814,
          8850.09062301549,
          8851.161381561167,
          8852.232140106844,
          8853.302898652519,
          8854.373657198195,
          8855.444415743872,
          8856.515174289547,
          8857.585932835224,
          8858.6566913809,
          8859.727449926577,
          8860.798208472252,
          8861.868967017928,
          8862.939725563605,
          8864.010484109282,
          8865.081242654956,
          8866.152001200633,
          8867.22275974631,
          8868.293518291986,
          8869.364276837661,
          8870.435035383338,
          8871.505793929015,
          8872.57655247469,
          8873.647311020366,
          8874.718069566043,
          8875.78882811172,
          8876.859586657394,
          8877.93034520307,
          8879.001103748747,
          8880.071862294422,
          8881.142620840099,
          8882.213379385776,
          8883.284137931452,
          8884.354896477127,
          8885.425655022804,
          8886.49641356848,
          8887.567172114157,
          8888.637930659832,
          8889.708689205509,
          8890.779447751185,
          8891.850206296862,
          8892.920964842537,
          8893.991723388213,
          8895.06248193389,
          8896.133240479565,
          8897.203999025242,
          8898.274757570918,
          8899.345516116595,
          8900.41627466227,
          8901.487033207946,
          8902.557791753623,
          8903.628550299298,
          8904.699308844974,
          8905.770067390651,
          8906.840825936328,
          8907.911584482003,
          8908.98234302768,
          8910.053101573356,
          8911.123860119033,
          8912.194618664707,
          8913.265377210384,
          8914.33613575606,
          8915.406894301737,
          8916.477652847412,
          8917.548411393089,
          8918.619169938765,
          8919.68992848444,
          8920.760687030117,
          8921.831445575794,
          8922.90220412147,
          8923.972962667145,
          8925.043721212822,
          8926.114479758498,
          8927.185238304175,
          8928.25599684985,
          8929.326755395527,
          8930.397513941203,
          8931.468272486878,
          8932.539031032555,
          8933.609789578231,
          8934.680548123908
         ],
         "yaxis": "y"
        }
       ],
       "layout": {
        "legend": {
         "tracegroupgap": 0
        },
        "margin": {
         "t": 60
        },
        "template": {
         "data": {
          "bar": [
           {
            "error_x": {
             "color": "#2a3f5f"
            },
            "error_y": {
             "color": "#2a3f5f"
            },
            "marker": {
             "line": {
              "color": "#E5ECF6",
              "width": 0.5
             },
             "pattern": {
              "fillmode": "overlay",
              "size": 10,
              "solidity": 0.2
             }
            },
            "type": "bar"
           }
          ],
          "barpolar": [
           {
            "marker": {
             "line": {
              "color": "#E5ECF6",
              "width": 0.5
             },
             "pattern": {
              "fillmode": "overlay",
              "size": 10,
              "solidity": 0.2
             }
            },
            "type": "barpolar"
           }
          ],
          "carpet": [
           {
            "aaxis": {
             "endlinecolor": "#2a3f5f",
             "gridcolor": "white",
             "linecolor": "white",
             "minorgridcolor": "white",
             "startlinecolor": "#2a3f5f"
            },
            "baxis": {
             "endlinecolor": "#2a3f5f",
             "gridcolor": "white",
             "linecolor": "white",
             "minorgridcolor": "white",
             "startlinecolor": "#2a3f5f"
            },
            "type": "carpet"
           }
          ],
          "choropleth": [
           {
            "colorbar": {
             "outlinewidth": 0,
             "ticks": ""
            },
            "type": "choropleth"
           }
          ],
          "contour": [
           {
            "colorbar": {
             "outlinewidth": 0,
             "ticks": ""
            },
            "colorscale": [
             [
              0,
              "#0d0887"
             ],
             [
              0.1111111111111111,
              "#46039f"
             ],
             [
              0.2222222222222222,
              "#7201a8"
             ],
             [
              0.3333333333333333,
              "#9c179e"
             ],
             [
              0.4444444444444444,
              "#bd3786"
             ],
             [
              0.5555555555555556,
              "#d8576b"
             ],
             [
              0.6666666666666666,
              "#ed7953"
             ],
             [
              0.7777777777777778,
              "#fb9f3a"
             ],
             [
              0.8888888888888888,
              "#fdca26"
             ],
             [
              1,
              "#f0f921"
             ]
            ],
            "type": "contour"
           }
          ],
          "contourcarpet": [
           {
            "colorbar": {
             "outlinewidth": 0,
             "ticks": ""
            },
            "type": "contourcarpet"
           }
          ],
          "heatmap": [
           {
            "colorbar": {
             "outlinewidth": 0,
             "ticks": ""
            },
            "colorscale": [
             [
              0,
              "#0d0887"
             ],
             [
              0.1111111111111111,
              "#46039f"
             ],
             [
              0.2222222222222222,
              "#7201a8"
             ],
             [
              0.3333333333333333,
              "#9c179e"
             ],
             [
              0.4444444444444444,
              "#bd3786"
             ],
             [
              0.5555555555555556,
              "#d8576b"
             ],
             [
              0.6666666666666666,
              "#ed7953"
             ],
             [
              0.7777777777777778,
              "#fb9f3a"
             ],
             [
              0.8888888888888888,
              "#fdca26"
             ],
             [
              1,
              "#f0f921"
             ]
            ],
            "type": "heatmap"
           }
          ],
          "heatmapgl": [
           {
            "colorbar": {
             "outlinewidth": 0,
             "ticks": ""
            },
            "colorscale": [
             [
              0,
              "#0d0887"
             ],
             [
              0.1111111111111111,
              "#46039f"
             ],
             [
              0.2222222222222222,
              "#7201a8"
             ],
             [
              0.3333333333333333,
              "#9c179e"
             ],
             [
              0.4444444444444444,
              "#bd3786"
             ],
             [
              0.5555555555555556,
              "#d8576b"
             ],
             [
              0.6666666666666666,
              "#ed7953"
             ],
             [
              0.7777777777777778,
              "#fb9f3a"
             ],
             [
              0.8888888888888888,
              "#fdca26"
             ],
             [
              1,
              "#f0f921"
             ]
            ],
            "type": "heatmapgl"
           }
          ],
          "histogram": [
           {
            "marker": {
             "pattern": {
              "fillmode": "overlay",
              "size": 10,
              "solidity": 0.2
             }
            },
            "type": "histogram"
           }
          ],
          "histogram2d": [
           {
            "colorbar": {
             "outlinewidth": 0,
             "ticks": ""
            },
            "colorscale": [
             [
              0,
              "#0d0887"
             ],
             [
              0.1111111111111111,
              "#46039f"
             ],
             [
              0.2222222222222222,
              "#7201a8"
             ],
             [
              0.3333333333333333,
              "#9c179e"
             ],
             [
              0.4444444444444444,
              "#bd3786"
             ],
             [
              0.5555555555555556,
              "#d8576b"
             ],
             [
              0.6666666666666666,
              "#ed7953"
             ],
             [
              0.7777777777777778,
              "#fb9f3a"
             ],
             [
              0.8888888888888888,
              "#fdca26"
             ],
             [
              1,
              "#f0f921"
             ]
            ],
            "type": "histogram2d"
           }
          ],
          "histogram2dcontour": [
           {
            "colorbar": {
             "outlinewidth": 0,
             "ticks": ""
            },
            "colorscale": [
             [
              0,
              "#0d0887"
             ],
             [
              0.1111111111111111,
              "#46039f"
             ],
             [
              0.2222222222222222,
              "#7201a8"
             ],
             [
              0.3333333333333333,
              "#9c179e"
             ],
             [
              0.4444444444444444,
              "#bd3786"
             ],
             [
              0.5555555555555556,
              "#d8576b"
             ],
             [
              0.6666666666666666,
              "#ed7953"
             ],
             [
              0.7777777777777778,
              "#fb9f3a"
             ],
             [
              0.8888888888888888,
              "#fdca26"
             ],
             [
              1,
              "#f0f921"
             ]
            ],
            "type": "histogram2dcontour"
           }
          ],
          "mesh3d": [
           {
            "colorbar": {
             "outlinewidth": 0,
             "ticks": ""
            },
            "type": "mesh3d"
           }
          ],
          "parcoords": [
           {
            "line": {
             "colorbar": {
              "outlinewidth": 0,
              "ticks": ""
             }
            },
            "type": "parcoords"
           }
          ],
          "pie": [
           {
            "automargin": true,
            "type": "pie"
           }
          ],
          "scatter": [
           {
            "fillpattern": {
             "fillmode": "overlay",
             "size": 10,
             "solidity": 0.2
            },
            "type": "scatter"
           }
          ],
          "scatter3d": [
           {
            "line": {
             "colorbar": {
              "outlinewidth": 0,
              "ticks": ""
             }
            },
            "marker": {
             "colorbar": {
              "outlinewidth": 0,
              "ticks": ""
             }
            },
            "type": "scatter3d"
           }
          ],
          "scattercarpet": [
           {
            "marker": {
             "colorbar": {
              "outlinewidth": 0,
              "ticks": ""
             }
            },
            "type": "scattercarpet"
           }
          ],
          "scattergeo": [
           {
            "marker": {
             "colorbar": {
              "outlinewidth": 0,
              "ticks": ""
             }
            },
            "type": "scattergeo"
           }
          ],
          "scattergl": [
           {
            "marker": {
             "colorbar": {
              "outlinewidth": 0,
              "ticks": ""
             }
            },
            "type": "scattergl"
           }
          ],
          "scattermapbox": [
           {
            "marker": {
             "colorbar": {
              "outlinewidth": 0,
              "ticks": ""
             }
            },
            "type": "scattermapbox"
           }
          ],
          "scatterpolar": [
           {
            "marker": {
             "colorbar": {
              "outlinewidth": 0,
              "ticks": ""
             }
            },
            "type": "scatterpolar"
           }
          ],
          "scatterpolargl": [
           {
            "marker": {
             "colorbar": {
              "outlinewidth": 0,
              "ticks": ""
             }
            },
            "type": "scatterpolargl"
           }
          ],
          "scatterternary": [
           {
            "marker": {
             "colorbar": {
              "outlinewidth": 0,
              "ticks": ""
             }
            },
            "type": "scatterternary"
           }
          ],
          "surface": [
           {
            "colorbar": {
             "outlinewidth": 0,
             "ticks": ""
            },
            "colorscale": [
             [
              0,
              "#0d0887"
             ],
             [
              0.1111111111111111,
              "#46039f"
             ],
             [
              0.2222222222222222,
              "#7201a8"
             ],
             [
              0.3333333333333333,
              "#9c179e"
             ],
             [
              0.4444444444444444,
              "#bd3786"
             ],
             [
              0.5555555555555556,
              "#d8576b"
             ],
             [
              0.6666666666666666,
              "#ed7953"
             ],
             [
              0.7777777777777778,
              "#fb9f3a"
             ],
             [
              0.8888888888888888,
              "#fdca26"
             ],
             [
              1,
              "#f0f921"
             ]
            ],
            "type": "surface"
           }
          ],
          "table": [
           {
            "cells": {
             "fill": {
              "color": "#EBF0F8"
             },
             "line": {
              "color": "white"
             }
            },
            "header": {
             "fill": {
              "color": "#C8D4E3"
             },
             "line": {
              "color": "white"
             }
            },
            "type": "table"
           }
          ]
         },
         "layout": {
          "annotationdefaults": {
           "arrowcolor": "#2a3f5f",
           "arrowhead": 0,
           "arrowwidth": 1
          },
          "autotypenumbers": "strict",
          "coloraxis": {
           "colorbar": {
            "outlinewidth": 0,
            "ticks": ""
           }
          },
          "colorscale": {
           "diverging": [
            [
             0,
             "#8e0152"
            ],
            [
             0.1,
             "#c51b7d"
            ],
            [
             0.2,
             "#de77ae"
            ],
            [
             0.3,
             "#f1b6da"
            ],
            [
             0.4,
             "#fde0ef"
            ],
            [
             0.5,
             "#f7f7f7"
            ],
            [
             0.6,
             "#e6f5d0"
            ],
            [
             0.7,
             "#b8e186"
            ],
            [
             0.8,
             "#7fbc41"
            ],
            [
             0.9,
             "#4d9221"
            ],
            [
             1,
             "#276419"
            ]
           ],
           "sequential": [
            [
             0,
             "#0d0887"
            ],
            [
             0.1111111111111111,
             "#46039f"
            ],
            [
             0.2222222222222222,
             "#7201a8"
            ],
            [
             0.3333333333333333,
             "#9c179e"
            ],
            [
             0.4444444444444444,
             "#bd3786"
            ],
            [
             0.5555555555555556,
             "#d8576b"
            ],
            [
             0.6666666666666666,
             "#ed7953"
            ],
            [
             0.7777777777777778,
             "#fb9f3a"
            ],
            [
             0.8888888888888888,
             "#fdca26"
            ],
            [
             1,
             "#f0f921"
            ]
           ],
           "sequentialminus": [
            [
             0,
             "#0d0887"
            ],
            [
             0.1111111111111111,
             "#46039f"
            ],
            [
             0.2222222222222222,
             "#7201a8"
            ],
            [
             0.3333333333333333,
             "#9c179e"
            ],
            [
             0.4444444444444444,
             "#bd3786"
            ],
            [
             0.5555555555555556,
             "#d8576b"
            ],
            [
             0.6666666666666666,
             "#ed7953"
            ],
            [
             0.7777777777777778,
             "#fb9f3a"
            ],
            [
             0.8888888888888888,
             "#fdca26"
            ],
            [
             1,
             "#f0f921"
            ]
           ]
          },
          "colorway": [
           "#636efa",
           "#EF553B",
           "#00cc96",
           "#ab63fa",
           "#FFA15A",
           "#19d3f3",
           "#FF6692",
           "#B6E880",
           "#FF97FF",
           "#FECB52"
          ],
          "font": {
           "color": "#2a3f5f"
          },
          "geo": {
           "bgcolor": "white",
           "lakecolor": "white",
           "landcolor": "#E5ECF6",
           "showlakes": true,
           "showland": true,
           "subunitcolor": "white"
          },
          "hoverlabel": {
           "align": "left"
          },
          "hovermode": "closest",
          "mapbox": {
           "style": "light"
          },
          "paper_bgcolor": "white",
          "plot_bgcolor": "#E5ECF6",
          "polar": {
           "angularaxis": {
            "gridcolor": "white",
            "linecolor": "white",
            "ticks": ""
           },
           "bgcolor": "#E5ECF6",
           "radialaxis": {
            "gridcolor": "white",
            "linecolor": "white",
            "ticks": ""
           }
          },
          "scene": {
           "xaxis": {
            "backgroundcolor": "#E5ECF6",
            "gridcolor": "white",
            "gridwidth": 2,
            "linecolor": "white",
            "showbackground": true,
            "ticks": "",
            "zerolinecolor": "white"
           },
           "yaxis": {
            "backgroundcolor": "#E5ECF6",
            "gridcolor": "white",
            "gridwidth": 2,
            "linecolor": "white",
            "showbackground": true,
            "ticks": "",
            "zerolinecolor": "white"
           },
           "zaxis": {
            "backgroundcolor": "#E5ECF6",
            "gridcolor": "white",
            "gridwidth": 2,
            "linecolor": "white",
            "showbackground": true,
            "ticks": "",
            "zerolinecolor": "white"
           }
          },
          "shapedefaults": {
           "line": {
            "color": "#2a3f5f"
           }
          },
          "ternary": {
           "aaxis": {
            "gridcolor": "white",
            "linecolor": "white",
            "ticks": ""
           },
           "baxis": {
            "gridcolor": "white",
            "linecolor": "white",
            "ticks": ""
           },
           "bgcolor": "#E5ECF6",
           "caxis": {
            "gridcolor": "white",
            "linecolor": "white",
            "ticks": ""
           }
          },
          "title": {
           "x": 0.05
          },
          "xaxis": {
           "automargin": true,
           "gridcolor": "white",
           "linecolor": "white",
           "ticks": "",
           "title": {
            "standoff": 15
           },
           "zerolinecolor": "white",
           "zerolinewidth": 2
          },
          "yaxis": {
           "automargin": true,
           "gridcolor": "white",
           "linecolor": "white",
           "ticks": "",
           "title": {
            "standoff": 15
           },
           "zerolinecolor": "white",
           "zerolinewidth": 2
          }
         }
        },
        "xaxis": {
         "anchor": "y",
         "domain": [
          0,
          1
         ],
         "title": {
          "text": "Day"
         }
        },
        "yaxis": {
         "anchor": "x",
         "domain": [
          0,
          1
         ],
         "title": {
          "text": "GrocerySales"
         }
        }
       }
      }
     },
     "metadata": {},
     "output_type": "display_data"
    }
   ],
   "source": [
    "#scatter plot\n",
    "fig = px.scatter(train, x=\"Day\", y=\"GrocerySales\", trendline=\"ols\")\n",
    "fig.show()"
   ]
  },
  {
   "cell_type": "code",
   "execution_count": 12,
   "metadata": {},
   "outputs": [
    {
     "data": {
      "text/plain": [
       "<Axes: xlabel='GrocerySales', ylabel='Density'>"
      ]
     },
     "execution_count": 12,
     "metadata": {},
     "output_type": "execute_result"
    },
    {
     "data": {
      "image/png": "[encoded data removed]",
      "text/plain": [
       "<Figure size 640x480 with 1 Axes>"
      ]
     },
     "metadata": {},
     "output_type": "display_data"
    }
   ],
   "source": [
    "#Grocery Sales density plot \n",
    "sns.set_style(\"darkgrid\")\n",
    "sns.kdeplot(data=train['GrocerySales'],label=\"GrocerySales\" ,shade=True)"
   ]
  },
  {
   "attachments": {},
   "cell_type": "markdown",
   "metadata": {},
   "source": [
    "### Model Implementation "
   ]
  },
  {
   "cell_type": "code",
   "execution_count": 13,
   "metadata": {},
   "outputs": [],
   "source": [
    "from sklearn.model_selection import train_test_split\n",
    "from sklearn.preprocessing import RobustScaler\n",
    "from sklearn.linear_model import LinearRegression\n",
    "from sklearn.neighbors import KNeighborsRegressor\n",
    "from sklearn.metrics import mean_squared_error, mean_absolute_error"
   ]
  },
  {
   "cell_type": "code",
   "execution_count": 14,
   "metadata": {},
   "outputs": [],
   "source": [
    "X = train['Day']\n",
    "y = train['GrocerySales']\n",
    "X_pred = test['Day']"
   ]
  },
  {
   "cell_type": "code",
   "execution_count": 15,
   "metadata": {},
   "outputs": [],
   "source": [
    "X = np.array(X)\n",
    "X = X.reshape(-1, 1)"
   ]
  },
  {
   "cell_type": "code",
   "execution_count": 16,
   "metadata": {},
   "outputs": [],
   "source": [
    "X_pred = np.array(X_pred)\n",
    "X_pred = X_pred.reshape(-1, 1)"
   ]
  },
  {
   "cell_type": "code",
   "execution_count": 17,
   "metadata": {},
   "outputs": [],
   "source": [
    "#scaling the data\n",
    "rs = RobustScaler()"
   ]
  },
  {
   "cell_type": "code",
   "execution_count": 18,
   "metadata": {},
   "outputs": [],
   "source": [
    "X_scaled = rs.fit_transform(X)\n",
    "X_pred_scaled = rs.fit_transform(X_pred)"
   ]
  },
  {
   "cell_type": "code",
   "execution_count": 19,
   "metadata": {},
   "outputs": [],
   "source": [
    "train_X, test_X, train_y, test_y = train_test_split(X, y,test_size=0.3,random_state = 42)"
   ]
  },
  {
   "attachments": {},
   "cell_type": "markdown",
   "metadata": {},
   "source": [
    "#### Using Linear Regression (Non-Scaled Data)"
   ]
  },
  {
   "cell_type": "code",
   "execution_count": 20,
   "metadata": {},
   "outputs": [
    {
     "data": {
      "text/html": [
       "<style>#sk-container-id-1 {color: black;background-color: white;}#sk-container-id-1 pre{padding: 0;}#sk-container-id-1 div.sk-toggleable {background-color: white;}#sk-container-id-1 label.sk-toggleable__label {cursor: pointer;display: block;width: 100%;margin-bottom: 0;padding: 0.3em;box-sizing: border-box;text-align: center;}#sk-container-id-1 label.sk-toggleable__label-arrow:before {content: \"▸\";float: left;margin-right: 0.25em;color: #696969;}#sk-container-id-1 label.sk-toggleable__label-arrow:hover:before {color: black;}#sk-container-id-1 div.sk-estimator:hover label.sk-toggleable__label-arrow:before {color: black;}#sk-container-id-1 div.sk-toggleable__content {max-height: 0;max-width: 0;overflow: hidden;text-align: left;background-color: #f0f8ff;}#sk-container-id-1 div.sk-toggleable__content pre {margin: 0.2em;color: black;border-radius: 0.25em;background-color: #f0f8ff;}#sk-container-id-1 input.sk-toggleable__control:checked~div.sk-toggleable__content {max-height: 200px;max-width: 100%;overflow: auto;}#sk-container-id-1 input.sk-toggleable__control:checked~label.sk-toggleable__label-arrow:before {content: \"▾\";}#sk-container-id-1 div.sk-estimator input.sk-toggleable__control:checked~label.sk-toggleable__label {background-color: #d4ebff;}#sk-container-id-1 div.sk-label input.sk-toggleable__control:checked~label.sk-toggleable__label {background-color: #d4ebff;}#sk-container-id-1 input.sk-hidden--visually {border: 0;clip: rect(1px 1px 1px 1px);clip: rect(1px, 1px, 1px, 1px);height: 1px;margin: -1px;overflow: hidden;padding: 0;position: absolute;width: 1px;}#sk-container-id-1 div.sk-estimator {font-family: monospace;background-color: #f0f8ff;border: 1px dotted black;border-radius: 0.25em;box-sizing: border-box;margin-bottom: 0.5em;}#sk-container-id-1 div.sk-estimator:hover {background-color: #d4ebff;}#sk-container-id-1 div.sk-parallel-item::after {content: \"\";width: 100%;border-bottom: 1px solid gray;flex-grow: 1;}#sk-container-id-1 div.sk-label:hover label.sk-toggleable__label {background-color: #d4ebff;}#sk-container-id-1 div.sk-serial::before {content: \"\";position: absolute;border-left: 1px solid gray;box-sizing: border-box;top: 0;bottom: 0;left: 50%;z-index: 0;}#sk-container-id-1 div.sk-serial {display: flex;flex-direction: column;align-items: center;background-color: white;padding-right: 0.2em;padding-left: 0.2em;position: relative;}#sk-container-id-1 div.sk-item {position: relative;z-index: 1;}#sk-container-id-1 div.sk-parallel {display: flex;align-items: stretch;justify-content: center;background-color: white;position: relative;}#sk-container-id-1 div.sk-item::before, #sk-container-id-1 div.sk-parallel-item::before {content: \"\";position: absolute;border-left: 1px solid gray;box-sizing: border-box;top: 0;bottom: 0;left: 50%;z-index: -1;}#sk-container-id-1 div.sk-parallel-item {display: flex;flex-direction: column;z-index: 1;position: relative;background-color: white;}#sk-container-id-1 div.sk-parallel-item:first-child::after {align-self: flex-end;width: 50%;}#sk-container-id-1 div.sk-parallel-item:last-child::after {align-self: flex-start;width: 50%;}#sk-container-id-1 div.sk-parallel-item:only-child::after {width: 0;}#sk-container-id-1 div.sk-dashed-wrapped {border: 1px dashed gray;margin: 0 0.4em 0.5em 0.4em;box-sizing: border-box;padding-bottom: 0.4em;background-color: white;}#sk-container-id-1 div.sk-label label {font-family: monospace;font-weight: bold;display: inline-block;line-height: 1.2em;}#sk-container-id-1 div.sk-label-container {text-align: center;}#sk-container-id-1 div.sk-container {/* jupyter's `normalize.less` sets `[hidden] { display: none; }` but bootstrap.min.css set `[hidden] { display: none !important; }` so we also need the `!important` here to be able to override the default hidden behavior on the sphinx rendered scikit-learn.org. See: https://github.com/scikit-learn/scikit-learn/issues/21755 */display: inline-block !important;position: relative;}#sk-container-id-1 div.sk-text-repr-fallback {display: none;}</style><div id=\"sk-container-id-1\" class=\"sk-top-container\"><div class=\"sk-text-repr-fallback\"><pre>LinearRegression()</pre><b>In a Jupyter environment, please rerun this cell to show the HTML representation or trust the notebook. <br />On GitHub, the HTML representation is unable to render, please try loading this page with nbviewer.org.</b></div><div class=\"sk-container\" hidden><div class=\"sk-item\"><div class=\"sk-estimator sk-toggleable\"><input class=\"sk-toggleable__control sk-hidden--visually\" id=\"sk-estimator-id-1\" type=\"checkbox\" checked><label for=\"sk-estimator-id-1\" class=\"sk-toggleable__label sk-toggleable__label-arrow\">LinearRegression</label><div class=\"sk-toggleable__content\"><pre>LinearRegression()</pre></div></div></div></div></div>"
      ],
      "text/plain": [
       "LinearRegression()"
      ]
     },
     "execution_count": 20,
     "metadata": {},
     "output_type": "execute_result"
    }
   ],
   "source": [
    "lr = LinearRegression()\n",
    "lr.fit(train_X,train_y)"
   ]
  },
  {
   "cell_type": "code",
   "execution_count": 21,
   "metadata": {},
   "outputs": [
    {
     "name": "stdout",
     "output_type": "stream",
     "text": [
      "Mean Squared Error: 142343.84\n",
      "Mean Absolute Error: 290.98\n"
     ]
    }
   ],
   "source": [
    "predict = lr.predict(test_X)\n",
    "print('Mean Squared Error: %.2f'% mean_squared_error(test_y,predict))\n",
    "print('Mean Absolute Error: %.2f'% mean_absolute_error(test_y,predict))"
   ]
  },
  {
   "cell_type": "code",
   "execution_count": 22,
   "metadata": {},
   "outputs": [],
   "source": [
    "y_pred_lr = lr.predict(X_pred)"
   ]
  },
  {
   "cell_type": "code",
   "execution_count": 23,
   "metadata": {},
   "outputs": [
    {
     "data": {
      "text/plain": [
       "array([8933.06445678, 8934.16263794, 8935.2608191 , 8936.35900026,\n",
       "       8937.45718142, 8938.55536258, 8939.65354374, 8940.75172491,\n",
       "       8941.84990607, 8942.94808723, 8944.04626839, 8945.14444955,\n",
       "       8946.24263071, 8947.34081187, 8948.43899304, 8949.5371742 ,\n",
       "       8950.63535536, 8951.73353652, 8952.83171768, 8953.92989884,\n",
       "       8955.02808   , 8956.12626117, 8957.22444233, 8958.32262349,\n",
       "       8959.42080465, 8960.51898581, 8961.61716697, 8962.71534813,\n",
       "       8963.8135293 , 8964.91171046, 8966.00989162, 8967.10807278,\n",
       "       8968.20625394, 8969.3044351 , 8970.40261626, 8971.50079743,\n",
       "       8972.59897859, 8973.69715975, 8974.79534091, 8975.89352207,\n",
       "       8976.99170323, 8978.08988439, 8979.18806556, 8980.28624672,\n",
       "       8981.38442788, 8982.48260904, 8983.5807902 , 8984.67897136,\n",
       "       8985.77715252, 8986.87533369, 8987.97351485, 8989.07169601,\n",
       "       8990.16987717, 8991.26805833, 8992.36623949, 8993.46442065,\n",
       "       8994.56260182, 8995.66078298, 8996.75896414, 8997.8571453 ,\n",
       "       8998.95532646, 9000.05350762, 9001.15168879, 9002.24986995,\n",
       "       9003.34805111, 9004.44623227, 9005.54441343, 9006.64259459,\n",
       "       9007.74077575, 9008.83895692, 9009.93713808, 9011.03531924,\n",
       "       9012.1335004 , 9013.23168156, 9014.32986272, 9015.42804388,\n",
       "       9016.52622505, 9017.62440621, 9018.72258737, 9019.82076853,\n",
       "       9020.91894969, 9022.01713085, 9023.11531201, 9024.21349318,\n",
       "       9025.31167434, 9026.4098555 , 9027.50803666, 9028.60621782,\n",
       "       9029.70439898, 9030.80258014])"
      ]
     },
     "execution_count": 23,
     "metadata": {},
     "output_type": "execute_result"
    }
   ],
   "source": [
    "y_pred_lr"
   ]
  },
  {
   "attachments": {},
   "cell_type": "markdown",
   "metadata": {},
   "source": [
    "#### Using KNN Regressor (Non-Scaled Data)"
   ]
  },
  {
   "cell_type": "code",
   "execution_count": 24,
   "metadata": {},
   "outputs": [
    {
     "data": {
      "text/html": [
       "<style>#sk-container-id-2 {color: black;background-color: white;}#sk-container-id-2 pre{padding: 0;}#sk-container-id-2 div.sk-toggleable {background-color: white;}#sk-container-id-2 label.sk-toggleable__label {cursor: pointer;display: block;width: 100%;margin-bottom: 0;padding: 0.3em;box-sizing: border-box;text-align: center;}#sk-container-id-2 label.sk-toggleable__label-arrow:before {content: \"▸\";float: left;margin-right: 0.25em;color: #696969;}#sk-container-id-2 label.sk-toggleable__label-arrow:hover:before {color: black;}#sk-container-id-2 div.sk-estimator:hover label.sk-toggleable__label-arrow:before {color: black;}#sk-container-id-2 div.sk-toggleable__content {max-height: 0;max-width: 0;overflow: hidden;text-align: left;background-color: #f0f8ff;}#sk-container-id-2 div.sk-toggleable__content pre {margin: 0.2em;color: black;border-radius: 0.25em;background-color: #f0f8ff;}#sk-container-id-2 input.sk-toggleable__control:checked~div.sk-toggleable__content {max-height: 200px;max-width: 100%;overflow: auto;}#sk-container-id-2 input.sk-toggleable__control:checked~label.sk-toggleable__label-arrow:before {content: \"▾\";}#sk-container-id-2 div.sk-estimator input.sk-toggleable__control:checked~label.sk-toggleable__label {background-color: #d4ebff;}#sk-container-id-2 div.sk-label input.sk-toggleable__control:checked~label.sk-toggleable__label {background-color: #d4ebff;}#sk-container-id-2 input.sk-hidden--visually {border: 0;clip: rect(1px 1px 1px 1px);clip: rect(1px, 1px, 1px, 1px);height: 1px;margin: -1px;overflow: hidden;padding: 0;position: absolute;width: 1px;}#sk-container-id-2 div.sk-estimator {font-family: monospace;background-color: #f0f8ff;border: 1px dotted black;border-radius: 0.25em;box-sizing: border-box;margin-bottom: 0.5em;}#sk-container-id-2 div.sk-estimator:hover {background-color: #d4ebff;}#sk-container-id-2 div.sk-parallel-item::after {content: \"\";width: 100%;border-bottom: 1px solid gray;flex-grow: 1;}#sk-container-id-2 div.sk-label:hover label.sk-toggleable__label {background-color: #d4ebff;}#sk-container-id-2 div.sk-serial::before {content: \"\";position: absolute;border-left: 1px solid gray;box-sizing: border-box;top: 0;bottom: 0;left: 50%;z-index: 0;}#sk-container-id-2 div.sk-serial {display: flex;flex-direction: column;align-items: center;background-color: white;padding-right: 0.2em;padding-left: 0.2em;position: relative;}#sk-container-id-2 div.sk-item {position: relative;z-index: 1;}#sk-container-id-2 div.sk-parallel {display: flex;align-items: stretch;justify-content: center;background-color: white;position: relative;}#sk-container-id-2 div.sk-item::before, #sk-container-id-2 div.sk-parallel-item::before {content: \"\";position: absolute;border-left: 1px solid gray;box-sizing: border-box;top: 0;bottom: 0;left: 50%;z-index: -1;}#sk-container-id-2 div.sk-parallel-item {display: flex;flex-direction: column;z-index: 1;position: relative;background-color: white;}#sk-container-id-2 div.sk-parallel-item:first-child::after {align-self: flex-end;width: 50%;}#sk-container-id-2 div.sk-parallel-item:last-child::after {align-self: flex-start;width: 50%;}#sk-container-id-2 div.sk-parallel-item:only-child::after {width: 0;}#sk-container-id-2 div.sk-dashed-wrapped {border: 1px dashed gray;margin: 0 0.4em 0.5em 0.4em;box-sizing: border-box;padding-bottom: 0.4em;background-color: white;}#sk-container-id-2 div.sk-label label {font-family: monospace;font-weight: bold;display: inline-block;line-height: 1.2em;}#sk-container-id-2 div.sk-label-container {text-align: center;}#sk-container-id-2 div.sk-container {/* jupyter's `normalize.less` sets `[hidden] { display: none; }` but bootstrap.min.css set `[hidden] { display: none !important; }` so we also need the `!important` here to be able to override the default hidden behavior on the sphinx rendered scikit-learn.org. See: https://github.com/scikit-learn/scikit-learn/issues/21755 */display: inline-block !important;position: relative;}#sk-container-id-2 div.sk-text-repr-fallback {display: none;}</style><div id=\"sk-container-id-2\" class=\"sk-top-container\"><div class=\"sk-text-repr-fallback\"><pre>KNeighborsRegressor()</pre><b>In a Jupyter environment, please rerun this cell to show the HTML representation or trust the notebook. <br />On GitHub, the HTML representation is unable to render, please try loading this page with nbviewer.org.</b></div><div class=\"sk-container\" hidden><div class=\"sk-item\"><div class=\"sk-estimator sk-toggleable\"><input class=\"sk-toggleable__control sk-hidden--visually\" id=\"sk-estimator-id-2\" type=\"checkbox\" checked><label for=\"sk-estimator-id-2\" class=\"sk-toggleable__label sk-toggleable__label-arrow\">KNeighborsRegressor</label><div class=\"sk-toggleable__content\"><pre>KNeighborsRegressor()</pre></div></div></div></div></div>"
      ],
      "text/plain": [
       "KNeighborsRegressor()"
      ]
     },
     "execution_count": 24,
     "metadata": {},
     "output_type": "execute_result"
    }
   ],
   "source": [
    "knn = KNeighborsRegressor()\n",
    "knn.fit(train_X,train_y)"
   ]
  },
  {
   "cell_type": "code",
   "execution_count": 25,
   "metadata": {},
   "outputs": [
    {
     "name": "stdout",
     "output_type": "stream",
     "text": [
      "Mean Squared Error: 44141.99\n",
      "Mean Absolute Error: 155.67\n"
     ]
    }
   ],
   "source": [
    "predict_knn = knn.predict(test_X)\n",
    "print('Mean Squared Error: %.2f'% mean_squared_error(test_y,predict_knn))\n",
    "print('Mean Absolute Error: %.2f'% mean_absolute_error(test_y,predict_knn))"
   ]
  },
  {
   "cell_type": "code",
   "execution_count": 26,
   "metadata": {},
   "outputs": [],
   "source": [
    "y_pred_knn = knn.predict(X_pred)"
   ]
  },
  {
   "cell_type": "code",
   "execution_count": 27,
   "metadata": {},
   "outputs": [
    {
     "data": {
      "text/plain": [
       "array([8993.078, 8993.078, 8993.078, 8993.078, 8993.078, 8993.078,\n",
       "       8993.078, 8993.078, 8993.078, 8993.078, 8993.078, 8993.078,\n",
       "       8993.078, 8993.078, 8993.078, 8993.078, 8993.078, 8993.078,\n",
       "       8993.078, 8993.078, 8993.078, 8993.078, 8993.078, 8993.078,\n",
       "       8993.078, 8993.078, 8993.078, 8993.078, 8993.078, 8993.078,\n",
       "       8993.078, 8993.078, 8993.078, 8993.078, 8993.078, 8993.078,\n",
       "       8993.078, 8993.078, 8993.078, 8993.078, 8993.078, 8993.078,\n",
       "       8993.078, 8993.078, 8993.078, 8993.078, 8993.078, 8993.078,\n",
       "       8993.078, 8993.078, 8993.078, 8993.078, 8993.078, 8993.078,\n",
       "       8993.078, 8993.078, 8993.078, 8993.078, 8993.078, 8993.078,\n",
       "       8993.078, 8993.078, 8993.078, 8993.078, 8993.078, 8993.078,\n",
       "       8993.078, 8993.078, 8993.078, 8993.078, 8993.078, 8993.078,\n",
       "       8993.078, 8993.078, 8993.078, 8993.078, 8993.078, 8993.078,\n",
       "       8993.078, 8993.078, 8993.078, 8993.078, 8993.078, 8993.078,\n",
       "       8993.078, 8993.078, 8993.078, 8993.078, 8993.078, 8993.078])"
      ]
     },
     "execution_count": 27,
     "metadata": {},
     "output_type": "execute_result"
    }
   ],
   "source": [
    "y_pred_knn"
   ]
  },
  {
   "attachments": {},
   "cell_type": "markdown",
   "metadata": {},
   "source": [
    "#### Using Linear Regression (Scaled Data)"
   ]
  },
  {
   "cell_type": "code",
   "execution_count": 28,
   "metadata": {},
   "outputs": [],
   "source": [
    "scaled_train_X, scaled_test_X, train_y, test_y = train_test_split(X_scaled, y, test_size=0.3,random_state = 42)"
   ]
  },
  {
   "cell_type": "code",
   "execution_count": 29,
   "metadata": {},
   "outputs": [
    {
     "data": {
      "text/html": [
       "<style>#sk-container-id-3 {color: black;background-color: white;}#sk-container-id-3 pre{padding: 0;}#sk-container-id-3 div.sk-toggleable {background-color: white;}#sk-container-id-3 label.sk-toggleable__label {cursor: pointer;display: block;width: 100%;margin-bottom: 0;padding: 0.3em;box-sizing: border-box;text-align: center;}#sk-container-id-3 label.sk-toggleable__label-arrow:before {content: \"▸\";float: left;margin-right: 0.25em;color: #696969;}#sk-container-id-3 label.sk-toggleable__label-arrow:hover:before {color: black;}#sk-container-id-3 div.sk-estimator:hover label.sk-toggleable__label-arrow:before {color: black;}#sk-container-id-3 div.sk-toggleable__content {max-height: 0;max-width: 0;overflow: hidden;text-align: left;background-color: #f0f8ff;}#sk-container-id-3 div.sk-toggleable__content pre {margin: 0.2em;color: black;border-radius: 0.25em;background-color: #f0f8ff;}#sk-container-id-3 input.sk-toggleable__control:checked~div.sk-toggleable__content {max-height: 200px;max-width: 100%;overflow: auto;}#sk-container-id-3 input.sk-toggleable__control:checked~label.sk-toggleable__label-arrow:before {content: \"▾\";}#sk-container-id-3 div.sk-estimator input.sk-toggleable__control:checked~label.sk-toggleable__label {background-color: #d4ebff;}#sk-container-id-3 div.sk-label input.sk-toggleable__control:checked~label.sk-toggleable__label {background-color: #d4ebff;}#sk-container-id-3 input.sk-hidden--visually {border: 0;clip: rect(1px 1px 1px 1px);clip: rect(1px, 1px, 1px, 1px);height: 1px;margin: -1px;overflow: hidden;padding: 0;position: absolute;width: 1px;}#sk-container-id-3 div.sk-estimator {font-family: monospace;background-color: #f0f8ff;border: 1px dotted black;border-radius: 0.25em;box-sizing: border-box;margin-bottom: 0.5em;}#sk-container-id-3 div.sk-estimator:hover {background-color: #d4ebff;}#sk-container-id-3 div.sk-parallel-item::after {content: \"\";width: 100%;border-bottom: 1px solid gray;flex-grow: 1;}#sk-container-id-3 div.sk-label:hover label.sk-toggleable__label {background-color: #d4ebff;}#sk-container-id-3 div.sk-serial::before {content: \"\";position: absolute;border-left: 1px solid gray;box-sizing: border-box;top: 0;bottom: 0;left: 50%;z-index: 0;}#sk-container-id-3 div.sk-serial {display: flex;flex-direction: column;align-items: center;background-color: white;padding-right: 0.2em;padding-left: 0.2em;position: relative;}#sk-container-id-3 div.sk-item {position: relative;z-index: 1;}#sk-container-id-3 div.sk-parallel {display: flex;align-items: stretch;justify-content: center;background-color: white;position: relative;}#sk-container-id-3 div.sk-item::before, #sk-container-id-3 div.sk-parallel-item::before {content: \"\";position: absolute;border-left: 1px solid gray;box-sizing: border-box;top: 0;bottom: 0;left: 50%;z-index: -1;}#sk-container-id-3 div.sk-parallel-item {display: flex;flex-direction: column;z-index: 1;position: relative;background-color: white;}#sk-container-id-3 div.sk-parallel-item:first-child::after {align-self: flex-end;width: 50%;}#sk-container-id-3 div.sk-parallel-item:last-child::after {align-self: flex-start;width: 50%;}#sk-container-id-3 div.sk-parallel-item:only-child::after {width: 0;}#sk-container-id-3 div.sk-dashed-wrapped {border: 1px dashed gray;margin: 0 0.4em 0.5em 0.4em;box-sizing: border-box;padding-bottom: 0.4em;background-color: white;}#sk-container-id-3 div.sk-label label {font-family: monospace;font-weight: bold;display: inline-block;line-height: 1.2em;}#sk-container-id-3 div.sk-label-container {text-align: center;}#sk-container-id-3 div.sk-container {/* jupyter's `normalize.less` sets `[hidden] { display: none; }` but bootstrap.min.css set `[hidden] { display: none !important; }` so we also need the `!important` here to be able to override the default hidden behavior on the sphinx rendered scikit-learn.org. See: https://github.com/scikit-learn/scikit-learn/issues/21755 */display: inline-block !important;position: relative;}#sk-container-id-3 div.sk-text-repr-fallback {display: none;}</style><div id=\"sk-container-id-3\" class=\"sk-top-container\"><div class=\"sk-text-repr-fallback\"><pre>LinearRegression()</pre><b>In a Jupyter environment, please rerun this cell to show the HTML representation or trust the notebook. <br />On GitHub, the HTML representation is unable to render, please try loading this page with nbviewer.org.</b></div><div class=\"sk-container\" hidden><div class=\"sk-item\"><div class=\"sk-estimator sk-toggleable\"><input class=\"sk-toggleable__control sk-hidden--visually\" id=\"sk-estimator-id-3\" type=\"checkbox\" checked><label for=\"sk-estimator-id-3\" class=\"sk-toggleable__label sk-toggleable__label-arrow\">LinearRegression</label><div class=\"sk-toggleable__content\"><pre>LinearRegression()</pre></div></div></div></div></div>"
      ],
      "text/plain": [
       "LinearRegression()"
      ]
     },
     "execution_count": 29,
     "metadata": {},
     "output_type": "execute_result"
    }
   ],
   "source": [
    "lr = LinearRegression()\n",
    "lr.fit(scaled_train_X,train_y)"
   ]
  },
  {
   "cell_type": "code",
   "execution_count": 30,
   "metadata": {},
   "outputs": [
    {
     "name": "stdout",
     "output_type": "stream",
     "text": [
      "Mean Squared Error: 142343.84\n",
      "Mean Absolute Error: 290.98\n"
     ]
    }
   ],
   "source": [
    "scaled_predict = lr.predict(scaled_test_X)\n",
    "print('Mean Squared Error: %.2f'% mean_squared_error(test_y,scaled_predict))\n",
    "print('Mean Absolute Error: %.2f'% mean_absolute_error(test_y,scaled_predict))"
   ]
  },
  {
   "cell_type": "code",
   "execution_count": 31,
   "metadata": {},
   "outputs": [],
   "source": [
    "y_pred_scaled_lr = lr.predict(X_pred_scaled)"
   ]
  },
  {
   "cell_type": "code",
   "execution_count": 32,
   "metadata": {},
   "outputs": [
    {
     "data": {
      "text/plain": [
       "array([8173.12309306, 8181.64942096, 8190.17574885, 8198.70207674,\n",
       "       8207.22840464, 8215.75473253, 8224.28106043, 8232.80738832,\n",
       "       8241.33371621, 8249.86004411, 8258.386372  , 8266.91269989,\n",
       "       8275.43902779, 8283.96535568, 8292.49168358, 8301.01801147,\n",
       "       8309.54433936, 8318.07066726, 8326.59699515, 8335.12332305,\n",
       "       8343.64965094, 8352.17597883, 8360.70230673, 8369.22863462,\n",
       "       8377.75496251, 8386.28129041, 8394.8076183 , 8403.3339462 ,\n",
       "       8411.86027409, 8420.38660198, 8428.91292988, 8437.43925777,\n",
       "       8445.96558567, 8454.49191356, 8463.01824145, 8471.54456935,\n",
       "       8480.07089724, 8488.59722513, 8497.12355303, 8505.64988092,\n",
       "       8514.17620882, 8522.70253671, 8531.2288646 , 8539.7551925 ,\n",
       "       8548.28152039, 8556.80784829, 8565.33417618, 8573.86050407,\n",
       "       8582.38683197, 8590.91315986, 8599.43948775, 8607.96581565,\n",
       "       8616.49214354, 8625.01847144, 8633.54479933, 8642.07112722,\n",
       "       8650.59745512, 8659.12378301, 8667.65011091, 8676.1764388 ,\n",
       "       8684.70276669, 8693.22909459, 8701.75542248, 8710.28175037,\n",
       "       8718.80807827, 8727.33440616, 8735.86073406, 8744.38706195,\n",
       "       8752.91338984, 8761.43971774, 8769.96604563, 8778.49237353,\n",
       "       8787.01870142, 8795.54502931, 8804.07135721, 8812.5976851 ,\n",
       "       8821.12401299, 8829.65034089, 8838.17666878, 8846.70299668,\n",
       "       8855.22932457, 8863.75565246, 8872.28198036, 8880.80830825,\n",
       "       8889.33463615, 8897.86096404, 8906.38729193, 8914.91361983,\n",
       "       8923.43994772, 8931.96627561])"
      ]
     },
     "execution_count": 32,
     "metadata": {},
     "output_type": "execute_result"
    }
   ],
   "source": [
    "y_pred_scaled_lr"
   ]
  },
  {
   "attachments": {},
   "cell_type": "markdown",
   "metadata": {},
   "source": [
    "#### Using KNN Regressor (Scaled Data)"
   ]
  },
  {
   "cell_type": "code",
   "execution_count": 33,
   "metadata": {},
   "outputs": [
    {
     "data": {
      "text/html": [
       "<style>#sk-container-id-4 {color: black;background-color: white;}#sk-container-id-4 pre{padding: 0;}#sk-container-id-4 div.sk-toggleable {background-color: white;}#sk-container-id-4 label.sk-toggleable__label {cursor: pointer;display: block;width: 100%;margin-bottom: 0;padding: 0.3em;box-sizing: border-box;text-align: center;}#sk-container-id-4 label.sk-toggleable__label-arrow:before {content: \"▸\";float: left;margin-right: 0.25em;color: #696969;}#sk-container-id-4 label.sk-toggleable__label-arrow:hover:before {color: black;}#sk-container-id-4 div.sk-estimator:hover label.sk-toggleable__label-arrow:before {color: black;}#sk-container-id-4 div.sk-toggleable__content {max-height: 0;max-width: 0;overflow: hidden;text-align: left;background-color: #f0f8ff;}#sk-container-id-4 div.sk-toggleable__content pre {margin: 0.2em;color: black;border-radius: 0.25em;background-color: #f0f8ff;}#sk-container-id-4 input.sk-toggleable__control:checked~div.sk-toggleable__content {max-height: 200px;max-width: 100%;overflow: auto;}#sk-container-id-4 input.sk-toggleable__control:checked~label.sk-toggleable__label-arrow:before {content: \"▾\";}#sk-container-id-4 div.sk-estimator input.sk-toggleable__control:checked~label.sk-toggleable__label {background-color: #d4ebff;}#sk-container-id-4 div.sk-label input.sk-toggleable__control:checked~label.sk-toggleable__label {background-color: #d4ebff;}#sk-container-id-4 input.sk-hidden--visually {border: 0;clip: rect(1px 1px 1px 1px);clip: rect(1px, 1px, 1px, 1px);height: 1px;margin: -1px;overflow: hidden;padding: 0;position: absolute;width: 1px;}#sk-container-id-4 div.sk-estimator {font-family: monospace;background-color: #f0f8ff;border: 1px dotted black;border-radius: 0.25em;box-sizing: border-box;margin-bottom: 0.5em;}#sk-container-id-4 div.sk-estimator:hover {background-color: #d4ebff;}#sk-container-id-4 div.sk-parallel-item::after {content: \"\";width: 100%;border-bottom: 1px solid gray;flex-grow: 1;}#sk-container-id-4 div.sk-label:hover label.sk-toggleable__label {background-color: #d4ebff;}#sk-container-id-4 div.sk-serial::before {content: \"\";position: absolute;border-left: 1px solid gray;box-sizing: border-box;top: 0;bottom: 0;left: 50%;z-index: 0;}#sk-container-id-4 div.sk-serial {display: flex;flex-direction: column;align-items: center;background-color: white;padding-right: 0.2em;padding-left: 0.2em;position: relative;}#sk-container-id-4 div.sk-item {position: relative;z-index: 1;}#sk-container-id-4 div.sk-parallel {display: flex;align-items: stretch;justify-content: center;background-color: white;position: relative;}#sk-container-id-4 div.sk-item::before, #sk-container-id-4 div.sk-parallel-item::before {content: \"\";position: absolute;border-left: 1px solid gray;box-sizing: border-box;top: 0;bottom: 0;left: 50%;z-index: -1;}#sk-container-id-4 div.sk-parallel-item {display: flex;flex-direction: column;z-index: 1;position: relative;background-color: white;}#sk-container-id-4 div.sk-parallel-item:first-child::after {align-self: flex-end;width: 50%;}#sk-container-id-4 div.sk-parallel-item:last-child::after {align-self: flex-start;width: 50%;}#sk-container-id-4 div.sk-parallel-item:only-child::after {width: 0;}#sk-container-id-4 div.sk-dashed-wrapped {border: 1px dashed gray;margin: 0 0.4em 0.5em 0.4em;box-sizing: border-box;padding-bottom: 0.4em;background-color: white;}#sk-container-id-4 div.sk-label label {font-family: monospace;font-weight: bold;display: inline-block;line-height: 1.2em;}#sk-container-id-4 div.sk-label-container {text-align: center;}#sk-container-id-4 div.sk-container {/* jupyter's `normalize.less` sets `[hidden] { display: none; }` but bootstrap.min.css set `[hidden] { display: none !important; }` so we also need the `!important` here to be able to override the default hidden behavior on the sphinx rendered scikit-learn.org. See: https://github.com/scikit-learn/scikit-learn/issues/21755 */display: inline-block !important;position: relative;}#sk-container-id-4 div.sk-text-repr-fallback {display: none;}</style><div id=\"sk-container-id-4\" class=\"sk-top-container\"><div class=\"sk-text-repr-fallback\"><pre>KNeighborsRegressor()</pre><b>In a Jupyter environment, please rerun this cell to show the HTML representation or trust the notebook. <br />On GitHub, the HTML representation is unable to render, please try loading this page with nbviewer.org.</b></div><div class=\"sk-container\" hidden><div class=\"sk-item\"><div class=\"sk-estimator sk-toggleable\"><input class=\"sk-toggleable__control sk-hidden--visually\" id=\"sk-estimator-id-4\" type=\"checkbox\" checked><label for=\"sk-estimator-id-4\" class=\"sk-toggleable__label sk-toggleable__label-arrow\">KNeighborsRegressor</label><div class=\"sk-toggleable__content\"><pre>KNeighborsRegressor()</pre></div></div></div></div></div>"
      ],
      "text/plain": [
       "KNeighborsRegressor()"
      ]
     },
     "execution_count": 33,
     "metadata": {},
     "output_type": "execute_result"
    }
   ],
   "source": [
    "knn = KNeighborsRegressor()\n",
    "knn.fit(scaled_train_X,train_y)"
   ]
  },
  {
   "cell_type": "code",
   "execution_count": 34,
   "metadata": {},
   "outputs": [
    {
     "name": "stdout",
     "output_type": "stream",
     "text": [
      "Mean Squared Error: 44605.15\n",
      "Mean Absolute Error: 156.28\n"
     ]
    }
   ],
   "source": [
    "scaled_predict_knn = knn.predict(scaled_test_X)\n",
    "print('Mean Squared Error: %.2f'% mean_squared_error(test_y,scaled_predict_knn))\n",
    "print('Mean Absolute Error: %.2f'% mean_absolute_error(test_y,scaled_predict_knn))"
   ]
  },
  {
   "cell_type": "code",
   "execution_count": 35,
   "metadata": {},
   "outputs": [],
   "source": [
    "y_pred_scaled_knn = knn.predict(X_pred_scaled)"
   ]
  },
  {
   "cell_type": "code",
   "execution_count": 36,
   "metadata": {},
   "outputs": [
    {
     "data": {
      "text/plain": [
       "array([8518.608    , 8526.612    , 8611.772    , 8668.474    ,\n",
       "       8298.726    , 8237.554    , 7628.532    , 8176.144    ,\n",
       "       8439.724    , 8918.778    , 8837.138    , 8672.836    ,\n",
       "       8466.824    , 7690.842    , 7545.258    , 7015.656    ,\n",
       "       8179.342    , 8011.094    , 8590.192    , 8567.763433 ,\n",
       "       8529.015433 , 8953.7      , 8989.816    , 8582.796    ,\n",
       "       8057.196    , 7857.074    , 7617.582    , 7878.398    ,\n",
       "       8150.46     , 8378.23     , 8414.852    , 8492.883433 ,\n",
       "       8592.127433 , 8630.625433 , 8798.1229732, 8674.8254866,\n",
       "       8033.078    , 7615.37     , 7648.06     , 8048.068    ,\n",
       "       8432.54     , 8396.564    , 8566.342    , 8645.814    ,\n",
       "       8724.856    , 8725.82     , 8786.362    , 8978.532    ,\n",
       "       8902.206    , 8994.868    , 8883.968    , 8735.0134866,\n",
       "       8592.85     , 8650.312    , 8674.632    , 8653.226    ,\n",
       "       8649.224    , 8582.504    , 8806.968    , 8877.59     ,\n",
       "       8938.728    , 8962.176    , 8842.9894866, 8594.6859464,\n",
       "       8489.354    , 8500.854    , 8632.088    , 8694.998    ,\n",
       "       8545.244    , 8394.816    , 8600.154    , 8670.518    ,\n",
       "       8977.028    , 8892.082    , 8947.54     , 8961.706    ,\n",
       "       8944.406    , 8983.892    , 8951.39     , 8970.642    ,\n",
       "       8907.776    , 9055.738    , 8772.784    , 8791.894    ,\n",
       "       8783.952    , 8803.946    , 8811.016    , 8924.742    ,\n",
       "       8906.222    , 8993.078    ])"
      ]
     },
     "execution_count": 36,
     "metadata": {},
     "output_type": "execute_result"
    }
   ],
   "source": [
    "y_pred_scaled_knn"
   ]
  },
  {
   "attachments": {},
   "cell_type": "markdown",
   "metadata": {},
   "source": [
    "### Plottting the Prediction"
   ]
  },
  {
   "cell_type": "code",
   "execution_count": 37,
   "metadata": {},
   "outputs": [
    {
     "data": {
      "image/png": "[encoded data removed]",
      "text/plain": [
       "<Figure size 640x480 with 1 Axes>"
      ]
     },
     "metadata": {},
     "output_type": "display_data"
    }
   ],
   "source": [
    "sns.distplot(test_y-predict)\n",
    "plt.title(\"Histogram of Residuals\")\n",
    "plt.xlabel(\"Residuals\")\n",
    "plt.ylabel(\"Frequency\")\n",
    "plt.show()"
   ]
  },
  {
   "cell_type": "code",
   "execution_count": 38,
   "metadata": {},
   "outputs": [
    {
     "data": {
      "image/png": "[encoded data removed]",
      "text/plain": [
       "<Figure size 640x480 with 1 Axes>"
      ]
     },
     "metadata": {},
     "output_type": "display_data"
    }
   ],
   "source": [
    "sns.distplot(test_y-predict_knn)\n",
    "plt.title(\"Histogram of Residuals\")\n",
    "plt.xlabel(\"Residuals\")\n",
    "plt.ylabel(\"Frequency\")\n",
    "plt.show()"
   ]
  },
  {
   "cell_type": "code",
   "execution_count": 39,
   "metadata": {},
   "outputs": [
    {
     "data": {
      "image/png": "[encoded data removed]",
      "text/plain": [
       "<Figure size 640x480 with 1 Axes>"
      ]
     },
     "metadata": {},
     "output_type": "display_data"
    }
   ],
   "source": [
    "sns.distplot(test_y-scaled_predict)\n",
    "plt.title(\"Histogram of Residuals\")\n",
    "plt.xlabel(\"Residuals\")\n",
    "plt.ylabel(\"Frequency\")\n",
    "plt.show()"
   ]
  },
  {
   "cell_type": "code",
   "execution_count": 40,
   "metadata": {},
   "outputs": [
    {
     "data": {
      "image/png": "[encoded data removed]",
      "text/plain": [
       "<Figure size 640x480 with 1 Axes>"
      ]
     },
     "metadata": {},
     "output_type": "display_data"
    }
   ],
   "source": [
    "sns.distplot(test_y-scaled_predict_knn)\n",
    "plt.title(\"Histogram of Residuals\")\n",
    "plt.xlabel(\"Residuals\")\n",
    "plt.ylabel(\"Frequency\")\n",
    "plt.show()"
   ]
  },
  {
   "cell_type": "code",
   "execution_count": 41,
   "metadata": {},
   "outputs": [],
   "source": [
    "df1 = pd.DataFrame(y_pred_lr,columns=['GrocerySales_lr'])\n",
    "df2 = pd.DataFrame(y_pred_knn,columns=['GrocerySales_knn'])\n",
    "df3 = pd.DataFrame(y_pred_scaled_lr,columns=['GrocerySales_lrs'])\n",
    "df4 = pd.DataFrame(y_pred_scaled_knn,columns=['GrocerySales_knns'])"
   ]
  },
  {
   "cell_type": "code",
   "execution_count": 42,
   "metadata": {},
   "outputs": [],
   "source": [
    "temp = [test, df1, df2, df3, df4]"
   ]
  },
  {
   "cell_type": "code",
   "execution_count": 43,
   "metadata": {},
   "outputs": [],
   "source": [
    "test_result = pd.concat(temp, axis=1, join='outer', ignore_index=False, keys=None, levels=None, names=None, verify_integrity=False, copy=True)"
   ]
  },
  {
   "cell_type": "code",
   "execution_count": 44,
   "metadata": {},
   "outputs": [
    {
     "data": {
      "text/html": [
       "<div>\n",
       "<style scoped>\n",
       "    .dataframe tbody tr th:only-of-type {\n",
       "        vertical-align: middle;\n",
       "    }\n",
       "\n",
       "    .dataframe tbody tr th {\n",
       "        vertical-align: top;\n",
       "    }\n",
       "\n",
       "    .dataframe thead th {\n",
       "        text-align: right;\n",
       "    }\n",
       "</style>\n",
       "<table border=\"1\" class=\"dataframe\">\n",
       "  <thead>\n",
       "    <tr style=\"text-align: right;\">\n",
       "      <th></th>\n",
       "      <th>Day</th>\n",
       "      <th>GrocerySales_lr</th>\n",
       "      <th>GrocerySales_knn</th>\n",
       "      <th>GrocerySales_lrs</th>\n",
       "      <th>GrocerySales_knns</th>\n",
       "    </tr>\n",
       "  </thead>\n",
       "  <tbody>\n",
       "    <tr>\n",
       "      <th>0</th>\n",
       "      <td>693</td>\n",
       "      <td>8933.064457</td>\n",
       "      <td>8993.078</td>\n",
       "      <td>8173.123093</td>\n",
       "      <td>8518.608</td>\n",
       "    </tr>\n",
       "    <tr>\n",
       "      <th>1</th>\n",
       "      <td>694</td>\n",
       "      <td>8934.162638</td>\n",
       "      <td>8993.078</td>\n",
       "      <td>8181.649421</td>\n",
       "      <td>8526.612</td>\n",
       "    </tr>\n",
       "  </tbody>\n",
       "</table>\n",
       "</div>"
      ],
      "text/plain": [
       "   Day  GrocerySales_lr  GrocerySales_knn  GrocerySales_lrs  GrocerySales_knns\n",
       "0  693      8933.064457          8993.078       8173.123093           8518.608\n",
       "1  694      8934.162638          8993.078       8181.649421           8526.612"
      ]
     },
     "execution_count": 44,
     "metadata": {},
     "output_type": "execute_result"
    }
   ],
   "source": [
    "test_result.head(2)"
   ]
  },
  {
   "cell_type": "code",
   "execution_count": 46,
   "metadata": {},
   "outputs": [
    {
     "data": {
      "application/vnd.plotly.v1+json": {
       "config": {
        "plotlyServerURL": "https://plot.ly"
       },
       "data": [
        {
         "hovertemplate": "x=%{x}<br>y=%{y}<extra></extra>",
         "legendgroup": "",
         "marker": {
          "color": "#636efa",
          "symbol": "circle"
         },
         "mode": "markers",
         "name": "",
         "orientation": "v",
         "showlegend": false,
         "type": "scatter",
         "x": [
          693,
          694,
          695,
          696,
          697,
          698,
          699,
          700,
          701,
          702,
          703,
          704,
          705,
          706,
          707,
          708,
          709,
          710,
          711,
          712,
          713,
          714,
          715,
          716,
          717,
          718,
          719,
          720,
          721,
          722,
          723,
          724,
          725,
          726,
          727,
          728,
          729,
          730,
          731,
          732,
          733,
          734,
          735,
          736,
          737,
          738,
          739,
          740,
          741,
          742,
          743,
          744,
          745,
          746,
          747,
          748,
          749,
          750,
          751,
          752,
          753,
          754,
          755,
          756,
          757,
          758,
          759,
          760,
          761,
          762,
          763,
          764,
          765,
          766,
          767,
          768,
          769,
          770,
          771,
          772,
          773,
          774,
          775,
          776,
          777,
          778,
          779,
          780,
          781,
          782
         ],
         "xaxis": "x",
         "y": [
          8993.078,
          8993.078,
          8993.078,
          8993.078,
          8993.078,
          8993.078,
          8993.078,
          8993.078,
          8993.078,
          8993.078,
          8993.078,
          8993.078,
          8993.078,
          8993.078,
          8993.078,
          8993.078,
          8993.078,
          8993.078,
          8993.078,
          8993.078,
          8993.078,
          8993.078,
          8993.078,
          8993.078,
          8993.078,
          8993.078,
          8993.078,
          8993.078,
          8993.078,
          8993.078,
          8993.078,
          8993.078,
          8993.078,
          8993.078,
          8993.078,
          8993.078,
          8993.078,
          8993.078,
          8993.078,
          8993.078,
          8993.078,
          8993.078,
          8993.078,
          8993.078,
          8993.078,
          8993.078,
          8993.078,
          8993.078,
          8993.078,
          8993.078,
          8993.078,
          8993.078,
          8993.078,
          8993.078,
          8993.078,
          8993.078,
          8993.078,
          8993.078,
          8993.078,
          8993.078,
          8993.078,
          8993.078,
          8993.078,
          8993.078,
          8993.078,
          8993.078,
          8993.078,
          8993.078,
          8993.078,
          8993.078,
          8993.078,
          8993.078,
          8993.078,
          8993.078,
          8993.078,
          8993.078,
          8993.078,
          8993.078,
          8993.078,
          8993.078,
          8993.078,
          8993.078,
          8993.078,
          8993.078,
          8993.078,
          8993.078,
          8993.078,
          8993.078,
          8993.078,
          8993.078
         ],
         "yaxis": "y"
        }
       ],
       "layout": {
        "legend": {
         "tracegroupgap": 0
        },
        "margin": {
         "t": 60
        },
        "template": {
         "data": {
          "bar": [
           {
            "error_x": {
             "color": "#2a3f5f"
            },
            "error_y": {
             "color": "#2a3f5f"
            },
            "marker": {
             "line": {
              "color": "#E5ECF6",
              "width": 0.5
             },
             "pattern": {
              "fillmode": "overlay",
              "size": 10,
              "solidity": 0.2
             }
            },
            "type": "bar"
           }
          ],
          "barpolar": [
           {
            "marker": {
             "line": {
              "color": "#E5ECF6",
              "width": 0.5
             },
             "pattern": {
              "fillmode": "overlay",
              "size": 10,
              "solidity": 0.2
             }
            },
            "type": "barpolar"
           }
          ],
          "carpet": [
           {
            "aaxis": {
             "endlinecolor": "#2a3f5f",
             "gridcolor": "white",
             "linecolor": "white",
             "minorgridcolor": "white",
             "startlinecolor": "#2a3f5f"
            },
            "baxis": {
             "endlinecolor": "#2a3f5f",
             "gridcolor": "white",
             "linecolor": "white",
             "minorgridcolor": "white",
             "startlinecolor": "#2a3f5f"
            },
            "type": "carpet"
           }
          ],
          "choropleth": [
           {
            "colorbar": {
             "outlinewidth": 0,
             "ticks": ""
            },
            "type": "choropleth"
           }
          ],
          "contour": [
           {
            "colorbar": {
             "outlinewidth": 0,
             "ticks": ""
            },
            "colorscale": [
             [
              0,
              "#0d0887"
             ],
             [
              0.1111111111111111,
              "#46039f"
             ],
             [
              0.2222222222222222,
              "#7201a8"
             ],
             [
              0.3333333333333333,
              "#9c179e"
             ],
             [
              0.4444444444444444,
              "#bd3786"
             ],
             [
              0.5555555555555556,
              "#d8576b"
             ],
             [
              0.6666666666666666,
              "#ed7953"
             ],
             [
              0.7777777777777778,
              "#fb9f3a"
             ],
             [
              0.8888888888888888,
              "#fdca26"
             ],
             [
              1,
              "#f0f921"
             ]
            ],
            "type": "contour"
           }
          ],
          "contourcarpet": [
           {
            "colorbar": {
             "outlinewidth": 0,
             "ticks": ""
            },
            "type": "contourcarpet"
           }
          ],
          "heatmap": [
           {
            "colorbar": {
             "outlinewidth": 0,
             "ticks": ""
            },
            "colorscale": [
             [
              0,
              "#0d0887"
             ],
             [
              0.1111111111111111,
              "#46039f"
             ],
             [
              0.2222222222222222,
              "#7201a8"
             ],
             [
              0.3333333333333333,
              "#9c179e"
             ],
             [
              0.4444444444444444,
              "#bd3786"
             ],
             [
              0.5555555555555556,
              "#d8576b"
             ],
             [
              0.6666666666666666,
              "#ed7953"
             ],
             [
              0.7777777777777778,
              "#fb9f3a"
             ],
             [
              0.8888888888888888,
              "#fdca26"
             ],
             [
              1,
              "#f0f921"
             ]
            ],
            "type": "heatmap"
           }
          ],
          "heatmapgl": [
           {
            "colorbar": {
             "outlinewidth": 0,
             "ticks": ""
            },
            "colorscale": [
             [
              0,
              "#0d0887"
             ],
             [
              0.1111111111111111,
              "#46039f"
             ],
             [
              0.2222222222222222,
              "#7201a8"
             ],
             [
              0.3333333333333333,
              "#9c179e"
             ],
             [
              0.4444444444444444,
              "#bd3786"
             ],
             [
              0.5555555555555556,
              "#d8576b"
             ],
             [
              0.6666666666666666,
              "#ed7953"
             ],
             [
              0.7777777777777778,
              "#fb9f3a"
             ],
             [
              0.8888888888888888,
              "#fdca26"
             ],
             [
              1,
              "#f0f921"
             ]
            ],
            "type": "heatmapgl"
           }
          ],
          "histogram": [
           {
            "marker": {
             "pattern": {
              "fillmode": "overlay",
              "size": 10,
              "solidity": 0.2
             }
            },
            "type": "histogram"
           }
          ],
          "histogram2d": [
           {
            "colorbar": {
             "outlinewidth": 0,
             "ticks": ""
            },
            "colorscale": [
             [
              0,
              "#0d0887"
             ],
             [
              0.1111111111111111,
              "#46039f"
             ],
             [
              0.2222222222222222,
              "#7201a8"
             ],
             [
              0.3333333333333333,
              "#9c179e"
             ],
             [
              0.4444444444444444,
              "#bd3786"
             ],
             [
              0.5555555555555556,
              "#d8576b"
             ],
             [
              0.6666666666666666,
              "#ed7953"
             ],
             [
              0.7777777777777778,
              "#fb9f3a"
             ],
             [
              0.8888888888888888,
              "#fdca26"
             ],
             [
              1,
              "#f0f921"
             ]
            ],
            "type": "histogram2d"
           }
          ],
          "histogram2dcontour": [
           {
            "colorbar": {
             "outlinewidth": 0,
             "ticks": ""
            },
            "colorscale": [
             [
              0,
              "#0d0887"
             ],
             [
              0.1111111111111111,
              "#46039f"
             ],
             [
              0.2222222222222222,
              "#7201a8"
             ],
             [
              0.3333333333333333,
              "#9c179e"
             ],
             [
              0.4444444444444444,
              "#bd3786"
             ],
             [
              0.5555555555555556,
              "#d8576b"
             ],
             [
              0.6666666666666666,
              "#ed7953"
             ],
             [
              0.7777777777777778,
              "#fb9f3a"
             ],
             [
              0.8888888888888888,
              "#fdca26"
             ],
             [
              1,
              "#f0f921"
             ]
            ],
            "type": "histogram2dcontour"
           }
          ],
          "mesh3d": [
           {
            "colorbar": {
             "outlinewidth": 0,
             "ticks": ""
            },
            "type": "mesh3d"
           }
          ],
          "parcoords": [
           {
            "line": {
             "colorbar": {
              "outlinewidth": 0,
              "ticks": ""
             }
            },
            "type": "parcoords"
           }
          ],
          "pie": [
           {
            "automargin": true,
            "type": "pie"
           }
          ],
          "scatter": [
           {
            "fillpattern": {
             "fillmode": "overlay",
             "size": 10,
             "solidity": 0.2
            },
            "type": "scatter"
           }
          ],
          "scatter3d": [
           {
            "line": {
             "colorbar": {
              "outlinewidth": 0,
              "ticks": ""
             }
            },
            "marker": {
             "colorbar": {
              "outlinewidth": 0,
              "ticks": ""
             }
            },
            "type": "scatter3d"
           }
          ],
          "scattercarpet": [
           {
            "marker": {
             "colorbar": {
              "outlinewidth": 0,
              "ticks": ""
             }
            },
            "type": "scattercarpet"
           }
          ],
          "scattergeo": [
           {
            "marker": {
             "colorbar": {
              "outlinewidth": 0,
              "ticks": ""
             }
            },
            "type": "scattergeo"
           }
          ],
          "scattergl": [
           {
            "marker": {
             "colorbar": {
              "outlinewidth": 0,
              "ticks": ""
             }
            },
            "type": "scattergl"
           }
          ],
          "scattermapbox": [
           {
            "marker": {
             "colorbar": {
              "outlinewidth": 0,
              "ticks": ""
             }
            },
            "type": "scattermapbox"
           }
          ],
          "scatterpolar": [
           {
            "marker": {
             "colorbar": {
              "outlinewidth": 0,
              "ticks": ""
             }
            },
            "type": "scatterpolar"
           }
          ],
          "scatterpolargl": [
           {
            "marker": {
             "colorbar": {
              "outlinewidth": 0,
              "ticks": ""
             }
            },
            "type": "scatterpolargl"
           }
          ],
          "scatterternary": [
           {
            "marker": {
             "colorbar": {
              "outlinewidth": 0,
              "ticks": ""
             }
            },
            "type": "scatterternary"
           }
          ],
          "surface": [
           {
            "colorbar": {
             "outlinewidth": 0,
             "ticks": ""
            },
            "colorscale": [
             [
              0,
              "#0d0887"
             ],
             [
              0.1111111111111111,
              "#46039f"
             ],
             [
              0.2222222222222222,
              "#7201a8"
             ],
             [
              0.3333333333333333,
              "#9c179e"
             ],
             [
              0.4444444444444444,
              "#bd3786"
             ],
             [
              0.5555555555555556,
              "#d8576b"
             ],
             [
              0.6666666666666666,
              "#ed7953"
             ],
             [
              0.7777777777777778,
              "#fb9f3a"
             ],
             [
              0.8888888888888888,
              "#fdca26"
             ],
             [
              1,
              "#f0f921"
             ]
            ],
            "type": "surface"
           }
          ],
          "table": [
           {
            "cells": {
             "fill": {
              "color": "#EBF0F8"
             },
             "line": {
              "color": "white"
             }
            },
            "header": {
             "fill": {
              "color": "#C8D4E3"
             },
             "line": {
              "color": "white"
             }
            },
            "type": "table"
           }
          ]
         },
         "layout": {
          "annotationdefaults": {
           "arrowcolor": "#2a3f5f",
           "arrowhead": 0,
           "arrowwidth": 1
          },
          "autotypenumbers": "strict",
          "coloraxis": {
           "colorbar": {
            "outlinewidth": 0,
            "ticks": ""
           }
          },
          "colorscale": {
           "diverging": [
            [
             0,
             "#8e0152"
            ],
            [
             0.1,
             "#c51b7d"
            ],
            [
             0.2,
             "#de77ae"
            ],
            [
             0.3,
             "#f1b6da"
            ],
            [
             0.4,
             "#fde0ef"
            ],
            [
             0.5,
             "#f7f7f7"
            ],
            [
             0.6,
             "#e6f5d0"
            ],
            [
             0.7,
             "#b8e186"
            ],
            [
             0.8,
             "#7fbc41"
            ],
            [
             0.9,
             "#4d9221"
            ],
            [
             1,
             "#276419"
            ]
           ],
           "sequential": [
            [
             0,
             "#0d0887"
            ],
            [
             0.1111111111111111,
             "#46039f"
            ],
            [
             0.2222222222222222,
             "#7201a8"
            ],
            [
             0.3333333333333333,
             "#9c179e"
            ],
            [
             0.4444444444444444,
             "#bd3786"
            ],
            [
             0.5555555555555556,
             "#d8576b"
            ],
            [
             0.6666666666666666,
             "#ed7953"
            ],
            [
             0.7777777777777778,
             "#fb9f3a"
            ],
            [
             0.8888888888888888,
             "#fdca26"
            ],
            [
             1,
             "#f0f921"
            ]
           ],
           "sequentialminus": [
            [
             0,
             "#0d0887"
            ],
            [
             0.1111111111111111,
             "#46039f"
            ],
            [
             0.2222222222222222,
             "#7201a8"
            ],
            [
             0.3333333333333333,
             "#9c179e"
            ],
            [
             0.4444444444444444,
             "#bd3786"
            ],
            [
             0.5555555555555556,
             "#d8576b"
            ],
            [
             0.6666666666666666,
             "#ed7953"
            ],
            [
             0.7777777777777778,
             "#fb9f3a"
            ],
            [
             0.8888888888888888,
             "#fdca26"
            ],
            [
             1,
             "#f0f921"
            ]
           ]
          },
          "colorway": [
           "#636efa",
           "#EF553B",
           "#00cc96",
           "#ab63fa",
           "#FFA15A",
           "#19d3f3",
           "#FF6692",
           "#B6E880",
           "#FF97FF",
           "#FECB52"
          ],
          "font": {
           "color": "#2a3f5f"
          },
          "geo": {
           "bgcolor": "white",
           "lakecolor": "white",
           "landcolor": "#E5ECF6",
           "showlakes": true,
           "showland": true,
           "subunitcolor": "white"
          },
          "hoverlabel": {
           "align": "left"
          },
          "hovermode": "closest",
          "mapbox": {
           "style": "light"
          },
          "paper_bgcolor": "white",
          "plot_bgcolor": "#E5ECF6",
          "polar": {
           "angularaxis": {
            "gridcolor": "white",
            "linecolor": "white",
            "ticks": ""
           },
           "bgcolor": "#E5ECF6",
           "radialaxis": {
            "gridcolor": "white",
            "linecolor": "white",
            "ticks": ""
           }
          },
          "scene": {
           "xaxis": {
            "backgroundcolor": "#E5ECF6",
            "gridcolor": "white",
            "gridwidth": 2,
            "linecolor": "white",
            "showbackground": true,
            "ticks": "",
            "zerolinecolor": "white"
           },
           "yaxis": {
            "backgroundcolor": "#E5ECF6",
            "gridcolor": "white",
            "gridwidth": 2,
            "linecolor": "white",
            "showbackground": true,
            "ticks": "",
            "zerolinecolor": "white"
           },
           "zaxis": {
            "backgroundcolor": "#E5ECF6",
            "gridcolor": "white",
            "gridwidth": 2,
            "linecolor": "white",
            "showbackground": true,
            "ticks": "",
            "zerolinecolor": "white"
           }
          },
          "shapedefaults": {
           "line": {
            "color": "#2a3f5f"
           }
          },
          "ternary": {
           "aaxis": {
            "gridcolor": "white",
            "linecolor": "white",
            "ticks": ""
           },
           "baxis": {
            "gridcolor": "white",
            "linecolor": "white",
            "ticks": ""
           },
           "bgcolor": "#E5ECF6",
           "caxis": {
            "gridcolor": "white",
            "linecolor": "white",
            "ticks": ""
           }
          },
          "title": {
           "x": 0.05
          },
          "xaxis": {
           "automargin": true,
           "gridcolor": "white",
           "linecolor": "white",
           "ticks": "",
           "title": {
            "standoff": 15
           },
           "zerolinecolor": "white",
           "zerolinewidth": 2
          },
          "yaxis": {
           "automargin": true,
           "gridcolor": "white",
           "linecolor": "white",
           "ticks": "",
           "title": {
            "standoff": 15
           },
           "zerolinecolor": "white",
           "zerolinewidth": 2
          }
         }
        },
        "xaxis": {
         "anchor": "y",
         "domain": [
          0,
          1
         ],
         "title": {
          "text": "x"
         }
        },
        "yaxis": {
         "anchor": "x",
         "domain": [
          0,
          1
         ],
         "title": {
          "text": "y"
         }
        }
       }
      }
     },
     "metadata": {},
     "output_type": "display_data"
    }
   ],
   "source": [
    "fig = px.scatter(x=test_result.Day, y=test_result.GrocerySales_knn)\n",
    "fig.show()"
   ]
  },
  {
   "cell_type": "code",
   "execution_count": 47,
   "metadata": {},
   "outputs": [
    {
     "data": {
      "application/vnd.plotly.v1+json": {
       "config": {
        "plotlyServerURL": "https://plot.ly"
       },
       "data": [
        {
         "hovertemplate": "x=%{x}<br>y=%{y}<extra></extra>",
         "legendgroup": "",
         "marker": {
          "color": "#636efa",
          "symbol": "circle"
         },
         "mode": "markers",
         "name": "",
         "orientation": "v",
         "showlegend": false,
         "type": "scatter",
         "x": [
          693,
          694,
          695,
          696,
          697,
          698,
          699,
          700,
          701,
          702,
          703,
          704,
          705,
          706,
          707,
          708,
          709,
          710,
          711,
          712,
          713,
          714,
          715,
          716,
          717,
          718,
          719,
          720,
          721,
          722,
          723,
          724,
          725,
          726,
          727,
          728,
          729,
          730,
          731,
          732,
          733,
          734,
          735,
          736,
          737,
          738,
          739,
          740,
          741,
          742,
          743,
          744,
          745,
          746,
          747,
          748,
          749,
          750,
          751,
          752,
          753,
          754,
          755,
          756,
          757,
          758,
          759,
          760,
          761,
          762,
          763,
          764,
          765,
          766,
          767,
          768,
          769,
          770,
          771,
          772,
          773,
          774,
          775,
          776,
          777,
          778,
          779,
          780,
          781,
          782
         ],
         "xaxis": "x",
         "y": [
          8518.607999999998,
          8526.612,
          8611.772,
          8668.474,
          8298.725999999999,
          8237.554,
          7628.531999999999,
          8176.144,
          8439.723999999998,
          8918.778,
          8837.138,
          8672.836,
          8466.824,
          7690.842,
          7545.258,
          7015.656,
          8179.342,
          8011.094,
          8590.192,
          8567.763433004231,
          8529.015433004231,
          8953.7,
          8989.815999999999,
          8582.795999999998,
          8057.195999999999,
          7857.073999999999,
          7617.581999999999,
          7878.397999999999,
          8150.460000000001,
          8378.23,
          8414.852000000003,
          8492.883433004232,
          8592.12743300423,
          8630.625433004232,
          8798.122973201693,
          8674.825486600846,
          8033.0779999999995,
          7615.370000000001,
          7648.06,
          8048.068000000001,
          8432.539999999999,
          8396.564,
          8566.342,
          8645.814,
          8724.856000000002,
          8725.820000000002,
          8786.362,
          8978.532000000001,
          8902.206,
          8994.867999999999,
          8883.967999999999,
          8735.013486600845,
          8592.850000000002,
          8650.312,
          8674.632000000001,
          8653.226,
          8649.224,
          8582.504,
          8806.968,
          8877.59,
          8938.728,
          8962.176,
          8842.989486600845,
          8594.685946403386,
          8489.354,
          8500.854,
          8632.088,
          8694.998000000001,
          8545.243999999999,
          8394.816,
          8600.154,
          8670.518,
          8977.028,
          8892.082,
          8947.539999999999,
          8961.706,
          8944.406,
          8983.891999999998,
          8951.39,
          8970.642,
          8907.776000000002,
          9055.738000000001,
          8772.784000000001,
          8791.894,
          8783.952000000001,
          8803.946,
          8811.016,
          8924.742,
          8906.221999999998,
          8993.078
         ],
         "yaxis": "y"
        }
       ],
       "layout": {
        "legend": {
         "tracegroupgap": 0
        },
        "margin": {
         "t": 60
        },
        "template": {
         "data": {
          "bar": [
           {
            "error_x": {
             "color": "#2a3f5f"
            },
            "error_y": {
             "color": "#2a3f5f"
            },
            "marker": {
             "line": {
              "color": "#E5ECF6",
              "width": 0.5
             },
             "pattern": {
              "fillmode": "overlay",
              "size": 10,
              "solidity": 0.2
             }
            },
            "type": "bar"
           }
          ],
          "barpolar": [
           {
            "marker": {
             "line": {
              "color": "#E5ECF6",
              "width": 0.5
             },
             "pattern": {
              "fillmode": "overlay",
              "size": 10,
              "solidity": 0.2
             }
            },
            "type": "barpolar"
           }
          ],
          "carpet": [
           {
            "aaxis": {
             "endlinecolor": "#2a3f5f",
             "gridcolor": "white",
             "linecolor": "white",
             "minorgridcolor": "white",
             "startlinecolor": "#2a3f5f"
            },
            "baxis": {
             "endlinecolor": "#2a3f5f",
             "gridcolor": "white",
             "linecolor": "white",
             "minorgridcolor": "white",
             "startlinecolor": "#2a3f5f"
            },
            "type": "carpet"
           }
          ],
          "choropleth": [
           {
            "colorbar": {
             "outlinewidth": 0,
             "ticks": ""
            },
            "type": "choropleth"
           }
          ],
          "contour": [
           {
            "colorbar": {
             "outlinewidth": 0,
             "ticks": ""
            },
            "colorscale": [
             [
              0,
              "#0d0887"
             ],
             [
              0.1111111111111111,
              "#46039f"
             ],
             [
              0.2222222222222222,
              "#7201a8"
             ],
             [
              0.3333333333333333,
              "#9c179e"
             ],
             [
              0.4444444444444444,
              "#bd3786"
             ],
             [
              0.5555555555555556,
              "#d8576b"
             ],
             [
              0.6666666666666666,
              "#ed7953"
             ],
             [
              0.7777777777777778,
              "#fb9f3a"
             ],
             [
              0.8888888888888888,
              "#fdca26"
             ],
             [
              1,
              "#f0f921"
             ]
            ],
            "type": "contour"
           }
          ],
          "contourcarpet": [
           {
            "colorbar": {
             "outlinewidth": 0,
             "ticks": ""
            },
            "type": "contourcarpet"
           }
          ],
          "heatmap": [
           {
            "colorbar": {
             "outlinewidth": 0,
             "ticks": ""
            },
            "colorscale": [
             [
              0,
              "#0d0887"
             ],
             [
              0.1111111111111111,
              "#46039f"
             ],
             [
              0.2222222222222222,
              "#7201a8"
             ],
             [
              0.3333333333333333,
              "#9c179e"
             ],
             [
              0.4444444444444444,
              "#bd3786"
             ],
             [
              0.5555555555555556,
              "#d8576b"
             ],
             [
              0.6666666666666666,
              "#ed7953"
             ],
             [
              0.7777777777777778,
              "#fb9f3a"
             ],
             [
              0.8888888888888888,
              "#fdca26"
             ],
             [
              1,
              "#f0f921"
             ]
            ],
            "type": "heatmap"
           }
          ],
          "heatmapgl": [
           {
            "colorbar": {
             "outlinewidth": 0,
             "ticks": ""
            },
            "colorscale": [
             [
              0,
              "#0d0887"
             ],
             [
              0.1111111111111111,
              "#46039f"
             ],
             [
              0.2222222222222222,
              "#7201a8"
             ],
             [
              0.3333333333333333,
              "#9c179e"
             ],
             [
              0.4444444444444444,
              "#bd3786"
             ],
             [
              0.5555555555555556,
              "#d8576b"
             ],
             [
              0.6666666666666666,
              "#ed7953"
             ],
             [
              0.7777777777777778,
              "#fb9f3a"
             ],
             [
              0.8888888888888888,
              "#fdca26"
             ],
             [
              1,
              "#f0f921"
             ]
            ],
            "type": "heatmapgl"
           }
          ],
          "histogram": [
           {
            "marker": {
             "pattern": {
              "fillmode": "overlay",
              "size": 10,
              "solidity": 0.2
             }
            },
            "type": "histogram"
           }
          ],
          "histogram2d": [
           {
            "colorbar": {
             "outlinewidth": 0,
             "ticks": ""
            },
            "colorscale": [
             [
              0,
              "#0d0887"
             ],
             [
              0.1111111111111111,
              "#46039f"
             ],
             [
              0.2222222222222222,
              "#7201a8"
             ],
             [
              0.3333333333333333,
              "#9c179e"
             ],
             [
              0.4444444444444444,
              "#bd3786"
             ],
             [
              0.5555555555555556,
              "#d8576b"
             ],
             [
              0.6666666666666666,
              "#ed7953"
             ],
             [
              0.7777777777777778,
              "#fb9f3a"
             ],
             [
              0.8888888888888888,
              "#fdca26"
             ],
             [
              1,
              "#f0f921"
             ]
            ],
            "type": "histogram2d"
           }
          ],
          "histogram2dcontour": [
           {
            "colorbar": {
             "outlinewidth": 0,
             "ticks": ""
            },
            "colorscale": [
             [
              0,
              "#0d0887"
             ],
             [
              0.1111111111111111,
              "#46039f"
             ],
             [
              0.2222222222222222,
              "#7201a8"
             ],
             [
              0.3333333333333333,
              "#9c179e"
             ],
             [
              0.4444444444444444,
              "#bd3786"
             ],
             [
              0.5555555555555556,
              "#d8576b"
             ],
             [
              0.6666666666666666,
              "#ed7953"
             ],
             [
              0.7777777777777778,
              "#fb9f3a"
             ],
             [
              0.8888888888888888,
              "#fdca26"
             ],
             [
              1,
              "#f0f921"
             ]
            ],
            "type": "histogram2dcontour"
           }
          ],
          "mesh3d": [
           {
            "colorbar": {
             "outlinewidth": 0,
             "ticks": ""
            },
            "type": "mesh3d"
           }
          ],
          "parcoords": [
           {
            "line": {
             "colorbar": {
              "outlinewidth": 0,
              "ticks": ""
             }
            },
            "type": "parcoords"
           }
          ],
          "pie": [
           {
            "automargin": true,
            "type": "pie"
           }
          ],
          "scatter": [
           {
            "fillpattern": {
             "fillmode": "overlay",
             "size": 10,
             "solidity": 0.2
            },
            "type": "scatter"
           }
          ],
          "scatter3d": [
           {
            "line": {
             "colorbar": {
              "outlinewidth": 0,
              "ticks": ""
             }
            },
            "marker": {
             "colorbar": {
              "outlinewidth": 0,
              "ticks": ""
             }
            },
            "type": "scatter3d"
           }
          ],
          "scattercarpet": [
           {
            "marker": {
             "colorbar": {
              "outlinewidth": 0,
              "ticks": ""
             }
            },
            "type": "scattercarpet"
           }
          ],
          "scattergeo": [
           {
            "marker": {
             "colorbar": {
              "outlinewidth": 0,
              "ticks": ""
             }
            },
            "type": "scattergeo"
           }
          ],
          "scattergl": [
           {
            "marker": {
             "colorbar": {
              "outlinewidth": 0,
              "ticks": ""
             }
            },
            "type": "scattergl"
           }
          ],
          "scattermapbox": [
           {
            "marker": {
             "colorbar": {
              "outlinewidth": 0,
              "ticks": ""
             }
            },
            "type": "scattermapbox"
           }
          ],
          "scatterpolar": [
           {
            "marker": {
             "colorbar": {
              "outlinewidth": 0,
              "ticks": ""
             }
            },
            "type": "scatterpolar"
           }
          ],
          "scatterpolargl": [
           {
            "marker": {
             "colorbar": {
              "outlinewidth": 0,
              "ticks": ""
             }
            },
            "type": "scatterpolargl"
           }
          ],
          "scatterternary": [
           {
            "marker": {
             "colorbar": {
              "outlinewidth": 0,
              "ticks": ""
             }
            },
            "type": "scatterternary"
           }
          ],
          "surface": [
           {
            "colorbar": {
             "outlinewidth": 0,
             "ticks": ""
            },
            "colorscale": [
             [
              0,
              "#0d0887"
             ],
             [
              0.1111111111111111,
              "#46039f"
             ],
             [
              0.2222222222222222,
              "#7201a8"
             ],
             [
              0.3333333333333333,
              "#9c179e"
             ],
             [
              0.4444444444444444,
              "#bd3786"
             ],
             [
              0.5555555555555556,
              "#d8576b"
             ],
             [
              0.6666666666666666,
              "#ed7953"
             ],
             [
              0.7777777777777778,
              "#fb9f3a"
             ],
             [
              0.8888888888888888,
              "#fdca26"
             ],
             [
              1,
              "#f0f921"
             ]
            ],
            "type": "surface"
           }
          ],
          "table": [
           {
            "cells": {
             "fill": {
              "color": "#EBF0F8"
             },
             "line": {
              "color": "white"
             }
            },
            "header": {
             "fill": {
              "color": "#C8D4E3"
             },
             "line": {
              "color": "white"
             }
            },
            "type": "table"
           }
          ]
         },
         "layout": {
          "annotationdefaults": {
           "arrowcolor": "#2a3f5f",
           "arrowhead": 0,
           "arrowwidth": 1
          },
          "autotypenumbers": "strict",
          "coloraxis": {
           "colorbar": {
            "outlinewidth": 0,
            "ticks": ""
           }
          },
          "colorscale": {
           "diverging": [
            [
             0,
             "#8e0152"
            ],
            [
             0.1,
             "#c51b7d"
            ],
            [
             0.2,
             "#de77ae"
            ],
            [
             0.3,
             "#f1b6da"
            ],
            [
             0.4,
             "#fde0ef"
            ],
            [
             0.5,
             "#f7f7f7"
            ],
            [
             0.6,
             "#e6f5d0"
            ],
            [
             0.7,
             "#b8e186"
            ],
            [
             0.8,
             "#7fbc41"
            ],
            [
             0.9,
             "#4d9221"
            ],
            [
             1,
             "#276419"
            ]
           ],
           "sequential": [
            [
             0,
             "#0d0887"
            ],
            [
             0.1111111111111111,
             "#46039f"
            ],
            [
             0.2222222222222222,
             "#7201a8"
            ],
            [
             0.3333333333333333,
             "#9c179e"
            ],
            [
             0.4444444444444444,
             "#bd3786"
            ],
            [
             0.5555555555555556,
             "#d8576b"
            ],
            [
             0.6666666666666666,
             "#ed7953"
            ],
            [
             0.7777777777777778,
             "#fb9f3a"
            ],
            [
             0.8888888888888888,
             "#fdca26"
            ],
            [
             1,
             "#f0f921"
            ]
           ],
           "sequentialminus": [
            [
             0,
             "#0d0887"
            ],
            [
             0.1111111111111111,
             "#46039f"
            ],
            [
             0.2222222222222222,
             "#7201a8"
            ],
            [
             0.3333333333333333,
             "#9c179e"
            ],
            [
             0.4444444444444444,
             "#bd3786"
            ],
            [
             0.5555555555555556,
             "#d8576b"
            ],
            [
             0.6666666666666666,
             "#ed7953"
            ],
            [
             0.7777777777777778,
             "#fb9f3a"
            ],
            [
             0.8888888888888888,
             "#fdca26"
            ],
            [
             1,
             "#f0f921"
            ]
           ]
          },
          "colorway": [
           "#636efa",
           "#EF553B",
           "#00cc96",
           "#ab63fa",
           "#FFA15A",
           "#19d3f3",
           "#FF6692",
           "#B6E880",
           "#FF97FF",
           "#FECB52"
          ],
          "font": {
           "color": "#2a3f5f"
          },
          "geo": {
           "bgcolor": "white",
           "lakecolor": "white",
           "landcolor": "#E5ECF6",
           "showlakes": true,
           "showland": true,
           "subunitcolor": "white"
          },
          "hoverlabel": {
           "align": "left"
          },
          "hovermode": "closest",
          "mapbox": {
           "style": "light"
          },
          "paper_bgcolor": "white",
          "plot_bgcolor": "#E5ECF6",
          "polar": {
           "angularaxis": {
            "gridcolor": "white",
            "linecolor": "white",
            "ticks": ""
           },
           "bgcolor": "#E5ECF6",
           "radialaxis": {
            "gridcolor": "white",
            "linecolor": "white",
            "ticks": ""
           }
          },
          "scene": {
           "xaxis": {
            "backgroundcolor": "#E5ECF6",
            "gridcolor": "white",
            "gridwidth": 2,
            "linecolor": "white",
            "showbackground": true,
            "ticks": "",
            "zerolinecolor": "white"
           },
           "yaxis": {
            "backgroundcolor": "#E5ECF6",
            "gridcolor": "white",
            "gridwidth": 2,
            "linecolor": "white",
            "showbackground": true,
            "ticks": "",
            "zerolinecolor": "white"
           },
           "zaxis": {
            "backgroundcolor": "#E5ECF6",
            "gridcolor": "white",
            "gridwidth": 2,
            "linecolor": "white",
            "showbackground": true,
            "ticks": "",
            "zerolinecolor": "white"
           }
          },
          "shapedefaults": {
           "line": {
            "color": "#2a3f5f"
           }
          },
          "ternary": {
           "aaxis": {
            "gridcolor": "white",
            "linecolor": "white",
            "ticks": ""
           },
           "baxis": {
            "gridcolor": "white",
            "linecolor": "white",
            "ticks": ""
           },
           "bgcolor": "#E5ECF6",
           "caxis": {
            "gridcolor": "white",
            "linecolor": "white",
            "ticks": ""
           }
          },
          "title": {
           "x": 0.05
          },
          "xaxis": {
           "automargin": true,
           "gridcolor": "white",
           "linecolor": "white",
           "ticks": "",
           "title": {
            "standoff": 15
           },
           "zerolinecolor": "white",
           "zerolinewidth": 2
          },
          "yaxis": {
           "automargin": true,
           "gridcolor": "white",
           "linecolor": "white",
           "ticks": "",
           "title": {
            "standoff": 15
           },
           "zerolinecolor": "white",
           "zerolinewidth": 2
          }
         }
        },
        "xaxis": {
         "anchor": "y",
         "domain": [
          0,
          1
         ],
         "title": {
          "text": "x"
         }
        },
        "yaxis": {
         "anchor": "x",
         "domain": [
          0,
          1
         ],
         "title": {
          "text": "y"
         }
        }
       }
      }
     },
     "metadata": {},
     "output_type": "display_data"
    }
   ],
   "source": [
    "fig = px.scatter(x=test_result.Day, y=test_result.GrocerySales_knns)\n",
    "fig.show()"
   ]
  },
  {
   "cell_type": "code",
   "execution_count": 48,
   "metadata": {},
   "outputs": [
    {
     "data": {
      "application/vnd.plotly.v1+json": {
       "config": {
        "plotlyServerURL": "https://plot.ly"
       },
       "data": [
        {
         "hovertemplate": "x=%{x}<br>y=%{y}<extra></extra>",
         "legendgroup": "",
         "marker": {
          "color": "#636efa",
          "symbol": "circle"
         },
         "mode": "markers",
         "name": "",
         "orientation": "v",
         "showlegend": false,
         "type": "scatter",
         "x": [
          693,
          694,
          695,
          696,
          697,
          698,
          699,
          700,
          701,
          702,
          703,
          704,
          705,
          706,
          707,
          708,
          709,
          710,
          711,
          712,
          713,
          714,
          715,
          716,
          717,
          718,
          719,
          720,
          721,
          722,
          723,
          724,
          725,
          726,
          727,
          728,
          729,
          730,
          731,
          732,
          733,
          734,
          735,
          736,
          737,
          738,
          739,
          740,
          741,
          742,
          743,
          744,
          745,
          746,
          747,
          748,
          749,
          750,
          751,
          752,
          753,
          754,
          755,
          756,
          757,
          758,
          759,
          760,
          761,
          762,
          763,
          764,
          765,
          766,
          767,
          768,
          769,
          770,
          771,
          772,
          773,
          774,
          775,
          776,
          777,
          778,
          779,
          780,
          781,
          782
         ],
         "xaxis": "x",
         "y": [
          8933.064456776037,
          8934.162637937472,
          8935.260819098909,
          8936.359000260343,
          8937.45718142178,
          8938.555362583214,
          8939.653543744651,
          8940.751724906086,
          8941.849906067522,
          8942.948087228957,
          8944.046268390393,
          8945.144449551828,
          8946.242630713265,
          8947.3408118747,
          8948.438993036136,
          8949.53717419757,
          8950.635355359007,
          8951.733536520442,
          8952.831717681878,
          8953.929898843313,
          8955.02808000475,
          8956.126261166184,
          8957.22444232762,
          8958.322623489055,
          8959.420804650492,
          8960.518985811927,
          8961.617166973363,
          8962.715348134798,
          8963.813529296234,
          8964.911710457669,
          8966.009891619105,
          8967.10807278054,
          8968.206253941977,
          8969.304435103411,
          8970.402616264848,
          8971.500797426283,
          8972.59897858772,
          8973.697159749154,
          8974.79534091059,
          8975.893522072025,
          8976.991703233462,
          8978.089884394896,
          8979.188065556333,
          8980.286246717767,
          8981.384427879204,
          8982.482609040639,
          8983.580790202075,
          8984.67897136351,
          8985.777152524946,
          8986.875333686381,
          8987.973514847818,
          8989.071696009252,
          8990.169877170689,
          8991.268058332123,
          8992.36623949356,
          8993.464420654995,
          8994.562601816431,
          8995.660782977866,
          8996.758964139302,
          8997.857145300737,
          8998.955326462174,
          9000.053507623608,
          9001.151688785045,
          9002.24986994648,
          9003.348051107916,
          9004.44623226935,
          9005.544413430787,
          9006.642594592222,
          9007.740775753658,
          9008.838956915093,
          9009.93713807653,
          9011.035319237964,
          9012.1335003994,
          9013.231681560836,
          9014.329862722272,
          9015.428043883707,
          9016.526225045143,
          9017.624406206578,
          9018.722587368015,
          9019.82076852945,
          9020.918949690886,
          9022.01713085232,
          9023.115312013757,
          9024.213493175192,
          9025.311674336628,
          9026.409855498063,
          9027.5080366595,
          9028.606217820934,
          9029.70439898237,
          9030.802580143805
         ],
         "yaxis": "y"
        }
       ],
       "layout": {
        "legend": {
         "tracegroupgap": 0
        },
        "margin": {
         "t": 60
        },
        "template": {
         "data": {
          "bar": [
           {
            "error_x": {
             "color": "#2a3f5f"
            },
            "error_y": {
             "color": "#2a3f5f"
            },
            "marker": {
             "line": {
              "color": "#E5ECF6",
              "width": 0.5
             },
             "pattern": {
              "fillmode": "overlay",
              "size": 10,
              "solidity": 0.2
             }
            },
            "type": "bar"
           }
          ],
          "barpolar": [
           {
            "marker": {
             "line": {
              "color": "#E5ECF6",
              "width": 0.5
             },
             "pattern": {
              "fillmode": "overlay",
              "size": 10,
              "solidity": 0.2
             }
            },
            "type": "barpolar"
           }
          ],
          "carpet": [
           {
            "aaxis": {
             "endlinecolor": "#2a3f5f",
             "gridcolor": "white",
             "linecolor": "white",
             "minorgridcolor": "white",
             "startlinecolor": "#2a3f5f"
            },
            "baxis": {
             "endlinecolor": "#2a3f5f",
             "gridcolor": "white",
             "linecolor": "white",
             "minorgridcolor": "white",
             "startlinecolor": "#2a3f5f"
            },
            "type": "carpet"
           }
          ],
          "choropleth": [
           {
            "colorbar": {
             "outlinewidth": 0,
             "ticks": ""
            },
            "type": "choropleth"
           }
          ],
          "contour": [
           {
            "colorbar": {
             "outlinewidth": 0,
             "ticks": ""
            },
            "colorscale": [
             [
              0,
              "#0d0887"
             ],
             [
              0.1111111111111111,
              "#46039f"
             ],
             [
              0.2222222222222222,
              "#7201a8"
             ],
             [
              0.3333333333333333,
              "#9c179e"
             ],
             [
              0.4444444444444444,
              "#bd3786"
             ],
             [
              0.5555555555555556,
              "#d8576b"
             ],
             [
              0.6666666666666666,
              "#ed7953"
             ],
             [
              0.7777777777777778,
              "#fb9f3a"
             ],
             [
              0.8888888888888888,
              "#fdca26"
             ],
             [
              1,
              "#f0f921"
             ]
            ],
            "type": "contour"
           }
          ],
          "contourcarpet": [
           {
            "colorbar": {
             "outlinewidth": 0,
             "ticks": ""
            },
            "type": "contourcarpet"
           }
          ],
          "heatmap": [
           {
            "colorbar": {
             "outlinewidth": 0,
             "ticks": ""
            },
            "colorscale": [
             [
              0,
              "#0d0887"
             ],
             [
              0.1111111111111111,
              "#46039f"
             ],
             [
              0.2222222222222222,
              "#7201a8"
             ],
             [
              0.3333333333333333,
              "#9c179e"
             ],
             [
              0.4444444444444444,
              "#bd3786"
             ],
             [
              0.5555555555555556,
              "#d8576b"
             ],
             [
              0.6666666666666666,
              "#ed7953"
             ],
             [
              0.7777777777777778,
              "#fb9f3a"
             ],
             [
              0.8888888888888888,
              "#fdca26"
             ],
             [
              1,
              "#f0f921"
             ]
            ],
            "type": "heatmap"
           }
          ],
          "heatmapgl": [
           {
            "colorbar": {
             "outlinewidth": 0,
             "ticks": ""
            },
            "colorscale": [
             [
              0,
              "#0d0887"
             ],
             [
              0.1111111111111111,
              "#46039f"
             ],
             [
              0.2222222222222222,
              "#7201a8"
             ],
             [
              0.3333333333333333,
              "#9c179e"
             ],
             [
              0.4444444444444444,
              "#bd3786"
             ],
             [
              0.5555555555555556,
              "#d8576b"
             ],
             [
              0.6666666666666666,
              "#ed7953"
             ],
             [
              0.7777777777777778,
              "#fb9f3a"
             ],
             [
              0.8888888888888888,
              "#fdca26"
             ],
             [
              1,
              "#f0f921"
             ]
            ],
            "type": "heatmapgl"
           }
          ],
          "histogram": [
           {
            "marker": {
             "pattern": {
              "fillmode": "overlay",
              "size": 10,
              "solidity": 0.2
             }
            },
            "type": "histogram"
           }
          ],
          "histogram2d": [
           {
            "colorbar": {
             "outlinewidth": 0,
             "ticks": ""
            },
            "colorscale": [
             [
              0,
              "#0d0887"
             ],
             [
              0.1111111111111111,
              "#46039f"
             ],
             [
              0.2222222222222222,
              "#7201a8"
             ],
             [
              0.3333333333333333,
              "#9c179e"
             ],
             [
              0.4444444444444444,
              "#bd3786"
             ],
             [
              0.5555555555555556,
              "#d8576b"
             ],
             [
              0.6666666666666666,
              "#ed7953"
             ],
             [
              0.7777777777777778,
              "#fb9f3a"
             ],
             [
              0.8888888888888888,
              "#fdca26"
             ],
             [
              1,
              "#f0f921"
             ]
            ],
            "type": "histogram2d"
           }
          ],
          "histogram2dcontour": [
           {
            "colorbar": {
             "outlinewidth": 0,
             "ticks": ""
            },
            "colorscale": [
             [
              0,
              "#0d0887"
             ],
             [
              0.1111111111111111,
              "#46039f"
             ],
             [
              0.2222222222222222,
              "#7201a8"
             ],
             [
              0.3333333333333333,
              "#9c179e"
             ],
             [
              0.4444444444444444,
              "#bd3786"
             ],
             [
              0.5555555555555556,
              "#d8576b"
             ],
             [
              0.6666666666666666,
              "#ed7953"
             ],
             [
              0.7777777777777778,
              "#fb9f3a"
             ],
             [
              0.8888888888888888,
              "#fdca26"
             ],
             [
              1,
              "#f0f921"
             ]
            ],
            "type": "histogram2dcontour"
           }
          ],
          "mesh3d": [
           {
            "colorbar": {
             "outlinewidth": 0,
             "ticks": ""
            },
            "type": "mesh3d"
           }
          ],
          "parcoords": [
           {
            "line": {
             "colorbar": {
              "outlinewidth": 0,
              "ticks": ""
             }
            },
            "type": "parcoords"
           }
          ],
          "pie": [
           {
            "automargin": true,
            "type": "pie"
           }
          ],
          "scatter": [
           {
            "fillpattern": {
             "fillmode": "overlay",
             "size": 10,
             "solidity": 0.2
            },
            "type": "scatter"
           }
          ],
          "scatter3d": [
           {
            "line": {
             "colorbar": {
              "outlinewidth": 0,
              "ticks": ""
             }
            },
            "marker": {
             "colorbar": {
              "outlinewidth": 0,
              "ticks": ""
             }
            },
            "type": "scatter3d"
           }
          ],
          "scattercarpet": [
           {
            "marker": {
             "colorbar": {
              "outlinewidth": 0,
              "ticks": ""
             }
            },
            "type": "scattercarpet"
           }
          ],
          "scattergeo": [
           {
            "marker": {
             "colorbar": {
              "outlinewidth": 0,
              "ticks": ""
             }
            },
            "type": "scattergeo"
           }
          ],
          "scattergl": [
           {
            "marker": {
             "colorbar": {
              "outlinewidth": 0,
              "ticks": ""
             }
            },
            "type": "scattergl"
           }
          ],
          "scattermapbox": [
           {
            "marker": {
             "colorbar": {
              "outlinewidth": 0,
              "ticks": ""
             }
            },
            "type": "scattermapbox"
           }
          ],
          "scatterpolar": [
           {
            "marker": {
             "colorbar": {
              "outlinewidth": 0,
              "ticks": ""
             }
            },
            "type": "scatterpolar"
           }
          ],
          "scatterpolargl": [
           {
            "marker": {
             "colorbar": {
              "outlinewidth": 0,
              "ticks": ""
             }
            },
            "type": "scatterpolargl"
           }
          ],
          "scatterternary": [
           {
            "marker": {
             "colorbar": {
              "outlinewidth": 0,
              "ticks": ""
             }
            },
            "type": "scatterternary"
           }
          ],
          "surface": [
           {
            "colorbar": {
             "outlinewidth": 0,
             "ticks": ""
            },
            "colorscale": [
             [
              0,
              "#0d0887"
             ],
             [
              0.1111111111111111,
              "#46039f"
             ],
             [
              0.2222222222222222,
              "#7201a8"
             ],
             [
              0.3333333333333333,
              "#9c179e"
             ],
             [
              0.4444444444444444,
              "#bd3786"
             ],
             [
              0.5555555555555556,
              "#d8576b"
             ],
             [
              0.6666666666666666,
              "#ed7953"
             ],
             [
              0.7777777777777778,
              "#fb9f3a"
             ],
             [
              0.8888888888888888,
              "#fdca26"
             ],
             [
              1,
              "#f0f921"
             ]
            ],
            "type": "surface"
           }
          ],
          "table": [
           {
            "cells": {
             "fill": {
              "color": "#EBF0F8"
             },
             "line": {
              "color": "white"
             }
            },
            "header": {
             "fill": {
              "color": "#C8D4E3"
             },
             "line": {
              "color": "white"
             }
            },
            "type": "table"
           }
          ]
         },
         "layout": {
          "annotationdefaults": {
           "arrowcolor": "#2a3f5f",
           "arrowhead": 0,
           "arrowwidth": 1
          },
          "autotypenumbers": "strict",
          "coloraxis": {
           "colorbar": {
            "outlinewidth": 0,
            "ticks": ""
           }
          },
          "colorscale": {
           "diverging": [
            [
             0,
             "#8e0152"
            ],
            [
             0.1,
             "#c51b7d"
            ],
            [
             0.2,
             "#de77ae"
            ],
            [
             0.3,
             "#f1b6da"
            ],
            [
             0.4,
             "#fde0ef"
            ],
            [
             0.5,
             "#f7f7f7"
            ],
            [
             0.6,
             "#e6f5d0"
            ],
            [
             0.7,
             "#b8e186"
            ],
            [
             0.8,
             "#7fbc41"
            ],
            [
             0.9,
             "#4d9221"
            ],
            [
             1,
             "#276419"
            ]
           ],
           "sequential": [
            [
             0,
             "#0d0887"
            ],
            [
             0.1111111111111111,
             "#46039f"
            ],
            [
             0.2222222222222222,
             "#7201a8"
            ],
            [
             0.3333333333333333,
             "#9c179e"
            ],
            [
             0.4444444444444444,
             "#bd3786"
            ],
            [
             0.5555555555555556,
             "#d8576b"
            ],
            [
             0.6666666666666666,
             "#ed7953"
            ],
            [
             0.7777777777777778,
             "#fb9f3a"
            ],
            [
             0.8888888888888888,
             "#fdca26"
            ],
            [
             1,
             "#f0f921"
            ]
           ],
           "sequentialminus": [
            [
             0,
             "#0d0887"
            ],
            [
             0.1111111111111111,
             "#46039f"
            ],
            [
             0.2222222222222222,
             "#7201a8"
            ],
            [
             0.3333333333333333,
             "#9c179e"
            ],
            [
             0.4444444444444444,
             "#bd3786"
            ],
            [
             0.5555555555555556,
             "#d8576b"
            ],
            [
             0.6666666666666666,
             "#ed7953"
            ],
            [
             0.7777777777777778,
             "#fb9f3a"
            ],
            [
             0.8888888888888888,
             "#fdca26"
            ],
            [
             1,
             "#f0f921"
            ]
           ]
          },
          "colorway": [
           "#636efa",
           "#EF553B",
           "#00cc96",
           "#ab63fa",
           "#FFA15A",
           "#19d3f3",
           "#FF6692",
           "#B6E880",
           "#FF97FF",
           "#FECB52"
          ],
          "font": {
           "color": "#2a3f5f"
          },
          "geo": {
           "bgcolor": "white",
           "lakecolor": "white",
           "landcolor": "#E5ECF6",
           "showlakes": true,
           "showland": true,
           "subunitcolor": "white"
          },
          "hoverlabel": {
           "align": "left"
          },
          "hovermode": "closest",
          "mapbox": {
           "style": "light"
          },
          "paper_bgcolor": "white",
          "plot_bgcolor": "#E5ECF6",
          "polar": {
           "angularaxis": {
            "gridcolor": "white",
            "linecolor": "white",
            "ticks": ""
           },
           "bgcolor": "#E5ECF6",
           "radialaxis": {
            "gridcolor": "white",
            "linecolor": "white",
            "ticks": ""
           }
          },
          "scene": {
           "xaxis": {
            "backgroundcolor": "#E5ECF6",
            "gridcolor": "white",
            "gridwidth": 2,
            "linecolor": "white",
            "showbackground": true,
            "ticks": "",
            "zerolinecolor": "white"
           },
           "yaxis": {
            "backgroundcolor": "#E5ECF6",
            "gridcolor": "white",
            "gridwidth": 2,
            "linecolor": "white",
            "showbackground": true,
            "ticks": "",
            "zerolinecolor": "white"
           },
           "zaxis": {
            "backgroundcolor": "#E5ECF6",
            "gridcolor": "white",
            "gridwidth": 2,
            "linecolor": "white",
            "showbackground": true,
            "ticks": "",
            "zerolinecolor": "white"
           }
          },
          "shapedefaults": {
           "line": {
            "color": "#2a3f5f"
           }
          },
          "ternary": {
           "aaxis": {
            "gridcolor": "white",
            "linecolor": "white",
            "ticks": ""
           },
           "baxis": {
            "gridcolor": "white",
            "linecolor": "white",
            "ticks": ""
           },
           "bgcolor": "#E5ECF6",
           "caxis": {
            "gridcolor": "white",
            "linecolor": "white",
            "ticks": ""
           }
          },
          "title": {
           "x": 0.05
          },
          "xaxis": {
           "automargin": true,
           "gridcolor": "white",
           "linecolor": "white",
           "ticks": "",
           "title": {
            "standoff": 15
           },
           "zerolinecolor": "white",
           "zerolinewidth": 2
          },
          "yaxis": {
           "automargin": true,
           "gridcolor": "white",
           "linecolor": "white",
           "ticks": "",
           "title": {
            "standoff": 15
           },
           "zerolinecolor": "white",
           "zerolinewidth": 2
          }
         }
        },
        "xaxis": {
         "anchor": "y",
         "domain": [
          0,
          1
         ],
         "title": {
          "text": "x"
         }
        },
        "yaxis": {
         "anchor": "x",
         "domain": [
          0,
          1
         ],
         "title": {
          "text": "y"
         }
        }
       }
      }
     },
     "metadata": {},
     "output_type": "display_data"
    }
   ],
   "source": [
    "fig = px.scatter(x=test_result.Day, y=test_result.GrocerySales_lr)\n",
    "fig.show()"
   ]
  },
  {
   "cell_type": "code",
   "execution_count": 49,
   "metadata": {},
   "outputs": [
    {
     "data": {
      "application/vnd.plotly.v1+json": {
       "config": {
        "plotlyServerURL": "https://plot.ly"
       },
       "data": [
        {
         "hovertemplate": "x=%{x}<br>y=%{y}<extra></extra>",
         "legendgroup": "",
         "marker": {
          "color": "#636efa",
          "symbol": "circle"
         },
         "mode": "markers",
         "name": "",
         "orientation": "v",
         "showlegend": false,
         "type": "scatter",
         "x": [
          693,
          694,
          695,
          696,
          697,
          698,
          699,
          700,
          701,
          702,
          703,
          704,
          705,
          706,
          707,
          708,
          709,
          710,
          711,
          712,
          713,
          714,
          715,
          716,
          717,
          718,
          719,
          720,
          721,
          722,
          723,
          724,
          725,
          726,
          727,
          728,
          729,
          730,
          731,
          732,
          733,
          734,
          735,
          736,
          737,
          738,
          739,
          740,
          741,
          742,
          743,
          744,
          745,
          746,
          747,
          748,
          749,
          750,
          751,
          752,
          753,
          754,
          755,
          756,
          757,
          758,
          759,
          760,
          761,
          762,
          763,
          764,
          765,
          766,
          767,
          768,
          769,
          770,
          771,
          772,
          773,
          774,
          775,
          776,
          777,
          778,
          779,
          780,
          781,
          782
         ],
         "xaxis": "x",
         "y": [
          8173.123093062595,
          8181.649420956438,
          8190.175748850281,
          8198.702076744123,
          8207.228404637966,
          8215.754732531808,
          8224.281060425652,
          8232.807388319494,
          8241.333716213338,
          8249.86004410718,
          8258.386372001023,
          8266.912699894865,
          8275.439027788709,
          8283.96535568255,
          8292.491683576394,
          8301.018011470236,
          8309.54433936408,
          8318.070667257922,
          8326.596995151765,
          8335.123323045607,
          8343.649650939451,
          8352.175978833293,
          8360.702306727137,
          8369.228634620978,
          8377.754962514822,
          8386.281290408664,
          8394.807618302508,
          8403.33394619635,
          8411.860274090192,
          8420.386601984035,
          8428.912929877877,
          8437.43925777172,
          8445.965585665563,
          8454.491913559406,
          8463.018241453248,
          8471.544569347092,
          8480.070897240934,
          8488.597225134778,
          8497.12355302862,
          8505.649880922463,
          8514.176208816305,
          8522.702536710149,
          8531.22886460399,
          8539.755192497834,
          8548.281520391676,
          8556.80784828552,
          8565.334176179362,
          8573.860504073205,
          8582.386831967047,
          8590.913159860891,
          8599.439487754733,
          8607.965815648577,
          8616.492143542418,
          8625.018471436262,
          8633.544799330104,
          8642.071127223948,
          8650.59745511779,
          8659.123783011633,
          8667.650110905475,
          8676.176438799319,
          8684.70276669316,
          8693.229094587005,
          8701.755422480846,
          8710.281750374688,
          8718.808078268532,
          8727.334406162374,
          8735.860734056218,
          8744.38706195006,
          8752.913389843903,
          8761.439717737745,
          8769.966045631589,
          8778.49237352543,
          8787.018701419274,
          8795.545029313116,
          8804.07135720696,
          8812.597685100802,
          8821.124012994645,
          8829.650340888487,
          8838.176668782331,
          8846.702996676173,
          8855.229324570017,
          8863.755652463858,
          8872.281980357702,
          8880.808308251544,
          8889.334636145388,
          8897.86096403923,
          8906.387291933073,
          8914.913619826915,
          8923.439947720759,
          8931.9662756146
         ],
         "yaxis": "y"
        }
       ],
       "layout": {
        "legend": {
         "tracegroupgap": 0
        },
        "margin": {
         "t": 60
        },
        "template": {
         "data": {
          "bar": [
           {
            "error_x": {
             "color": "#2a3f5f"
            },
            "error_y": {
             "color": "#2a3f5f"
            },
            "marker": {
             "line": {
              "color": "#E5ECF6",
              "width": 0.5
             },
             "pattern": {
              "fillmode": "overlay",
              "size": 10,
              "solidity": 0.2
             }
            },
            "type": "bar"
           }
          ],
          "barpolar": [
           {
            "marker": {
             "line": {
              "color": "#E5ECF6",
              "width": 0.5
             },
             "pattern": {
              "fillmode": "overlay",
              "size": 10,
              "solidity": 0.2
             }
            },
            "type": "barpolar"
           }
          ],
          "carpet": [
           {
            "aaxis": {
             "endlinecolor": "#2a3f5f",
             "gridcolor": "white",
             "linecolor": "white",
             "minorgridcolor": "white",
             "startlinecolor": "#2a3f5f"
            },
            "baxis": {
             "endlinecolor": "#2a3f5f",
             "gridcolor": "white",
             "linecolor": "white",
             "minorgridcolor": "white",
             "startlinecolor": "#2a3f5f"
            },
            "type": "carpet"
           }
          ],
          "choropleth": [
           {
            "colorbar": {
             "outlinewidth": 0,
             "ticks": ""
            },
            "type": "choropleth"
           }
          ],
          "contour": [
           {
            "colorbar": {
             "outlinewidth": 0,
             "ticks": ""
            },
            "colorscale": [
             [
              0,
              "#0d0887"
             ],
             [
              0.1111111111111111,
              "#46039f"
             ],
             [
              0.2222222222222222,
              "#7201a8"
             ],
             [
              0.3333333333333333,
              "#9c179e"
             ],
             [
              0.4444444444444444,
              "#bd3786"
             ],
             [
              0.5555555555555556,
              "#d8576b"
             ],
             [
              0.6666666666666666,
              "#ed7953"
             ],
             [
              0.7777777777777778,
              "#fb9f3a"
             ],
             [
              0.8888888888888888,
              "#fdca26"
             ],
             [
              1,
              "#f0f921"
             ]
            ],
            "type": "contour"
           }
          ],
          "contourcarpet": [
           {
            "colorbar": {
             "outlinewidth": 0,
             "ticks": ""
            },
            "type": "contourcarpet"
           }
          ],
          "heatmap": [
           {
            "colorbar": {
             "outlinewidth": 0,
             "ticks": ""
            },
            "colorscale": [
             [
              0,
              "#0d0887"
             ],
             [
              0.1111111111111111,
              "#46039f"
             ],
             [
              0.2222222222222222,
              "#7201a8"
             ],
             [
              0.3333333333333333,
              "#9c179e"
             ],
             [
              0.4444444444444444,
              "#bd3786"
             ],
             [
              0.5555555555555556,
              "#d8576b"
             ],
             [
              0.6666666666666666,
              "#ed7953"
             ],
             [
              0.7777777777777778,
              "#fb9f3a"
             ],
             [
              0.8888888888888888,
              "#fdca26"
             ],
             [
              1,
              "#f0f921"
             ]
            ],
            "type": "heatmap"
           }
          ],
          "heatmapgl": [
           {
            "colorbar": {
             "outlinewidth": 0,
             "ticks": ""
            },
            "colorscale": [
             [
              0,
              "#0d0887"
             ],
             [
              0.1111111111111111,
              "#46039f"
             ],
             [
              0.2222222222222222,
              "#7201a8"
             ],
             [
              0.3333333333333333,
              "#9c179e"
             ],
             [
              0.4444444444444444,
              "#bd3786"
             ],
             [
              0.5555555555555556,
              "#d8576b"
             ],
             [
              0.6666666666666666,
              "#ed7953"
             ],
             [
              0.7777777777777778,
              "#fb9f3a"
             ],
             [
              0.8888888888888888,
              "#fdca26"
             ],
             [
              1,
              "#f0f921"
             ]
            ],
            "type": "heatmapgl"
           }
          ],
          "histogram": [
           {
            "marker": {
             "pattern": {
              "fillmode": "overlay",
              "size": 10,
              "solidity": 0.2
             }
            },
            "type": "histogram"
           }
          ],
          "histogram2d": [
           {
            "colorbar": {
             "outlinewidth": 0,
             "ticks": ""
            },
            "colorscale": [
             [
              0,
              "#0d0887"
             ],
             [
              0.1111111111111111,
              "#46039f"
             ],
             [
              0.2222222222222222,
              "#7201a8"
             ],
             [
              0.3333333333333333,
              "#9c179e"
             ],
             [
              0.4444444444444444,
              "#bd3786"
             ],
             [
              0.5555555555555556,
              "#d8576b"
             ],
             [
              0.6666666666666666,
              "#ed7953"
             ],
             [
              0.7777777777777778,
              "#fb9f3a"
             ],
             [
              0.8888888888888888,
              "#fdca26"
             ],
             [
              1,
              "#f0f921"
             ]
            ],
            "type": "histogram2d"
           }
          ],
          "histogram2dcontour": [
           {
            "colorbar": {
             "outlinewidth": 0,
             "ticks": ""
            },
            "colorscale": [
             [
              0,
              "#0d0887"
             ],
             [
              0.1111111111111111,
              "#46039f"
             ],
             [
              0.2222222222222222,
              "#7201a8"
             ],
             [
              0.3333333333333333,
              "#9c179e"
             ],
             [
              0.4444444444444444,
              "#bd3786"
             ],
             [
              0.5555555555555556,
              "#d8576b"
             ],
             [
              0.6666666666666666,
              "#ed7953"
             ],
             [
              0.7777777777777778,
              "#fb9f3a"
             ],
             [
              0.8888888888888888,
              "#fdca26"
             ],
             [
              1,
              "#f0f921"
             ]
            ],
            "type": "histogram2dcontour"
           }
          ],
          "mesh3d": [
           {
            "colorbar": {
             "outlinewidth": 0,
             "ticks": ""
            },
            "type": "mesh3d"
           }
          ],
          "parcoords": [
           {
            "line": {
             "colorbar": {
              "outlinewidth": 0,
              "ticks": ""
             }
            },
            "type": "parcoords"
           }
          ],
          "pie": [
           {
            "automargin": true,
            "type": "pie"
           }
          ],
          "scatter": [
           {
            "fillpattern": {
             "fillmode": "overlay",
             "size": 10,
             "solidity": 0.2
            },
            "type": "scatter"
           }
          ],
          "scatter3d": [
           {
            "line": {
             "colorbar": {
              "outlinewidth": 0,
              "ticks": ""
             }
            },
            "marker": {
             "colorbar": {
              "outlinewidth": 0,
              "ticks": ""
             }
            },
            "type": "scatter3d"
           }
          ],
          "scattercarpet": [
           {
            "marker": {
             "colorbar": {
              "outlinewidth": 0,
              "ticks": ""
             }
            },
            "type": "scattercarpet"
           }
          ],
          "scattergeo": [
           {
            "marker": {
             "colorbar": {
              "outlinewidth": 0,
              "ticks": ""
             }
            },
            "type": "scattergeo"
           }
          ],
          "scattergl": [
           {
            "marker": {
             "colorbar": {
              "outlinewidth": 0,
              "ticks": ""
             }
            },
            "type": "scattergl"
           }
          ],
          "scattermapbox": [
           {
            "marker": {
             "colorbar": {
              "outlinewidth": 0,
              "ticks": ""
             }
            },
            "type": "scattermapbox"
           }
          ],
          "scatterpolar": [
           {
            "marker": {
             "colorbar": {
              "outlinewidth": 0,
              "ticks": ""
             }
            },
            "type": "scatterpolar"
           }
          ],
          "scatterpolargl": [
           {
            "marker": {
             "colorbar": {
              "outlinewidth": 0,
              "ticks": ""
             }
            },
            "type": "scatterpolargl"
           }
          ],
          "scatterternary": [
           {
            "marker": {
             "colorbar": {
              "outlinewidth": 0,
              "ticks": ""
             }
            },
            "type": "scatterternary"
           }
          ],
          "surface": [
           {
            "colorbar": {
             "outlinewidth": 0,
             "ticks": ""
            },
            "colorscale": [
             [
              0,
              "#0d0887"
             ],
             [
              0.1111111111111111,
              "#46039f"
             ],
             [
              0.2222222222222222,
              "#7201a8"
             ],
             [
              0.3333333333333333,
              "#9c179e"
             ],
             [
              0.4444444444444444,
              "#bd3786"
             ],
             [
              0.5555555555555556,
              "#d8576b"
             ],
             [
              0.6666666666666666,
              "#ed7953"
             ],
             [
              0.7777777777777778,
              "#fb9f3a"
             ],
             [
              0.8888888888888888,
              "#fdca26"
             ],
             [
              1,
              "#f0f921"
             ]
            ],
            "type": "surface"
           }
          ],
          "table": [
           {
            "cells": {
             "fill": {
              "color": "#EBF0F8"
             },
             "line": {
              "color": "white"
             }
            },
            "header": {
             "fill": {
              "color": "#C8D4E3"
             },
             "line": {
              "color": "white"
             }
            },
            "type": "table"
           }
          ]
         },
         "layout": {
          "annotationdefaults": {
           "arrowcolor": "#2a3f5f",
           "arrowhead": 0,
           "arrowwidth": 1
          },
          "autotypenumbers": "strict",
          "coloraxis": {
           "colorbar": {
            "outlinewidth": 0,
            "ticks": ""
           }
          },
          "colorscale": {
           "diverging": [
            [
             0,
             "#8e0152"
            ],
            [
             0.1,
             "#c51b7d"
            ],
            [
             0.2,
             "#de77ae"
            ],
            [
             0.3,
             "#f1b6da"
            ],
            [
             0.4,
             "#fde0ef"
            ],
            [
             0.5,
             "#f7f7f7"
            ],
            [
             0.6,
             "#e6f5d0"
            ],
            [
             0.7,
             "#b8e186"
            ],
            [
             0.8,
             "#7fbc41"
            ],
            [
             0.9,
             "#4d9221"
            ],
            [
             1,
             "#276419"
            ]
           ],
           "sequential": [
            [
             0,
             "#0d0887"
            ],
            [
             0.1111111111111111,
             "#46039f"
            ],
            [
             0.2222222222222222,
             "#7201a8"
            ],
            [
             0.3333333333333333,
             "#9c179e"
            ],
            [
             0.4444444444444444,
             "#bd3786"
            ],
            [
             0.5555555555555556,
             "#d8576b"
            ],
            [
             0.6666666666666666,
             "#ed7953"
            ],
            [
             0.7777777777777778,
             "#fb9f3a"
            ],
            [
             0.8888888888888888,
             "#fdca26"
            ],
            [
             1,
             "#f0f921"
            ]
           ],
           "sequentialminus": [
            [
             0,
             "#0d0887"
            ],
            [
             0.1111111111111111,
             "#46039f"
            ],
            [
             0.2222222222222222,
             "#7201a8"
            ],
            [
             0.3333333333333333,
             "#9c179e"
            ],
            [
             0.4444444444444444,
             "#bd3786"
            ],
            [
             0.5555555555555556,
             "#d8576b"
            ],
            [
             0.6666666666666666,
             "#ed7953"
            ],
            [
             0.7777777777777778,
             "#fb9f3a"
            ],
            [
             0.8888888888888888,
             "#fdca26"
            ],
            [
             1,
             "#f0f921"
            ]
           ]
          },
          "colorway": [
           "#636efa",
           "#EF553B",
           "#00cc96",
           "#ab63fa",
           "#FFA15A",
           "#19d3f3",
           "#FF6692",
           "#B6E880",
           "#FF97FF",
           "#FECB52"
          ],
          "font": {
           "color": "#2a3f5f"
          },
          "geo": {
           "bgcolor": "white",
           "lakecolor": "white",
           "landcolor": "#E5ECF6",
           "showlakes": true,
           "showland": true,
           "subunitcolor": "white"
          },
          "hoverlabel": {
           "align": "left"
          },
          "hovermode": "closest",
          "mapbox": {
           "style": "light"
          },
          "paper_bgcolor": "white",
          "plot_bgcolor": "#E5ECF6",
          "polar": {
           "angularaxis": {
            "gridcolor": "white",
            "linecolor": "white",
            "ticks": ""
           },
           "bgcolor": "#E5ECF6",
           "radialaxis": {
            "gridcolor": "white",
            "linecolor": "white",
            "ticks": ""
           }
          },
          "scene": {
           "xaxis": {
            "backgroundcolor": "#E5ECF6",
            "gridcolor": "white",
            "gridwidth": 2,
            "linecolor": "white",
            "showbackground": true,
            "ticks": "",
            "zerolinecolor": "white"
           },
           "yaxis": {
            "backgroundcolor": "#E5ECF6",
            "gridcolor": "white",
            "gridwidth": 2,
            "linecolor": "white",
            "showbackground": true,
            "ticks": "",
            "zerolinecolor": "white"
           },
           "zaxis": {
            "backgroundcolor": "#E5ECF6",
            "gridcolor": "white",
            "gridwidth": 2,
            "linecolor": "white",
            "showbackground": true,
            "ticks": "",
            "zerolinecolor": "white"
           }
          },
          "shapedefaults": {
           "line": {
            "color": "#2a3f5f"
           }
          },
          "ternary": {
           "aaxis": {
            "gridcolor": "white",
            "linecolor": "white",
            "ticks": ""
           },
           "baxis": {
            "gridcolor": "white",
            "linecolor": "white",
            "ticks": ""
           },
           "bgcolor": "#E5ECF6",
           "caxis": {
            "gridcolor": "white",
            "linecolor": "white",
            "ticks": ""
           }
          },
          "title": {
           "x": 0.05
          },
          "xaxis": {
           "automargin": true,
           "gridcolor": "white",
           "linecolor": "white",
           "ticks": "",
           "title": {
            "standoff": 15
           },
           "zerolinecolor": "white",
           "zerolinewidth": 2
          },
          "yaxis": {
           "automargin": true,
           "gridcolor": "white",
           "linecolor": "white",
           "ticks": "",
           "title": {
            "standoff": 15
           },
           "zerolinecolor": "white",
           "zerolinewidth": 2
          }
         }
        },
        "xaxis": {
         "anchor": "y",
         "domain": [
          0,
          1
         ],
         "title": {
          "text": "x"
         }
        },
        "yaxis": {
         "anchor": "x",
         "domain": [
          0,
          1
         ],
         "title": {
          "text": "y"
         }
        }
       }
      }
     },
     "metadata": {},
     "output_type": "display_data"
    }
   ],
   "source": [
    "fig = px.scatter(x=test_result.Day, y=test_result.GrocerySales_lrs)\n",
    "fig.show()"
   ]
  },
  {
   "attachments": {},
   "cell_type": "markdown",
   "metadata": {},
   "source": [
    "### The End!!!"
   ]
  },
  {
   "attachments": {},
   "cell_type": "markdown",
   "metadata": {},
   "source": []
  }
 ],
 "metadata": {
  "kernelspec": {
   "display_name": "Python 3",
   "language": "python",
   "name": "python3"
  },
  "language_info": {
   "codemirror_mode": {
    "name": "ipython",
    "version": 3
   },
   "file_extension": ".py",
   "mimetype": "text/x-python",
   "name": "python",
   "nbconvert_exporter": "python",
   "pygments_lexer": "ipython3",
   "version": "3.9.16"
  }
 },
 "nbformat": 4,
 "nbformat_minor": 4
}
